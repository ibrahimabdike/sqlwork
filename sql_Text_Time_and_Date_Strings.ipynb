{
  "nbformat": 4,
  "nbformat_minor": 0,
  "metadata": {
    "colab": {
      "name": "sql_Text_Time_and_Date_Strings.ipynb",
      "version": "0.3.2",
      "provenance": [],
      "include_colab_link": true
    },
    "kernelspec": {
      "name": "python3",
      "display_name": "Python 3"
    }
  },
  "cells": [
    {
      "cell_type": "markdown",
      "metadata": {
        "id": "view-in-github",
        "colab_type": "text"
      },
      "source": [
        "<a href=\"https://colab.research.google.com/github/yahyalito/sqlwork/blob/master/sql_Text_Time_and_Date_Strings.ipynb\" target=\"_parent\"><img src=\"https://colab.research.google.com/assets/colab-badge.svg\" alt=\"Open In Colab\"/></a>"
      ]
    },
    {
      "cell_type": "code",
      "metadata": {
        "id": "dp_uvTKErUdh",
        "colab_type": "code",
        "colab": {
          "base_uri": "https://localhost:8080/",
          "height": 34
        },
        "outputId": "18e22cf8-5c5c-4cdc-8b69-134913f0dc8d"
      },
      "source": [
        "%load_ext sql\n",
        "%sql sqlite://"
      ],
      "execution_count": 1,
      "outputs": [
        {
          "output_type": "execute_result",
          "data": {
            "text/plain": [
              "'Connected: @None'"
            ]
          },
          "metadata": {
            "tags": []
          },
          "execution_count": 1
        }
      ]
    },
    {
      "cell_type": "code",
      "metadata": {
        "id": "QevtCzHHvzDo",
        "colab_type": "code",
        "colab": {}
      },
      "source": [
        "import pandas as pd"
      ],
      "execution_count": 0,
      "outputs": []
    },
    {
      "cell_type": "code",
      "metadata": {
        "id": "L3qbbJ9Vv6PY",
        "colab_type": "code",
        "colab": {
          "base_uri": "https://localhost:8080/",
          "height": 601
        },
        "outputId": "718c5b2e-e065-4de2-d2da-36be728ca788"
      },
      "source": [
        "# Loading our lighting dataset  from the respective CSV files \n",
        "with open('lighting_dataset.csv','r') as f:\n",
        "    Lighting = pd.read_csv(f, index_col=0, encoding='utf-8')\n",
        "%sql DROP TABLE if EXISTS LightingDataset;\n",
        "%sql PERSIST LightingDataset;\n",
        "%sql SELECT * FROM LightingDataset LIMIT 5;"
      ],
      "execution_count": 4,
      "outputs": [
        {
          "output_type": "stream",
          "text": [
            " * sqlite://\n",
            "Done.\n",
            " * sqlite://\n",
            " * sqlite://\n",
            "Done.\n"
          ],
          "name": "stdout"
        },
        {
          "output_type": "execute_result",
          "data": {
            "text/html": [
              "<table>\n",
              "    <tr>\n",
              "        <th>District</th>\n",
              "        <th>Rural_/_Urban</th>\n",
              "        <th>%_of_households_with_electricty</th>\n",
              "        <th>%_of_households_with_Pressure_Lamp</th>\n",
              "        <th>%_of_households_with_Lantern</th>\n",
              "        <th>%_of_households_with_Tin_Lamp</th>\n",
              "        <th>%_of_households_with_Gas_Lamp</th>\n",
              "        <th>%_of_households_with_Fuel_wood</th>\n",
              "        <th>%_of_households_with_Solar</th>\n",
              "        <th>%_of_households_with_Other</th>\n",
              "        <th>Housheolds</th>\n",
              "        <th>No_of_households_with_electricity</th>\n",
              "        <th>No_of_households_with_Pressure_Lamp</th>\n",
              "        <th>No_of_households_with_Lantern</th>\n",
              "        <th>No_of_households_with_Tin_Lamp</th>\n",
              "        <th>No_of_households_with_Gas_Lamp</th>\n",
              "        <th>No_of_households_with_Fuel_wood</th>\n",
              "        <th>No_of_households_with_Solar</th>\n",
              "        <th>No_of_households_with_Other</th>\n",
              "        <th>Province</th>\n",
              "        <th>County</th>\n",
              "        <th>Census_Table</th>\n",
              "        <th>MTEF</th>\n",
              "        <th>MTP</th>\n",
              "        <th>Longtitude</th>\n",
              "        <th>Latitude</th>\n",
              "        <th>Geolocation</th>\n",
              "        <th>OBJECTID</th>\n",
              "    </tr>\n",
              "    <tr>\n",
              "        <td>MERU CENTRAL</td>\n",
              "        <td>Urban</td>\n",
              "        <td>None</td>\n",
              "        <td>None</td>\n",
              "        <td>None</td>\n",
              "        <td>None</td>\n",
              "        <td>None</td>\n",
              "        <td>None</td>\n",
              "        <td>None</td>\n",
              "        <td>None</td>\n",
              "        <td>0</td>\n",
              "        <td>0</td>\n",
              "        <td>0</td>\n",
              "        <td>0</td>\n",
              "        <td>0</td>\n",
              "        <td>0</td>\n",
              "        <td>0</td>\n",
              "        <td>0</td>\n",
              "        <td>0</td>\n",
              "        <td>EASTERN</td>\n",
              "        <td>Meru</td>\n",
              "        <td>Table 10b: Urban Households by main type of Lighting Fuel</td>\n",
              "        <td>Physical Infrastructure</td>\n",
              "        <td>Energy</td>\n",
              "        <td>37.58330732</td>\n",
              "        <td>0.001443681</td>\n",
              "        <td>(0.001443681, 37.58330732)</td>\n",
              "        <td>0</td>\n",
              "    </tr>\n",
              "    <tr>\n",
              "        <td>KAKAMEGA SOUTH</td>\n",
              "        <td>Urban</td>\n",
              "        <td>None</td>\n",
              "        <td>None</td>\n",
              "        <td>None</td>\n",
              "        <td>None</td>\n",
              "        <td>None</td>\n",
              "        <td>None</td>\n",
              "        <td>None</td>\n",
              "        <td>None</td>\n",
              "        <td>0</td>\n",
              "        <td>0</td>\n",
              "        <td>0</td>\n",
              "        <td>0</td>\n",
              "        <td>0</td>\n",
              "        <td>0</td>\n",
              "        <td>0</td>\n",
              "        <td>0</td>\n",
              "        <td>0</td>\n",
              "        <td>WESTERN</td>\n",
              "        <td>Kakamega</td>\n",
              "        <td>Table 10a: Rural Households by main type of Lighting Fuel</td>\n",
              "        <td>Physical Infrastructure</td>\n",
              "        <td>Energy</td>\n",
              "        <td>34.7077479</td>\n",
              "        <td>0.190561619</td>\n",
              "        <td>(0.190561619, 34.7077479)</td>\n",
              "        <td>1</td>\n",
              "    </tr>\n",
              "    <tr>\n",
              "        <td>NYANDARUA NORTH</td>\n",
              "        <td>Urban</td>\n",
              "        <td>6.3%</td>\n",
              "        <td>0.6%</td>\n",
              "        <td>51.6%</td>\n",
              "        <td>32.1%</td>\n",
              "        <td>0.8%</td>\n",
              "        <td>0.4%</td>\n",
              "        <td>7.9%</td>\n",
              "        <td>0.2%</td>\n",
              "        <td>52503</td>\n",
              "        <td>3332</td>\n",
              "        <td>302</td>\n",
              "        <td>27102</td>\n",
              "        <td>16865</td>\n",
              "        <td>395</td>\n",
              "        <td>214</td>\n",
              "        <td>4173</td>\n",
              "        <td>120</td>\n",
              "        <td>CENTRAL</td>\n",
              "        <td>Nyandarua</td>\n",
              "        <td>Table 10b: Urban Households by main type of Lighting Fuel</td>\n",
              "        <td>Physical Infrastructure</td>\n",
              "        <td>Energy</td>\n",
              "        <td>36.42343108</td>\n",
              "        <td>-0.144560572</td>\n",
              "        <td>(-0.144560572, 36.42343108)</td>\n",
              "        <td>2</td>\n",
              "    </tr>\n",
              "    <tr>\n",
              "        <td>NYANDARUA SOUTH</td>\n",
              "        <td>Urban</td>\n",
              "        <td>6%</td>\n",
              "        <td>0.6%</td>\n",
              "        <td>62.8%</td>\n",
              "        <td>24.3%</td>\n",
              "        <td>0.6%</td>\n",
              "        <td>0.2%</td>\n",
              "        <td>5.3%</td>\n",
              "        <td>0.1%</td>\n",
              "        <td>61936</td>\n",
              "        <td>3741</td>\n",
              "        <td>387</td>\n",
              "        <td>38900</td>\n",
              "        <td>15077</td>\n",
              "        <td>384</td>\n",
              "        <td>103</td>\n",
              "        <td>3256</td>\n",
              "        <td>88</td>\n",
              "        <td>CENTRAL</td>\n",
              "        <td>Nyandarua</td>\n",
              "        <td>Table 10b: Urban Households by main type of Lighting Fuel</td>\n",
              "        <td>Physical Infrastructure</td>\n",
              "        <td>Energy</td>\n",
              "        <td>36.55651343</td>\n",
              "        <td>-0.533045224</td>\n",
              "        <td>(-0.533045224, 36.55651343)</td>\n",
              "        <td>3</td>\n",
              "    </tr>\n",
              "    <tr>\n",
              "        <td>NYERI NORTH</td>\n",
              "        <td>Urban</td>\n",
              "        <td>14.5%</td>\n",
              "        <td>1%</td>\n",
              "        <td>41.4%</td>\n",
              "        <td>34.3%</td>\n",
              "        <td>0.6%</td>\n",
              "        <td>0.8%</td>\n",
              "        <td>7.2%</td>\n",
              "        <td>0.2%</td>\n",
              "        <td>81307</td>\n",
              "        <td>11774</td>\n",
              "        <td>775</td>\n",
              "        <td>33686</td>\n",
              "        <td>27884</td>\n",
              "        <td>514</td>\n",
              "        <td>651</td>\n",
              "        <td>5868</td>\n",
              "        <td>155</td>\n",
              "        <td>CENTRAL</td>\n",
              "        <td>Nyeri</td>\n",
              "        <td>Table 10b: Urban Households by main type of Lighting Fuel</td>\n",
              "        <td>Physical Infrastructure</td>\n",
              "        <td>Energy</td>\n",
              "        <td>36.9811441</td>\n",
              "        <td>-0.266587082</td>\n",
              "        <td>(-0.266587082, 36.9811441)</td>\n",
              "        <td>4</td>\n",
              "    </tr>\n",
              "</table>"
            ],
            "text/plain": [
              "[('MERU CENTRAL', 'Urban', None, None, None, None, None, None, None, None, 0, 0, 0, 0, 0, 0, 0, 0, 0, 'EASTERN', 'Meru', 'Table 10b: Urban Households by main type of Lighting Fuel', 'Physical Infrastructure', 'Energy', 37.58330732, 0.001443681, '(0.001443681, 37.58330732)', 0),\n",
              " ('KAKAMEGA SOUTH', 'Urban', None, None, None, None, None, None, None, None, 0, 0, 0, 0, 0, 0, 0, 0, 0, 'WESTERN', 'Kakamega', 'Table 10a: Rural Households by main type of Lighting Fuel', 'Physical Infrastructure', 'Energy', 34.7077479, 0.190561619, '(0.190561619, 34.7077479)', 1),\n",
              " ('NYANDARUA NORTH', 'Urban', '6.3%', '0.6%', '51.6%', '32.1%', '0.8%', '0.4%', '7.9%', '0.2%', 52503, 3332, 302, 27102, 16865, 395, 214, 4173, 120, 'CENTRAL', 'Nyandarua', 'Table 10b: Urban Households by main type of Lighting Fuel', 'Physical Infrastructure', 'Energy', 36.42343108, -0.144560572, '(-0.144560572, 36.42343108)', 2),\n",
              " ('NYANDARUA SOUTH', 'Urban', '6%', '0.6%', '62.8%', '24.3%', '0.6%', '0.2%', '5.3%', '0.1%', 61936, 3741, 387, 38900, 15077, 384, 103, 3256, 88, 'CENTRAL', 'Nyandarua', 'Table 10b: Urban Households by main type of Lighting Fuel', 'Physical Infrastructure', 'Energy', 36.55651343, -0.533045224, '(-0.533045224, 36.55651343)', 3),\n",
              " ('NYERI NORTH', 'Urban', '14.5%', '1%', '41.4%', '34.3%', '0.6%', '0.8%', '7.2%', '0.2%', 81307, 11774, 775, 33686, 27884, 514, 651, 5868, 155, 'CENTRAL', 'Nyeri', 'Table 10b: Urban Households by main type of Lighting Fuel', 'Physical Infrastructure', 'Energy', 36.9811441, -0.266587082, '(-0.266587082, 36.9811441)', 4)]"
            ]
          },
          "metadata": {
            "tags": []
          },
          "execution_count": 4
        }
      ]
    },
    {
      "cell_type": "code",
      "metadata": {
        "id": "j1V6lx4-wKVj",
        "colab_type": "code",
        "colab": {
          "base_uri": "https://localhost:8080/",
          "height": 321
        },
        "outputId": "453b80c2-d230-489e-d207-8f15ed9abcfa"
      },
      "source": [
        "# Loading our  dataset  from the respective CSV files \n",
        "with open('energy_mining_dataset.csv','r') as f:\n",
        "    EnergyMining = pd.read_csv(f, index_col=0, encoding='utf-8')\n",
        "%sql DROP TABLE if EXISTS EnergyMining;\n",
        "%sql PERSIST EnergyMining;\n",
        "%sql SELECT * FROM EnergyMining LIMIT 5;\n"
      ],
      "execution_count": 22,
      "outputs": [
        {
          "output_type": "stream",
          "text": [
            " * sqlite://\n",
            "Done.\n",
            " * sqlite://\n",
            " * sqlite://\n",
            "Done.\n"
          ],
          "name": "stdout"
        },
        {
          "output_type": "execute_result",
          "data": {
            "text/html": [
              "<table>\n",
              "    <tr>\n",
              "        <th>COUNTY</th>\n",
              "        <th>WARD</th>\n",
              "        <th>ZONE</th>\n",
              "        <th>PROJECT_NAME</th>\n",
              "        <th>STATUS</th>\n",
              "        <th>DATE</th>\n",
              "        <th>OBJECTID</th>\n",
              "    </tr>\n",
              "    <tr>\n",
              "        <td>Kisumu</td>\n",
              "        <td>West Kisumu</td>\n",
              "        <td>Huma market</td>\n",
              "        <td>Supply, installation &amp; commissioning of 8 No. 30m High mast flood lights </td>\n",
              "        <td>100 % Complete</td>\n",
              "        <td>May-31-2015</td>\n",
              "        <td>0</td>\n",
              "    </tr>\n",
              "    <tr>\n",
              "        <td>Kisumu</td>\n",
              "        <td>North west ksm</td>\n",
              "        <td>Daraja Mbili market</td>\n",
              "        <td>Supply, installation &amp; commissioning of 8 No. 30m High mast flood lights </td>\n",
              "        <td>100 % Complete</td>\n",
              "        <td>May-31-2015</td>\n",
              "        <td>1</td>\n",
              "    </tr>\n",
              "    <tr>\n",
              "        <td>Kisumu</td>\n",
              "        <td>West Seme</td>\n",
              "        <td>Akado market </td>\n",
              "        <td>Supply, installation &amp; commissioning of 8 No. 30m High mast flood lights </td>\n",
              "        <td>100 % Complete</td>\n",
              "        <td>May-31-2015</td>\n",
              "        <td>2</td>\n",
              "    </tr>\n",
              "    <tr>\n",
              "        <td>Kisumu</td>\n",
              "        <td>Kobura</td>\n",
              "        <td>Korowe market </td>\n",
              "        <td>Supply, installation &amp; commissioning of 8 No. 30m High mast flood lights </td>\n",
              "        <td>100 % Complete</td>\n",
              "        <td>May-31-2015</td>\n",
              "        <td>3</td>\n",
              "    </tr>\n",
              "    <tr>\n",
              "        <td>Kisumu</td>\n",
              "        <td>Kobura</td>\n",
              "        <td>Rabour market </td>\n",
              "        <td>Supply, installation &amp; commissioning of 8 No. 30m High mast flood lights </td>\n",
              "        <td>100 % Complete</td>\n",
              "        <td>May-31-2015</td>\n",
              "        <td>4</td>\n",
              "    </tr>\n",
              "</table>"
            ],
            "text/plain": [
              "[('Kisumu', 'West Kisumu', 'Huma market', 'Supply, installation & commissioning of 8 No. 30m High mast flood lights ', '100 % Complete', 'May-31-2015', 0),\n",
              " ('Kisumu', 'North west ksm', 'Daraja Mbili market', 'Supply, installation & commissioning of 8 No. 30m High mast flood lights ', '100 % Complete', 'May-31-2015', 1),\n",
              " ('Kisumu', 'West Seme', 'Akado market ', 'Supply, installation & commissioning of 8 No. 30m High mast flood lights ', '100 % Complete', 'May-31-2015', 2),\n",
              " ('Kisumu', 'Kobura', 'Korowe market ', 'Supply, installation & commissioning of 8 No. 30m High mast flood lights ', '100 % Complete', 'May-31-2015', 3),\n",
              " ('Kisumu', 'Kobura', 'Rabour market ', 'Supply, installation & commissioning of 8 No. 30m High mast flood lights ', '100 % Complete', 'May-31-2015', 4)]"
            ]
          },
          "metadata": {
            "tags": []
          },
          "execution_count": 22
        }
      ]
    },
    {
      "cell_type": "code",
      "metadata": {
        "id": "vtubdqHvwuf5",
        "colab_type": "code",
        "colab": {
          "base_uri": "https://localhost:8080/",
          "height": 480
        },
        "outputId": "88e5cd3b-b4fa-4be4-e5c9-b5f095d3d5d6"
      },
      "source": [
        "# Loading our  dataset  from the respective CSV files \n",
        "with open('government_appointments.csv','r') as f:\n",
        "    GovtAppointments = pd.read_csv(f, index_col=0, encoding='utf-8')\n",
        "%sql DROP TABLE if EXISTS GovtAppointments;\n",
        "%sql PERSIST GovtAppointments;\n",
        "%sql SELECT * FROM GovtAppointments LIMIT 5;"
      ],
      "execution_count": 8,
      "outputs": [
        {
          "output_type": "stream",
          "text": [
            " * sqlite://\n",
            "Done.\n",
            " * sqlite://\n",
            " * sqlite://\n",
            "Done.\n"
          ],
          "name": "stdout"
        },
        {
          "output_type": "execute_result",
          "data": {
            "text/html": [
              "<table>\n",
              "    <tr>\n",
              "        <th>GAZETTE_NOTICE_NO_</th>\n",
              "        <th>Year</th>\n",
              "        <th>ACT</th>\n",
              "        <th>Cap</th>\n",
              "        <th>Persons_Appointed_</th>\n",
              "        <th>Position_</th>\n",
              "        <th>Date_Appointed_</th>\n",
              "        <th>Start_Date</th>\n",
              "        <th>End_Date</th>\n",
              "        <th>Person_Appointing_</th>\n",
              "        <th>Apointers_Position</th>\n",
              "        <th>Ministry</th>\n",
              "        <th>Parastatle_Appointed_to_</th>\n",
              "        <th>Duration_Months</th>\n",
              "        <th>Status</th>\n",
              "        <th>Gender</th>\n",
              "        <th>Original_GN</th>\n",
              "        <th>Original_GN_Year</th>\n",
              "        <th>OBJECTID</th>\n",
              "    </tr>\n",
              "    <tr>\n",
              "        <td>2827</td>\n",
              "        <td>01/01/2015 12:00:00 AM</td>\n",
              "        <td>The State Corporations Act</td>\n",
              "        <td>446.0</td>\n",
              "        <td>Gershom Otachi</td>\n",
              "        <td>Chairperson</td>\n",
              "        <td>04/17/2015 12:00:00 AM</td>\n",
              "        <td>05/20/2015 12:00:00 AM</td>\n",
              "        <td>None</td>\n",
              "        <td>Uhuru Kenyatta</td>\n",
              "        <td>President</td>\n",
              "        <td>None</td>\n",
              "        <td>Geothermal Development Company</td>\n",
              "        <td>36.0</td>\n",
              "        <td>Appointed </td>\n",
              "        <td>m</td>\n",
              "        <td>None</td>\n",
              "        <td>None</td>\n",
              "        <td>0</td>\n",
              "    </tr>\n",
              "    <tr>\n",
              "        <td>2828</td>\n",
              "        <td>01/01/2015 12:00:00 AM</td>\n",
              "        <td>The State Corporations Act</td>\n",
              "        <td>446.0</td>\n",
              "        <td>Sammy Choge</td>\n",
              "        <td>Chairperson</td>\n",
              "        <td>04/17/2015 12:00:00 AM</td>\n",
              "        <td>04/17/2015 12:00:00 AM</td>\n",
              "        <td>None</td>\n",
              "        <td>Uhuru Kenyatta</td>\n",
              "        <td>President</td>\n",
              "        <td>None</td>\n",
              "        <td>Chemelil Sugar Company</td>\n",
              "        <td>36.0</td>\n",
              "        <td>Appointed </td>\n",
              "        <td>m</td>\n",
              "        <td>None</td>\n",
              "        <td>None</td>\n",
              "        <td>1</td>\n",
              "    </tr>\n",
              "    <tr>\n",
              "        <td>2829</td>\n",
              "        <td>01/01/2015 12:00:00 AM</td>\n",
              "        <td>Agricultural Development Corporation Act</td>\n",
              "        <td>444.0</td>\n",
              "        <td>Musa Sirma</td>\n",
              "        <td>Member of the Board</td>\n",
              "        <td>04/17/2015 12:00:00 AM</td>\n",
              "        <td>04/17/2015 12:00:00 AM</td>\n",
              "        <td>None</td>\n",
              "        <td>Uhuru Kenyatta</td>\n",
              "        <td>President</td>\n",
              "        <td>None</td>\n",
              "        <td>Agricultural Development Corporation</td>\n",
              "        <td>36.0</td>\n",
              "        <td>Appointed </td>\n",
              "        <td>m</td>\n",
              "        <td>None</td>\n",
              "        <td>None</td>\n",
              "        <td>2</td>\n",
              "    </tr>\n",
              "    <tr>\n",
              "        <td>2829</td>\n",
              "        <td>01/01/2015 12:00:00 AM</td>\n",
              "        <td>Agricultural Development Corporation Act</td>\n",
              "        <td>444.0</td>\n",
              "        <td>Susan Akinyi Wakiaga</td>\n",
              "        <td>Member of the Board</td>\n",
              "        <td>04/17/2015 12:00:00 AM</td>\n",
              "        <td>04/17/2015 12:00:00 AM</td>\n",
              "        <td>None</td>\n",
              "        <td>Uhuru Kenyatta</td>\n",
              "        <td>President</td>\n",
              "        <td>None</td>\n",
              "        <td>Agricultural Development Corporation</td>\n",
              "        <td>36.0</td>\n",
              "        <td>Appointed </td>\n",
              "        <td>f</td>\n",
              "        <td>None</td>\n",
              "        <td>None</td>\n",
              "        <td>3</td>\n",
              "    </tr>\n",
              "    <tr>\n",
              "        <td>2829</td>\n",
              "        <td>01/01/2015 12:00:00 AM</td>\n",
              "        <td>Agricultural Development Corporation Act</td>\n",
              "        <td>444.0</td>\n",
              "        <td>Joseph Miriti Mwereria</td>\n",
              "        <td>Member of the Board</td>\n",
              "        <td>04/17/2015 12:00:00 AM</td>\n",
              "        <td>04/17/2015 12:00:00 AM</td>\n",
              "        <td>None</td>\n",
              "        <td>Uhuru Kenyatta</td>\n",
              "        <td>President</td>\n",
              "        <td>None</td>\n",
              "        <td>Agricultural Development Corporation</td>\n",
              "        <td>36.0</td>\n",
              "        <td>Appointed </td>\n",
              "        <td>m</td>\n",
              "        <td>None</td>\n",
              "        <td>None</td>\n",
              "        <td>4</td>\n",
              "    </tr>\n",
              "</table>"
            ],
            "text/plain": [
              "[(2827, '01/01/2015 12:00:00 AM', 'The State Corporations Act', 446.0, 'Gershom Otachi', 'Chairperson', '04/17/2015 12:00:00 AM', '05/20/2015 12:00:00 AM', None, 'Uhuru Kenyatta', 'President', None, 'Geothermal Development Company', 36.0, 'Appointed ', 'm', None, None, 0),\n",
              " (2828, '01/01/2015 12:00:00 AM', 'The State Corporations Act', 446.0, 'Sammy Choge', 'Chairperson', '04/17/2015 12:00:00 AM', '04/17/2015 12:00:00 AM', None, 'Uhuru Kenyatta', 'President', None, 'Chemelil Sugar Company', 36.0, 'Appointed ', 'm', None, None, 1),\n",
              " (2829, '01/01/2015 12:00:00 AM', 'Agricultural Development Corporation Act', 444.0, 'Musa Sirma', 'Member of the Board', '04/17/2015 12:00:00 AM', '04/17/2015 12:00:00 AM', None, 'Uhuru Kenyatta', 'President', None, 'Agricultural Development Corporation', 36.0, 'Appointed ', 'm', None, None, 2),\n",
              " (2829, '01/01/2015 12:00:00 AM', 'Agricultural Development Corporation Act', 444.0, 'Susan Akinyi Wakiaga', 'Member of the Board', '04/17/2015 12:00:00 AM', '04/17/2015 12:00:00 AM', None, 'Uhuru Kenyatta', 'President', None, 'Agricultural Development Corporation', 36.0, 'Appointed ', 'f', None, None, 3),\n",
              " (2829, '01/01/2015 12:00:00 AM', 'Agricultural Development Corporation Act', 444.0, 'Joseph Miriti Mwereria', 'Member of the Board', '04/17/2015 12:00:00 AM', '04/17/2015 12:00:00 AM', None, 'Uhuru Kenyatta', 'President', None, 'Agricultural Development Corporation', 36.0, 'Appointed ', 'm', None, None, 4)]"
            ]
          },
          "metadata": {
            "tags": []
          },
          "execution_count": 8
        }
      ]
    },
    {
      "cell_type": "code",
      "metadata": {
        "id": "d_7FcQk_w_-E",
        "colab_type": "code",
        "colab": {
          "base_uri": "https://localhost:8080/",
          "height": 376
        },
        "outputId": "024cfed7-571d-401d-b831-3f3469a9a963"
      },
      "source": [
        "# Loading our  dataset  from the respective CSV files \n",
        "with open('marathon_results_2016.csv','r') as f:\n",
        "    MarathonResults = pd.read_csv(f, index_col=0, encoding='utf-8')\n",
        "%sql DROP TABLE if EXISTS MarathonResults;\n",
        "%sql PERSIST MarathonResults;\n",
        "%sql SELECT * FROM MarathonResults LIMIT 5;"
      ],
      "execution_count": 9,
      "outputs": [
        {
          "output_type": "stream",
          "text": [
            " * sqlite://\n",
            "Done.\n",
            " * sqlite://\n",
            " * sqlite://\n",
            "Done.\n"
          ],
          "name": "stdout"
        },
        {
          "output_type": "execute_result",
          "data": {
            "text/html": [
              "<table>\n",
              "    <tr>\n",
              "        <th>Bib</th>\n",
              "        <th>Name</th>\n",
              "        <th>Age</th>\n",
              "        <th>M/F</th>\n",
              "        <th>City</th>\n",
              "        <th>State</th>\n",
              "        <th>Country</th>\n",
              "        <th>Citizen</th>\n",
              "        <th>Unnamed: 8</th>\n",
              "        <th>5K</th>\n",
              "        <th>10K</th>\n",
              "        <th>15K</th>\n",
              "        <th>20K</th>\n",
              "        <th>Half</th>\n",
              "        <th>25K</th>\n",
              "        <th>30K</th>\n",
              "        <th>35K</th>\n",
              "        <th>40K</th>\n",
              "        <th>Pace</th>\n",
              "        <th>Proj Time</th>\n",
              "        <th>Official Time</th>\n",
              "        <th>Overall</th>\n",
              "        <th>Gender</th>\n",
              "        <th>Division</th>\n",
              "    </tr>\n",
              "    <tr>\n",
              "        <td>5</td>\n",
              "        <td>Hayle, Lemi Berhanu</td>\n",
              "        <td>21</td>\n",
              "        <td>M</td>\n",
              "        <td>Addis Ababa</td>\n",
              "        <td>None</td>\n",
              "        <td>ETH</td>\n",
              "        <td>None</td>\n",
              "        <td>None</td>\n",
              "        <td>0:15:47</td>\n",
              "        <td>0:31:20</td>\n",
              "        <td>0:47:07</td>\n",
              "        <td>1:03:14</td>\n",
              "        <td>1:06:45</td>\n",
              "        <td>1:19:15</td>\n",
              "        <td>1:34:17</td>\n",
              "        <td>1:50:24</td>\n",
              "        <td>2:05:59</td>\n",
              "        <td>0:05:04</td>\n",
              "        <td>2:12:45</td>\n",
              "        <td>2:12:45</td>\n",
              "        <td>1</td>\n",
              "        <td>1</td>\n",
              "        <td>1</td>\n",
              "    </tr>\n",
              "    <tr>\n",
              "        <td>1</td>\n",
              "        <td>Desisa, Lelisa</td>\n",
              "        <td>26</td>\n",
              "        <td>M</td>\n",
              "        <td>Ambo</td>\n",
              "        <td>None</td>\n",
              "        <td>ETH</td>\n",
              "        <td>None</td>\n",
              "        <td>None</td>\n",
              "        <td>0:15:47</td>\n",
              "        <td>0:31:21</td>\n",
              "        <td>0:47:08</td>\n",
              "        <td>1:03:14</td>\n",
              "        <td>1:06:46</td>\n",
              "        <td>1:19:15</td>\n",
              "        <td>1:34:17</td>\n",
              "        <td>1:50:24</td>\n",
              "        <td>2:05:59</td>\n",
              "        <td>0:05:06</td>\n",
              "        <td>2:13:32</td>\n",
              "        <td>2:13:32</td>\n",
              "        <td>2</td>\n",
              "        <td>2</td>\n",
              "        <td>2</td>\n",
              "    </tr>\n",
              "    <tr>\n",
              "        <td>6</td>\n",
              "        <td>Tsegay, Yemane Adhane</td>\n",
              "        <td>31</td>\n",
              "        <td>M</td>\n",
              "        <td>Addis Ababa</td>\n",
              "        <td>None</td>\n",
              "        <td>ETH</td>\n",
              "        <td>None</td>\n",
              "        <td>None</td>\n",
              "        <td>0:15:46</td>\n",
              "        <td>0:31:20</td>\n",
              "        <td>0:47:07</td>\n",
              "        <td>1:03:13</td>\n",
              "        <td>1:06:44</td>\n",
              "        <td>1:19:15</td>\n",
              "        <td>1:34:45</td>\n",
              "        <td>1:50:48</td>\n",
              "        <td>2:06:47</td>\n",
              "        <td>0:05:07</td>\n",
              "        <td>2:14:02</td>\n",
              "        <td>2:14:02</td>\n",
              "        <td>3</td>\n",
              "        <td>3</td>\n",
              "        <td>3</td>\n",
              "    </tr>\n",
              "    <tr>\n",
              "        <td>11</td>\n",
              "        <td>Korir, Wesley</td>\n",
              "        <td>33</td>\n",
              "        <td>M</td>\n",
              "        <td>Kitale</td>\n",
              "        <td>None</td>\n",
              "        <td>KEN</td>\n",
              "        <td>None</td>\n",
              "        <td>None</td>\n",
              "        <td>0:15:46</td>\n",
              "        <td>0:31:21</td>\n",
              "        <td>0:47:07</td>\n",
              "        <td>1:03:14</td>\n",
              "        <td>1:06:46</td>\n",
              "        <td>1:19:16</td>\n",
              "        <td>1:34:45</td>\n",
              "        <td>1:50:48</td>\n",
              "        <td>2:06:47</td>\n",
              "        <td>0:05:07</td>\n",
              "        <td>2:14:05</td>\n",
              "        <td>2:14:05</td>\n",
              "        <td>4</td>\n",
              "        <td>4</td>\n",
              "        <td>4</td>\n",
              "    </tr>\n",
              "    <tr>\n",
              "        <td>14</td>\n",
              "        <td>Lonyangata, Paul</td>\n",
              "        <td>23</td>\n",
              "        <td>M</td>\n",
              "        <td>Eldoret</td>\n",
              "        <td>None</td>\n",
              "        <td>KEN</td>\n",
              "        <td>None</td>\n",
              "        <td>None</td>\n",
              "        <td>0:15:46</td>\n",
              "        <td>0:31:21</td>\n",
              "        <td>0:47:08</td>\n",
              "        <td>1:03:14</td>\n",
              "        <td>1:06:46</td>\n",
              "        <td>1:19:18</td>\n",
              "        <td>1:34:46</td>\n",
              "        <td>1:51:30</td>\n",
              "        <td>2:08:11</td>\n",
              "        <td>0:05:11</td>\n",
              "        <td>2:15:45</td>\n",
              "        <td>2:15:45</td>\n",
              "        <td>5</td>\n",
              "        <td>5</td>\n",
              "        <td>5</td>\n",
              "    </tr>\n",
              "</table>"
            ],
            "text/plain": [
              "[('5', 'Hayle, Lemi Berhanu', 21, 'M', 'Addis Ababa', None, 'ETH', None, None, '0:15:47', '0:31:20', '0:47:07', '1:03:14', '1:06:45', '1:19:15', '1:34:17', '1:50:24', '2:05:59', '0:05:04', '2:12:45', '2:12:45', 1, 1, 1),\n",
              " ('1', 'Desisa, Lelisa', 26, 'M', 'Ambo', None, 'ETH', None, None, '0:15:47', '0:31:21', '0:47:08', '1:03:14', '1:06:46', '1:19:15', '1:34:17', '1:50:24', '2:05:59', '0:05:06', '2:13:32', '2:13:32', 2, 2, 2),\n",
              " ('6', 'Tsegay, Yemane Adhane', 31, 'M', 'Addis Ababa', None, 'ETH', None, None, '0:15:46', '0:31:20', '0:47:07', '1:03:13', '1:06:44', '1:19:15', '1:34:45', '1:50:48', '2:06:47', '0:05:07', '2:14:02', '2:14:02', 3, 3, 3),\n",
              " ('11', 'Korir, Wesley', 33, 'M', 'Kitale', None, 'KEN', None, None, '0:15:46', '0:31:21', '0:47:07', '1:03:14', '1:06:46', '1:19:16', '1:34:45', '1:50:48', '2:06:47', '0:05:07', '2:14:05', '2:14:05', 4, 4, 4),\n",
              " ('14', 'Lonyangata, Paul', 23, 'M', 'Eldoret', None, 'KEN', None, None, '0:15:46', '0:31:21', '0:47:08', '1:03:14', '1:06:46', '1:19:18', '1:34:46', '1:51:30', '2:08:11', '0:05:11', '2:15:45', '2:15:45', 5, 5, 5)]"
            ]
          },
          "metadata": {
            "tags": []
          },
          "execution_count": 9
        }
      ]
    },
    {
      "cell_type": "code",
      "metadata": {
        "id": "QvAAFur50RUu",
        "colab_type": "code",
        "colab": {
          "base_uri": "https://localhost:8080/",
          "height": 497
        },
        "outputId": "035662d0-582d-47cb-fc31-2f22a3958497"
      },
      "source": [
        "# Loading our  dataset  from the respective CSV files \n",
        "with open('population_by_district.csv','r') as f:\n",
        "    Population = pd.read_csv(f, index_col=0, encoding='utf-8')\n",
        "%sql DROP TABLE if EXISTS Population;\n",
        "%sql PERSIST Population;\n",
        "%sql SELECT * FROM Population LIMIT 5;"
      ],
      "execution_count": 10,
      "outputs": [
        {
          "output_type": "stream",
          "text": [
            " * sqlite://\n",
            "Done.\n",
            " * sqlite://\n",
            " * sqlite://\n",
            "Done.\n"
          ],
          "name": "stdout"
        },
        {
          "output_type": "execute_result",
          "data": {
            "text/html": [
              "<table>\n",
              "    <tr>\n",
              "        <th>District</th>\n",
              "        <th>rural/urban</th>\n",
              "        <th>Male</th>\n",
              "        <th>Female</th>\n",
              "        <th>Total</th>\n",
              "        <th>Households</th>\n",
              "        <th>Area_in_Sq_Km</th>\n",
              "        <th>_Household_Density_</th>\n",
              "        <th>Population_Density</th>\n",
              "        <th>Gender_Index</th>\n",
              "        <th>County</th>\n",
              "        <th>Location</th>\n",
              "        <th>Location_1</th>\n",
              "        <th>Province</th>\n",
              "        <th>OBJECTID</th>\n",
              "    </tr>\n",
              "    <tr>\n",
              "        <td>NAIROBI WEST</td>\n",
              "        <td>Rural</td>\n",
              "        <td>0</td>\n",
              "        <td>0</td>\n",
              "        <td>0</td>\n",
              "        <td>0</td>\n",
              "        <td>0.0</td>\n",
              "        <td>None</td>\n",
              "        <td>None</td>\n",
              "        <td>None</td>\n",
              "        <td>NAIROBI</td>\n",
              "        <td>NAIROBI WEST, NAIROBI Kenya<br></td>\n",
              "        <td>None</td>\n",
              "        <td>36.79920201</td>\n",
              "        <td>0</td>\n",
              "    </tr>\n",
              "    <tr>\n",
              "        <td>NAIROBI EAST</td>\n",
              "        <td>Rural</td>\n",
              "        <td>0</td>\n",
              "        <td>0</td>\n",
              "        <td>0</td>\n",
              "        <td>0</td>\n",
              "        <td>0.0</td>\n",
              "        <td>None</td>\n",
              "        <td>None</td>\n",
              "        <td>None</td>\n",
              "        <td>NAIROBI</td>\n",
              "        <td>NAIROBI EAST, NAIROBI Kenya<br></td>\n",
              "        <td>None</td>\n",
              "        <td>36.967484000000006</td>\n",
              "        <td>1</td>\n",
              "    </tr>\n",
              "    <tr>\n",
              "        <td>NAIROBI NORTH</td>\n",
              "        <td>Rural</td>\n",
              "        <td>0</td>\n",
              "        <td>0</td>\n",
              "        <td>0</td>\n",
              "        <td>0</td>\n",
              "        <td>0.0</td>\n",
              "        <td>None</td>\n",
              "        <td>None</td>\n",
              "        <td>None</td>\n",
              "        <td>NAIROBI</td>\n",
              "        <td>NAIROBI NORTH, NAIROBI Kenya<br></td>\n",
              "        <td>None</td>\n",
              "        <td>36.8911257</td>\n",
              "        <td>2</td>\n",
              "    </tr>\n",
              "    <tr>\n",
              "        <td>WESTLANDS</td>\n",
              "        <td>Rural</td>\n",
              "        <td>0</td>\n",
              "        <td>0</td>\n",
              "        <td>0</td>\n",
              "        <td>0</td>\n",
              "        <td>0.0</td>\n",
              "        <td>None</td>\n",
              "        <td>None</td>\n",
              "        <td>None</td>\n",
              "        <td>NAIROBI</td>\n",
              "        <td>WESTLANDS, NAIROBI Kenya<br></td>\n",
              "        <td>None</td>\n",
              "        <td>36.7882561</td>\n",
              "        <td>3</td>\n",
              "    </tr>\n",
              "    <tr>\n",
              "        <td>NYANDARUA NORTH</td>\n",
              "        <td>Rural</td>\n",
              "        <td>106111</td>\n",
              "        <td>109785</td>\n",
              "        <td>215896</td>\n",
              "        <td>52503</td>\n",
              "        <td>1394.69</td>\n",
              "        <td>37.64</td>\n",
              "        <td>109861.0821</td>\n",
              "        <td>1.034624</td>\n",
              "        <td>CENTRAL</td>\n",
              "        <td>NYANDARUA NORTH, CENTRAL Kenya<br></td>\n",
              "        <td>None</td>\n",
              "        <td>36.42343108</td>\n",
              "        <td>4</td>\n",
              "    </tr>\n",
              "</table>"
            ],
            "text/plain": [
              "[('NAIROBI WEST', 'Rural', 0, 0, 0, 0, 0.0, None, None, None, 'NAIROBI', 'NAIROBI WEST, NAIROBI Kenya\\n', None, 36.79920201, 0),\n",
              " ('NAIROBI EAST', 'Rural', 0, 0, 0, 0, 0.0, None, None, None, 'NAIROBI', 'NAIROBI EAST, NAIROBI Kenya\\n', None, 36.967484000000006, 1),\n",
              " ('NAIROBI NORTH', 'Rural', 0, 0, 0, 0, 0.0, None, None, None, 'NAIROBI', 'NAIROBI NORTH, NAIROBI Kenya\\n', None, 36.8911257, 2),\n",
              " ('WESTLANDS', 'Rural', 0, 0, 0, 0, 0.0, None, None, None, 'NAIROBI', 'WESTLANDS, NAIROBI Kenya\\n', None, 36.7882561, 3),\n",
              " ('NYANDARUA NORTH', 'Rural', 106111, 109785, 215896, 52503, 1394.69, 37.64, 109861.0821, 1.034624, 'CENTRAL', 'NYANDARUA NORTH, CENTRAL Kenya\\n', None, 36.42343108, 4)]"
            ]
          },
          "metadata": {
            "tags": []
          },
          "execution_count": 10
        }
      ]
    },
    {
      "cell_type": "code",
      "metadata": {
        "id": "Y-eIji9T0fhf",
        "colab_type": "code",
        "colab": {
          "base_uri": "https://localhost:8080/",
          "height": 234
        },
        "outputId": "fc20c7e6-3d92-4bd5-b9f6-a308c17a3306"
      },
      "source": [
        "# Loading our  dataset  from the respective CSV files \n",
        "with open('tea_production.csv','r') as f:\n",
        "    TeaProduction = pd.read_csv(f, index_col=0, encoding='utf-8')\n",
        "%sql DROP TABLE if EXISTS TeaProduction;\n",
        "%sql PERSIST TeaProduction;\n",
        "%sql SELECT * FROM TeaProduction LIMIT 5;"
      ],
      "execution_count": 11,
      "outputs": [
        {
          "output_type": "stream",
          "text": [
            " * sqlite://\n",
            "Done.\n",
            " * sqlite://\n",
            " * sqlite://\n",
            "Done.\n"
          ],
          "name": "stdout"
        },
        {
          "output_type": "execute_result",
          "data": {
            "text/html": [
              "<table>\n",
              "    <tr>\n",
              "        <th>Activity_in_Tea_Sector</th>\n",
              "        <th>Millions_in_KGS_</th>\n",
              "        <th>Date</th>\n",
              "        <th>OBJECTID</th>\n",
              "    </tr>\n",
              "    <tr>\n",
              "        <td>Production</td>\n",
              "        <td>32.8</td>\n",
              "        <td>01/25/2003 12:00:00 AM</td>\n",
              "        <td>0</td>\n",
              "    </tr>\n",
              "    <tr>\n",
              "        <td>Production</td>\n",
              "        <td>23.6</td>\n",
              "        <td>02/25/2003 12:00:00 AM</td>\n",
              "        <td>1</td>\n",
              "    </tr>\n",
              "    <tr>\n",
              "        <td>Production</td>\n",
              "        <td>15.0</td>\n",
              "        <td>03/25/2003 12:00:00 AM</td>\n",
              "        <td>2</td>\n",
              "    </tr>\n",
              "    <tr>\n",
              "        <td>Production</td>\n",
              "        <td>19.3</td>\n",
              "        <td>04/25/2003 12:00:00 AM</td>\n",
              "        <td>3</td>\n",
              "    </tr>\n",
              "    <tr>\n",
              "        <td>Production</td>\n",
              "        <td>26.0</td>\n",
              "        <td>05/25/2003 12:00:00 AM</td>\n",
              "        <td>4</td>\n",
              "    </tr>\n",
              "</table>"
            ],
            "text/plain": [
              "[('Production', 32.8, '01/25/2003 12:00:00 AM', 0),\n",
              " ('Production', 23.6, '02/25/2003 12:00:00 AM', 1),\n",
              " ('Production', 15.0, '03/25/2003 12:00:00 AM', 2),\n",
              " ('Production', 19.3, '04/25/2003 12:00:00 AM', 3),\n",
              " ('Production', 26.0, '05/25/2003 12:00:00 AM', 4)]"
            ]
          },
          "metadata": {
            "tags": []
          },
          "execution_count": 11
        }
      ]
    },
    {
      "cell_type": "code",
      "metadata": {
        "id": "neoManf50uTu",
        "colab_type": "code",
        "colab": {
          "base_uri": "https://localhost:8080/",
          "height": 341
        },
        "outputId": "b6a28ff5-b34c-4685-bf5c-fb9666ab91bb"
      },
      "source": [
        "# Loading our  dataset  from the respective CSV files \n",
        "with open('visitors_to_kenya.csv','r') as f:\n",
        "    Visitors = pd.read_csv(f, index_col=0, encoding='utf-8')\n",
        "%sql DROP TABLE if EXISTS Visitors;\n",
        "%sql PERSIST Visitors;\n",
        "%sql SELECT * FROM Visitors LIMIT 5;"
      ],
      "execution_count": 12,
      "outputs": [
        {
          "output_type": "stream",
          "text": [
            " * sqlite://\n",
            "Done.\n",
            " * sqlite://\n",
            " * sqlite://\n",
            "Done.\n"
          ],
          "name": "stdout"
        },
        {
          "output_type": "execute_result",
          "data": {
            "text/html": [
              "<table>\n",
              "    <tr>\n",
              "        <th>Arrival_or_Departure</th>\n",
              "        <th>Date_End_of_Quater</th>\n",
              "        <th>Year_Text</th>\n",
              "        <th>No_of_Visitors_to_Kenya</th>\n",
              "        <th>Visitors_by_Purpose</th>\n",
              "        <th>Period_Quater</th>\n",
              "        <th>Results_Status</th>\n",
              "        <th>OBJECTID</th>\n",
              "    </tr>\n",
              "    <tr>\n",
              "        <td>Arrivals</td>\n",
              "        <td>03/31/2005 12:00:00 AM</td>\n",
              "        <td>2005</td>\n",
              "        <td>264600</td>\n",
              "        <td>Visitors on Holiday</td>\n",
              "        <td>Q1</td>\n",
              "        <td>Actual</td>\n",
              "        <td>0</td>\n",
              "    </tr>\n",
              "    <tr>\n",
              "        <td>Arrivals</td>\n",
              "        <td>06/30/1991 12:00:00 AM</td>\n",
              "        <td>1991</td>\n",
              "        <td>149400</td>\n",
              "        <td>Visitors on Holiday</td>\n",
              "        <td>Q2</td>\n",
              "        <td>Actual</td>\n",
              "        <td>1</td>\n",
              "    </tr>\n",
              "    <tr>\n",
              "        <td>Arrivals</td>\n",
              "        <td>09/30/1991 12:00:00 AM</td>\n",
              "        <td>1991</td>\n",
              "        <td>215900</td>\n",
              "        <td>Visitors on Holiday</td>\n",
              "        <td>Q3</td>\n",
              "        <td>Actual</td>\n",
              "        <td>2</td>\n",
              "    </tr>\n",
              "    <tr>\n",
              "        <td>Arrivals</td>\n",
              "        <td>12/31/1991 12:00:00 AM</td>\n",
              "        <td>1991</td>\n",
              "        <td>158400</td>\n",
              "        <td>Visitors on Holiday</td>\n",
              "        <td>Q4</td>\n",
              "        <td>Actual</td>\n",
              "        <td>3</td>\n",
              "    </tr>\n",
              "    <tr>\n",
              "        <td>Arrivals</td>\n",
              "        <td>03/31/1992 12:00:00 AM</td>\n",
              "        <td>1992</td>\n",
              "        <td>155400</td>\n",
              "        <td>Visitors on Holiday</td>\n",
              "        <td>Q1</td>\n",
              "        <td>Actual</td>\n",
              "        <td>4</td>\n",
              "    </tr>\n",
              "</table>"
            ],
            "text/plain": [
              "[('Arrivals', '03/31/2005 12:00:00 AM', '2005', 264600, 'Visitors on Holiday', 'Q1', 'Actual', 0),\n",
              " ('Arrivals', '06/30/1991 12:00:00 AM', '1991', 149400, 'Visitors on Holiday', 'Q2', 'Actual', 1),\n",
              " ('Arrivals', '09/30/1991 12:00:00 AM', '1991', 215900, 'Visitors on Holiday', 'Q3', 'Actual', 2),\n",
              " ('Arrivals', '12/31/1991 12:00:00 AM', '1991', 158400, 'Visitors on Holiday', 'Q4', 'Actual', 3),\n",
              " ('Arrivals', '03/31/1992 12:00:00 AM', '1992', 155400, 'Visitors on Holiday', 'Q1', 'Actual', 4)]"
            ]
          },
          "metadata": {
            "tags": []
          },
          "execution_count": 12
        }
      ]
    },
    {
      "cell_type": "code",
      "metadata": {
        "id": "eq8s5j790b7a",
        "colab_type": "code",
        "colab": {
          "base_uri": "https://localhost:8080/",
          "height": 356
        },
        "outputId": "fbf079e4-9da6-478a-db52-c474420659ae"
      },
      "source": [
        "%%sql  \n",
        "SELECT *, WARD || ', ' || COUNTY AS Region\n",
        "FROM EnergyMining LIMIT 5;"
      ],
      "execution_count": 13,
      "outputs": [
        {
          "output_type": "stream",
          "text": [
            " * sqlite://\n",
            "Done.\n"
          ],
          "name": "stdout"
        },
        {
          "output_type": "execute_result",
          "data": {
            "text/html": [
              "<table>\n",
              "    <tr>\n",
              "        <th>COUNTY</th>\n",
              "        <th>WARD</th>\n",
              "        <th>ZONE</th>\n",
              "        <th>PROJECT_NAME</th>\n",
              "        <th>STATUS</th>\n",
              "        <th>DATE</th>\n",
              "        <th>OBJECTID</th>\n",
              "        <th>Region</th>\n",
              "    </tr>\n",
              "    <tr>\n",
              "        <td>Kisumu</td>\n",
              "        <td>West Kisumu</td>\n",
              "        <td>Huma market</td>\n",
              "        <td>Supply, installation &amp; commissioning of 8 No. 30m High mast flood lights </td>\n",
              "        <td>100 % Complete</td>\n",
              "        <td>May-31-2015</td>\n",
              "        <td>0</td>\n",
              "        <td>West Kisumu, Kisumu</td>\n",
              "    </tr>\n",
              "    <tr>\n",
              "        <td>Kisumu</td>\n",
              "        <td>North west ksm</td>\n",
              "        <td>Daraja Mbili market</td>\n",
              "        <td>Supply, installation &amp; commissioning of 8 No. 30m High mast flood lights </td>\n",
              "        <td>100% Complete</td>\n",
              "        <td>May-31-2015</td>\n",
              "        <td>1</td>\n",
              "        <td>North west ksm, Kisumu</td>\n",
              "    </tr>\n",
              "    <tr>\n",
              "        <td>Kisumu</td>\n",
              "        <td>West Seme</td>\n",
              "        <td>Akado market </td>\n",
              "        <td>Supply, installation &amp; commissioning of 8 No. 30m High mast flood lights </td>\n",
              "        <td>100 % Complete</td>\n",
              "        <td>May-31-2015</td>\n",
              "        <td>2</td>\n",
              "        <td>West Seme, Kisumu</td>\n",
              "    </tr>\n",
              "    <tr>\n",
              "        <td>Kisumu</td>\n",
              "        <td>Kobura</td>\n",
              "        <td>Korowe market </td>\n",
              "        <td>Supply, installation &amp; commissioning of 8 No. 30m High mast flood lights </td>\n",
              "        <td>100 % Complete</td>\n",
              "        <td>May-31-2015</td>\n",
              "        <td>3</td>\n",
              "        <td>Kobura, Kisumu</td>\n",
              "    </tr>\n",
              "    <tr>\n",
              "        <td>Kisumu</td>\n",
              "        <td>Kobura</td>\n",
              "        <td>Rabour market </td>\n",
              "        <td>Supply, installation &amp; commissioning of 8 No. 30m High mast flood lights </td>\n",
              "        <td>100 % Complete</td>\n",
              "        <td>May-31-2015</td>\n",
              "        <td>4</td>\n",
              "        <td>Kobura, Kisumu</td>\n",
              "    </tr>\n",
              "</table>"
            ],
            "text/plain": [
              "[('Kisumu', 'West Kisumu', 'Huma market', 'Supply, installation & commissioning of 8 No. 30m High mast flood lights ', '100 % Complete', 'May-31-2015', 0, 'West Kisumu, Kisumu'),\n",
              " ('Kisumu', 'North west ksm', 'Daraja Mbili market', 'Supply, installation & commissioning of 8 No. 30m High mast flood lights ', '100% Complete', 'May-31-2015', 1, 'North west ksm, Kisumu'),\n",
              " ('Kisumu', 'West Seme', 'Akado market ', 'Supply, installation & commissioning of 8 No. 30m High mast flood lights ', '100 % Complete', 'May-31-2015', 2, 'West Seme, Kisumu'),\n",
              " ('Kisumu', 'Kobura', 'Korowe market ', 'Supply, installation & commissioning of 8 No. 30m High mast flood lights ', '100 % Complete', 'May-31-2015', 3, 'Kobura, Kisumu'),\n",
              " ('Kisumu', 'Kobura', 'Rabour market ', 'Supply, installation & commissioning of 8 No. 30m High mast flood lights ', '100 % Complete', 'May-31-2015', 4, 'Kobura, Kisumu')]"
            ]
          },
          "metadata": {
            "tags": []
          },
          "execution_count": 13
        }
      ]
    },
    {
      "cell_type": "code",
      "metadata": {
        "id": "7Juk11qH2tDr",
        "colab_type": "code",
        "colab": {
          "base_uri": "https://localhost:8080/",
          "height": 356
        },
        "outputId": "046f563c-e713-4abf-bd8f-79cb818b21d4"
      },
      "source": [
        "%%sql\n",
        "select * , WARD || ',' || COUNTY as Region from EnergyMining limit 5"
      ],
      "execution_count": 14,
      "outputs": [
        {
          "output_type": "stream",
          "text": [
            " * sqlite://\n",
            "Done.\n"
          ],
          "name": "stdout"
        },
        {
          "output_type": "execute_result",
          "data": {
            "text/html": [
              "<table>\n",
              "    <tr>\n",
              "        <th>COUNTY</th>\n",
              "        <th>WARD</th>\n",
              "        <th>ZONE</th>\n",
              "        <th>PROJECT_NAME</th>\n",
              "        <th>STATUS</th>\n",
              "        <th>DATE</th>\n",
              "        <th>OBJECTID</th>\n",
              "        <th>Region</th>\n",
              "    </tr>\n",
              "    <tr>\n",
              "        <td>Kisumu</td>\n",
              "        <td>West Kisumu</td>\n",
              "        <td>Huma market</td>\n",
              "        <td>Supply, installation &amp; commissioning of 8 No. 30m High mast flood lights </td>\n",
              "        <td>100 % Complete</td>\n",
              "        <td>May-31-2015</td>\n",
              "        <td>0</td>\n",
              "        <td>West Kisumu,Kisumu</td>\n",
              "    </tr>\n",
              "    <tr>\n",
              "        <td>Kisumu</td>\n",
              "        <td>North west ksm</td>\n",
              "        <td>Daraja Mbili market</td>\n",
              "        <td>Supply, installation &amp; commissioning of 8 No. 30m High mast flood lights </td>\n",
              "        <td>100% Complete</td>\n",
              "        <td>May-31-2015</td>\n",
              "        <td>1</td>\n",
              "        <td>North west ksm,Kisumu</td>\n",
              "    </tr>\n",
              "    <tr>\n",
              "        <td>Kisumu</td>\n",
              "        <td>West Seme</td>\n",
              "        <td>Akado market </td>\n",
              "        <td>Supply, installation &amp; commissioning of 8 No. 30m High mast flood lights </td>\n",
              "        <td>100 % Complete</td>\n",
              "        <td>May-31-2015</td>\n",
              "        <td>2</td>\n",
              "        <td>West Seme,Kisumu</td>\n",
              "    </tr>\n",
              "    <tr>\n",
              "        <td>Kisumu</td>\n",
              "        <td>Kobura</td>\n",
              "        <td>Korowe market </td>\n",
              "        <td>Supply, installation &amp; commissioning of 8 No. 30m High mast flood lights </td>\n",
              "        <td>100 % Complete</td>\n",
              "        <td>May-31-2015</td>\n",
              "        <td>3</td>\n",
              "        <td>Kobura,Kisumu</td>\n",
              "    </tr>\n",
              "    <tr>\n",
              "        <td>Kisumu</td>\n",
              "        <td>Kobura</td>\n",
              "        <td>Rabour market </td>\n",
              "        <td>Supply, installation &amp; commissioning of 8 No. 30m High mast flood lights </td>\n",
              "        <td>100 % Complete</td>\n",
              "        <td>May-31-2015</td>\n",
              "        <td>4</td>\n",
              "        <td>Kobura,Kisumu</td>\n",
              "    </tr>\n",
              "</table>"
            ],
            "text/plain": [
              "[('Kisumu', 'West Kisumu', 'Huma market', 'Supply, installation & commissioning of 8 No. 30m High mast flood lights ', '100 % Complete', 'May-31-2015', 0, 'West Kisumu,Kisumu'),\n",
              " ('Kisumu', 'North west ksm', 'Daraja Mbili market', 'Supply, installation & commissioning of 8 No. 30m High mast flood lights ', '100% Complete', 'May-31-2015', 1, 'North west ksm,Kisumu'),\n",
              " ('Kisumu', 'West Seme', 'Akado market ', 'Supply, installation & commissioning of 8 No. 30m High mast flood lights ', '100 % Complete', 'May-31-2015', 2, 'West Seme,Kisumu'),\n",
              " ('Kisumu', 'Kobura', 'Korowe market ', 'Supply, installation & commissioning of 8 No. 30m High mast flood lights ', '100 % Complete', 'May-31-2015', 3, 'Kobura,Kisumu'),\n",
              " ('Kisumu', 'Kobura', 'Rabour market ', 'Supply, installation & commissioning of 8 No. 30m High mast flood lights ', '100 % Complete', 'May-31-2015', 4, 'Kobura,Kisumu')]"
            ]
          },
          "metadata": {
            "tags": []
          },
          "execution_count": 14
        }
      ]
    },
    {
      "cell_type": "code",
      "metadata": {
        "id": "T6kOuw5b3R1L",
        "colab_type": "code",
        "colab": {
          "base_uri": "https://localhost:8080/",
          "height": 182
        },
        "outputId": "c959e37f-501c-48f5-db4c-939725b878a7"
      },
      "source": [
        "# Example 2\n",
        "# Using the main Energy mining dataset, we can also replace \n",
        "# \n",
        "%%sql \n",
        "SELECT PROJECT_NAME, REPLACE(\"STATUS\", '100 % Complete', '100%') AS \"Project Status\" \n",
        "FROM EnergyMining limit 5;"
      ],
      "execution_count": 24,
      "outputs": [
        {
          "output_type": "stream",
          "text": [
            " * sqlite://\n",
            "Done.\n"
          ],
          "name": "stdout"
        },
        {
          "output_type": "execute_result",
          "data": {
            "text/html": [
              "<table>\n",
              "    <tr>\n",
              "        <th>PROJECT_NAME</th>\n",
              "        <th>Project Status</th>\n",
              "    </tr>\n",
              "    <tr>\n",
              "        <td>Supply, installation &amp; commissioning of 8 No. 30m High mast flood lights </td>\n",
              "        <td>100%</td>\n",
              "    </tr>\n",
              "    <tr>\n",
              "        <td>Supply, installation &amp; commissioning of 8 No. 30m High mast flood lights </td>\n",
              "        <td>100%</td>\n",
              "    </tr>\n",
              "    <tr>\n",
              "        <td>Supply, installation &amp; commissioning of 8 No. 30m High mast flood lights </td>\n",
              "        <td>100%</td>\n",
              "    </tr>\n",
              "    <tr>\n",
              "        <td>Supply, installation &amp; commissioning of 8 No. 30m High mast flood lights </td>\n",
              "        <td>100%</td>\n",
              "    </tr>\n",
              "    <tr>\n",
              "        <td>Supply, installation &amp; commissioning of 8 No. 30m High mast flood lights </td>\n",
              "        <td>100%</td>\n",
              "    </tr>\n",
              "</table>"
            ],
            "text/plain": [
              "[('Supply, installation & commissioning of 8 No. 30m High mast flood lights ', '100%'),\n",
              " ('Supply, installation & commissioning of 8 No. 30m High mast flood lights ', '100%'),\n",
              " ('Supply, installation & commissioning of 8 No. 30m High mast flood lights ', '100%'),\n",
              " ('Supply, installation & commissioning of 8 No. 30m High mast flood lights ', '100%'),\n",
              " ('Supply, installation & commissioning of 8 No. 30m High mast flood lights ', '100%')]"
            ]
          },
          "metadata": {
            "tags": []
          },
          "execution_count": 24
        }
      ]
    },
    {
      "cell_type": "code",
      "metadata": {
        "id": "XtB0IK8K8xgv",
        "colab_type": "code",
        "colab": {
          "base_uri": "https://localhost:8080/",
          "height": 462
        },
        "outputId": "b7cea2aa-b895-48b5-8a1d-32b8dc4760dc"
      },
      "source": [
        "# Example 3\n",
        "# Using the Population by District dataset, we change values of County column to lowercase \n",
        "# as shown below\n",
        "#\n",
        "%%sql\n",
        "SELECT *, LOWER(County) AS \"County Name\"\n",
        "FROM Population limit 5;"
      ],
      "execution_count": 26,
      "outputs": [
        {
          "output_type": "stream",
          "text": [
            " * sqlite://\n",
            "Done.\n"
          ],
          "name": "stdout"
        },
        {
          "output_type": "execute_result",
          "data": {
            "text/html": [
              "<table>\n",
              "    <tr>\n",
              "        <th>District</th>\n",
              "        <th>rural/urban</th>\n",
              "        <th>Male</th>\n",
              "        <th>Female</th>\n",
              "        <th>Total</th>\n",
              "        <th>Households</th>\n",
              "        <th>Area_in_Sq_Km</th>\n",
              "        <th>_Household_Density_</th>\n",
              "        <th>Population_Density</th>\n",
              "        <th>Gender_Index</th>\n",
              "        <th>County</th>\n",
              "        <th>Location</th>\n",
              "        <th>Location_1</th>\n",
              "        <th>Province</th>\n",
              "        <th>OBJECTID</th>\n",
              "        <th>County Name</th>\n",
              "    </tr>\n",
              "    <tr>\n",
              "        <td>NAIROBI WEST</td>\n",
              "        <td>Rural</td>\n",
              "        <td>0</td>\n",
              "        <td>0</td>\n",
              "        <td>0</td>\n",
              "        <td>0</td>\n",
              "        <td>0.0</td>\n",
              "        <td>None</td>\n",
              "        <td>None</td>\n",
              "        <td>None</td>\n",
              "        <td>NAIROBI</td>\n",
              "        <td>NAIROBI WEST, NAIROBI Kenya<br></td>\n",
              "        <td>None</td>\n",
              "        <td>36.79920201</td>\n",
              "        <td>0</td>\n",
              "        <td>nairobi</td>\n",
              "    </tr>\n",
              "    <tr>\n",
              "        <td>NAIROBI EAST</td>\n",
              "        <td>Rural</td>\n",
              "        <td>0</td>\n",
              "        <td>0</td>\n",
              "        <td>0</td>\n",
              "        <td>0</td>\n",
              "        <td>0.0</td>\n",
              "        <td>None</td>\n",
              "        <td>None</td>\n",
              "        <td>None</td>\n",
              "        <td>NAIROBI</td>\n",
              "        <td>NAIROBI EAST, NAIROBI Kenya<br></td>\n",
              "        <td>None</td>\n",
              "        <td>36.967484000000006</td>\n",
              "        <td>1</td>\n",
              "        <td>nairobi</td>\n",
              "    </tr>\n",
              "    <tr>\n",
              "        <td>NAIROBI NORTH</td>\n",
              "        <td>Rural</td>\n",
              "        <td>0</td>\n",
              "        <td>0</td>\n",
              "        <td>0</td>\n",
              "        <td>0</td>\n",
              "        <td>0.0</td>\n",
              "        <td>None</td>\n",
              "        <td>None</td>\n",
              "        <td>None</td>\n",
              "        <td>NAIROBI</td>\n",
              "        <td>NAIROBI NORTH, NAIROBI Kenya<br></td>\n",
              "        <td>None</td>\n",
              "        <td>36.8911257</td>\n",
              "        <td>2</td>\n",
              "        <td>nairobi</td>\n",
              "    </tr>\n",
              "    <tr>\n",
              "        <td>WESTLANDS</td>\n",
              "        <td>Rural</td>\n",
              "        <td>0</td>\n",
              "        <td>0</td>\n",
              "        <td>0</td>\n",
              "        <td>0</td>\n",
              "        <td>0.0</td>\n",
              "        <td>None</td>\n",
              "        <td>None</td>\n",
              "        <td>None</td>\n",
              "        <td>NAIROBI</td>\n",
              "        <td>WESTLANDS, NAIROBI Kenya<br></td>\n",
              "        <td>None</td>\n",
              "        <td>36.7882561</td>\n",
              "        <td>3</td>\n",
              "        <td>nairobi</td>\n",
              "    </tr>\n",
              "    <tr>\n",
              "        <td>NYANDARUA NORTH</td>\n",
              "        <td>Rural</td>\n",
              "        <td>106111</td>\n",
              "        <td>109785</td>\n",
              "        <td>215896</td>\n",
              "        <td>52503</td>\n",
              "        <td>1394.69</td>\n",
              "        <td>37.64</td>\n",
              "        <td>109861.0821</td>\n",
              "        <td>1.034624</td>\n",
              "        <td>CENTRAL</td>\n",
              "        <td>NYANDARUA NORTH, CENTRAL Kenya<br></td>\n",
              "        <td>None</td>\n",
              "        <td>36.42343108</td>\n",
              "        <td>4</td>\n",
              "        <td>central</td>\n",
              "    </tr>\n",
              "</table>"
            ],
            "text/plain": [
              "[('NAIROBI WEST', 'Rural', 0, 0, 0, 0, 0.0, None, None, None, 'NAIROBI', 'NAIROBI WEST, NAIROBI Kenya\\n', None, 36.79920201, 0, 'nairobi'),\n",
              " ('NAIROBI EAST', 'Rural', 0, 0, 0, 0, 0.0, None, None, None, 'NAIROBI', 'NAIROBI EAST, NAIROBI Kenya\\n', None, 36.967484000000006, 1, 'nairobi'),\n",
              " ('NAIROBI NORTH', 'Rural', 0, 0, 0, 0, 0.0, None, None, None, 'NAIROBI', 'NAIROBI NORTH, NAIROBI Kenya\\n', None, 36.8911257, 2, 'nairobi'),\n",
              " ('WESTLANDS', 'Rural', 0, 0, 0, 0, 0.0, None, None, None, 'NAIROBI', 'WESTLANDS, NAIROBI Kenya\\n', None, 36.7882561, 3, 'nairobi'),\n",
              " ('NYANDARUA NORTH', 'Rural', 106111, 109785, 215896, 52503, 1394.69, 37.64, 109861.0821, 1.034624, 'CENTRAL', 'NYANDARUA NORTH, CENTRAL Kenya\\n', None, 36.42343108, 4, 'central')]"
            ]
          },
          "metadata": {
            "tags": []
          },
          "execution_count": 26
        }
      ]
    },
    {
      "cell_type": "code",
      "metadata": {
        "id": "vSH0V6QtEiys",
        "colab_type": "code",
        "colab": {
          "base_uri": "https://localhost:8080/",
          "height": 182
        },
        "outputId": "0a2bd172-acb4-4ab7-b71b-da04edaa82ba"
      },
      "source": [
        "# Challenge 1\n",
        "# Using the Governments appointments dataset, \n",
        "# in gender field, let's replace m = 1 and f = 0\n",
        "# \n",
        "\n",
        "%%sql\n",
        "select ACT,Gender, REPLACE(REPLACE(\"Gender\" , \"m\" , \"1\") , \"f\" , \"0\") as 'gender' from GovtAppointments limit 5"
      ],
      "execution_count": 37,
      "outputs": [
        {
          "output_type": "stream",
          "text": [
            " * sqlite://\n",
            "Done.\n"
          ],
          "name": "stdout"
        },
        {
          "output_type": "execute_result",
          "data": {
            "text/html": [
              "<table>\n",
              "    <tr>\n",
              "        <th>ACT</th>\n",
              "        <th>Gender</th>\n",
              "        <th>gender</th>\n",
              "    </tr>\n",
              "    <tr>\n",
              "        <td>The State Corporations Act</td>\n",
              "        <td>m</td>\n",
              "        <td>1</td>\n",
              "    </tr>\n",
              "    <tr>\n",
              "        <td>The State Corporations Act</td>\n",
              "        <td>m</td>\n",
              "        <td>1</td>\n",
              "    </tr>\n",
              "    <tr>\n",
              "        <td>Agricultural Development Corporation Act</td>\n",
              "        <td>m</td>\n",
              "        <td>1</td>\n",
              "    </tr>\n",
              "    <tr>\n",
              "        <td>Agricultural Development Corporation Act</td>\n",
              "        <td>f</td>\n",
              "        <td>0</td>\n",
              "    </tr>\n",
              "    <tr>\n",
              "        <td>Agricultural Development Corporation Act</td>\n",
              "        <td>m</td>\n",
              "        <td>1</td>\n",
              "    </tr>\n",
              "</table>"
            ],
            "text/plain": [
              "[('The State Corporations Act', 'm', '1'),\n",
              " ('The State Corporations Act', 'm', '1'),\n",
              " ('Agricultural Development Corporation Act', 'm', '1'),\n",
              " ('Agricultural Development Corporation Act', 'f', '0'),\n",
              " ('Agricultural Development Corporation Act', 'm', '1')]"
            ]
          },
          "metadata": {
            "tags": []
          },
          "execution_count": 37
        }
      ]
    },
    {
      "cell_type": "code",
      "metadata": {
        "id": "fbE0BSYnF6v3",
        "colab_type": "code",
        "colab": {}
      },
      "source": [
        "##select Gender,REPLACE(REPLACE(LOWER(\"Gender\"), 'm', 1) ,'f', '0') AS \"NU Gender\" from "
      ],
      "execution_count": 0,
      "outputs": []
    },
    {
      "cell_type": "code",
      "metadata": {
        "id": "jaO1ohh96N8A",
        "colab_type": "code",
        "colab": {
          "base_uri": "https://localhost:8080/",
          "height": 428
        },
        "outputId": "7ddf9e18-1c4a-4362-9a34-c3c22268b18c"
      },
      "source": [
        "# Challenge 2\n",
        "# Using the Governments appointments dataset, \n",
        "# Let's merge the person appointing field with the appointers position field\n",
        "#\n",
        "%%sql\n",
        "select * ,Persons_Appointed_|| \",\" || Person_Appointing_ as 'appoint' from GovtAppointments limit 5"
      ],
      "execution_count": 38,
      "outputs": [
        {
          "output_type": "stream",
          "text": [
            " * sqlite://\n",
            "Done.\n"
          ],
          "name": "stdout"
        },
        {
          "output_type": "execute_result",
          "data": {
            "text/html": [
              "<table>\n",
              "    <tr>\n",
              "        <th>GAZETTE_NOTICE_NO_</th>\n",
              "        <th>Year</th>\n",
              "        <th>ACT</th>\n",
              "        <th>Cap</th>\n",
              "        <th>Persons_Appointed_</th>\n",
              "        <th>Position_</th>\n",
              "        <th>Date_Appointed_</th>\n",
              "        <th>Start_Date</th>\n",
              "        <th>End_Date</th>\n",
              "        <th>Person_Appointing_</th>\n",
              "        <th>Apointers_Position</th>\n",
              "        <th>Ministry</th>\n",
              "        <th>Parastatle_Appointed_to_</th>\n",
              "        <th>Duration_Months</th>\n",
              "        <th>Status</th>\n",
              "        <th>Gender</th>\n",
              "        <th>Original_GN</th>\n",
              "        <th>Original_GN_Year</th>\n",
              "        <th>OBJECTID</th>\n",
              "        <th>appoint</th>\n",
              "    </tr>\n",
              "    <tr>\n",
              "        <td>2827</td>\n",
              "        <td>01/01/2015 12:00:00 AM</td>\n",
              "        <td>The State Corporations Act</td>\n",
              "        <td>446.0</td>\n",
              "        <td>Gershom Otachi</td>\n",
              "        <td>Chairperson</td>\n",
              "        <td>04/17/2015 12:00:00 AM</td>\n",
              "        <td>05/20/2015 12:00:00 AM</td>\n",
              "        <td>None</td>\n",
              "        <td>Uhuru Kenyatta</td>\n",
              "        <td>President</td>\n",
              "        <td>None</td>\n",
              "        <td>Geothermal Development Company</td>\n",
              "        <td>36.0</td>\n",
              "        <td>Appointed </td>\n",
              "        <td>m</td>\n",
              "        <td>None</td>\n",
              "        <td>None</td>\n",
              "        <td>0</td>\n",
              "        <td>Gershom Otachi,Uhuru Kenyatta</td>\n",
              "    </tr>\n",
              "    <tr>\n",
              "        <td>2828</td>\n",
              "        <td>01/01/2015 12:00:00 AM</td>\n",
              "        <td>The State Corporations Act</td>\n",
              "        <td>446.0</td>\n",
              "        <td>Sammy Choge</td>\n",
              "        <td>Chairperson</td>\n",
              "        <td>04/17/2015 12:00:00 AM</td>\n",
              "        <td>04/17/2015 12:00:00 AM</td>\n",
              "        <td>None</td>\n",
              "        <td>Uhuru Kenyatta</td>\n",
              "        <td>President</td>\n",
              "        <td>None</td>\n",
              "        <td>Chemelil Sugar Company</td>\n",
              "        <td>36.0</td>\n",
              "        <td>Appointed </td>\n",
              "        <td>m</td>\n",
              "        <td>None</td>\n",
              "        <td>None</td>\n",
              "        <td>1</td>\n",
              "        <td>Sammy Choge,Uhuru Kenyatta</td>\n",
              "    </tr>\n",
              "    <tr>\n",
              "        <td>2829</td>\n",
              "        <td>01/01/2015 12:00:00 AM</td>\n",
              "        <td>Agricultural Development Corporation Act</td>\n",
              "        <td>444.0</td>\n",
              "        <td>Musa Sirma</td>\n",
              "        <td>Member of the Board</td>\n",
              "        <td>04/17/2015 12:00:00 AM</td>\n",
              "        <td>04/17/2015 12:00:00 AM</td>\n",
              "        <td>None</td>\n",
              "        <td>Uhuru Kenyatta</td>\n",
              "        <td>President</td>\n",
              "        <td>None</td>\n",
              "        <td>Agricultural Development Corporation</td>\n",
              "        <td>36.0</td>\n",
              "        <td>Appointed </td>\n",
              "        <td>m</td>\n",
              "        <td>None</td>\n",
              "        <td>None</td>\n",
              "        <td>2</td>\n",
              "        <td>Musa Sirma,Uhuru Kenyatta</td>\n",
              "    </tr>\n",
              "    <tr>\n",
              "        <td>2829</td>\n",
              "        <td>01/01/2015 12:00:00 AM</td>\n",
              "        <td>Agricultural Development Corporation Act</td>\n",
              "        <td>444.0</td>\n",
              "        <td>Susan Akinyi Wakiaga</td>\n",
              "        <td>Member of the Board</td>\n",
              "        <td>04/17/2015 12:00:00 AM</td>\n",
              "        <td>04/17/2015 12:00:00 AM</td>\n",
              "        <td>None</td>\n",
              "        <td>Uhuru Kenyatta</td>\n",
              "        <td>President</td>\n",
              "        <td>None</td>\n",
              "        <td>Agricultural Development Corporation</td>\n",
              "        <td>36.0</td>\n",
              "        <td>Appointed </td>\n",
              "        <td>f</td>\n",
              "        <td>None</td>\n",
              "        <td>None</td>\n",
              "        <td>3</td>\n",
              "        <td>Susan Akinyi Wakiaga,Uhuru Kenyatta</td>\n",
              "    </tr>\n",
              "    <tr>\n",
              "        <td>2829</td>\n",
              "        <td>01/01/2015 12:00:00 AM</td>\n",
              "        <td>Agricultural Development Corporation Act</td>\n",
              "        <td>444.0</td>\n",
              "        <td>Joseph Miriti Mwereria</td>\n",
              "        <td>Member of the Board</td>\n",
              "        <td>04/17/2015 12:00:00 AM</td>\n",
              "        <td>04/17/2015 12:00:00 AM</td>\n",
              "        <td>None</td>\n",
              "        <td>Uhuru Kenyatta</td>\n",
              "        <td>President</td>\n",
              "        <td>None</td>\n",
              "        <td>Agricultural Development Corporation</td>\n",
              "        <td>36.0</td>\n",
              "        <td>Appointed </td>\n",
              "        <td>m</td>\n",
              "        <td>None</td>\n",
              "        <td>None</td>\n",
              "        <td>4</td>\n",
              "        <td>Joseph Miriti Mwereria,Uhuru Kenyatta</td>\n",
              "    </tr>\n",
              "</table>"
            ],
            "text/plain": [
              "[(2827, '01/01/2015 12:00:00 AM', 'The State Corporations Act', 446.0, 'Gershom Otachi', 'Chairperson', '04/17/2015 12:00:00 AM', '05/20/2015 12:00:00 AM', None, 'Uhuru Kenyatta', 'President', None, 'Geothermal Development Company', 36.0, 'Appointed ', 'm', None, None, 0, 'Gershom Otachi,Uhuru Kenyatta'),\n",
              " (2828, '01/01/2015 12:00:00 AM', 'The State Corporations Act', 446.0, 'Sammy Choge', 'Chairperson', '04/17/2015 12:00:00 AM', '04/17/2015 12:00:00 AM', None, 'Uhuru Kenyatta', 'President', None, 'Chemelil Sugar Company', 36.0, 'Appointed ', 'm', None, None, 1, 'Sammy Choge,Uhuru Kenyatta'),\n",
              " (2829, '01/01/2015 12:00:00 AM', 'Agricultural Development Corporation Act', 444.0, 'Musa Sirma', 'Member of the Board', '04/17/2015 12:00:00 AM', '04/17/2015 12:00:00 AM', None, 'Uhuru Kenyatta', 'President', None, 'Agricultural Development Corporation', 36.0, 'Appointed ', 'm', None, None, 2, 'Musa Sirma,Uhuru Kenyatta'),\n",
              " (2829, '01/01/2015 12:00:00 AM', 'Agricultural Development Corporation Act', 444.0, 'Susan Akinyi Wakiaga', 'Member of the Board', '04/17/2015 12:00:00 AM', '04/17/2015 12:00:00 AM', None, 'Uhuru Kenyatta', 'President', None, 'Agricultural Development Corporation', 36.0, 'Appointed ', 'f', None, None, 3, 'Susan Akinyi Wakiaga,Uhuru Kenyatta'),\n",
              " (2829, '01/01/2015 12:00:00 AM', 'Agricultural Development Corporation Act', 444.0, 'Joseph Miriti Mwereria', 'Member of the Board', '04/17/2015 12:00:00 AM', '04/17/2015 12:00:00 AM', None, 'Uhuru Kenyatta', 'President', None, 'Agricultural Development Corporation', 36.0, 'Appointed ', 'm', None, None, 4, 'Joseph Miriti Mwereria,Uhuru Kenyatta')]"
            ]
          },
          "metadata": {
            "tags": []
          },
          "execution_count": 38
        }
      ]
    },
    {
      "cell_type": "code",
      "metadata": {
        "id": "I70ynmuaLduS",
        "colab_type": "code",
        "colab": {
          "base_uri": "https://localhost:8080/",
          "height": 462
        },
        "outputId": "54b697b6-87c0-48d9-d703-5ac5c08ef94c"
      },
      "source": [
        "# Challenge 3\n",
        "# Using the Population by District dataset, \n",
        "# let's change the values of the District column to lowercase \n",
        "# and display these values in a new column \n",
        "# \n",
        "\n",
        "%%sql\n",
        "select * ,lower(District) as 'new district' from population limit 5"
      ],
      "execution_count": 40,
      "outputs": [
        {
          "output_type": "stream",
          "text": [
            " * sqlite://\n",
            "Done.\n"
          ],
          "name": "stdout"
        },
        {
          "output_type": "execute_result",
          "data": {
            "text/html": [
              "<table>\n",
              "    <tr>\n",
              "        <th>District</th>\n",
              "        <th>rural/urban</th>\n",
              "        <th>Male</th>\n",
              "        <th>Female</th>\n",
              "        <th>Total</th>\n",
              "        <th>Households</th>\n",
              "        <th>Area_in_Sq_Km</th>\n",
              "        <th>_Household_Density_</th>\n",
              "        <th>Population_Density</th>\n",
              "        <th>Gender_Index</th>\n",
              "        <th>County</th>\n",
              "        <th>Location</th>\n",
              "        <th>Location_1</th>\n",
              "        <th>Province</th>\n",
              "        <th>OBJECTID</th>\n",
              "        <th>new district</th>\n",
              "    </tr>\n",
              "    <tr>\n",
              "        <td>NAIROBI WEST</td>\n",
              "        <td>Rural</td>\n",
              "        <td>0</td>\n",
              "        <td>0</td>\n",
              "        <td>0</td>\n",
              "        <td>0</td>\n",
              "        <td>0.0</td>\n",
              "        <td>None</td>\n",
              "        <td>None</td>\n",
              "        <td>None</td>\n",
              "        <td>NAIROBI</td>\n",
              "        <td>NAIROBI WEST, NAIROBI Kenya<br></td>\n",
              "        <td>None</td>\n",
              "        <td>36.79920201</td>\n",
              "        <td>0</td>\n",
              "        <td>nairobi west</td>\n",
              "    </tr>\n",
              "    <tr>\n",
              "        <td>NAIROBI EAST</td>\n",
              "        <td>Rural</td>\n",
              "        <td>0</td>\n",
              "        <td>0</td>\n",
              "        <td>0</td>\n",
              "        <td>0</td>\n",
              "        <td>0.0</td>\n",
              "        <td>None</td>\n",
              "        <td>None</td>\n",
              "        <td>None</td>\n",
              "        <td>NAIROBI</td>\n",
              "        <td>NAIROBI EAST, NAIROBI Kenya<br></td>\n",
              "        <td>None</td>\n",
              "        <td>36.967484000000006</td>\n",
              "        <td>1</td>\n",
              "        <td>nairobi east</td>\n",
              "    </tr>\n",
              "    <tr>\n",
              "        <td>NAIROBI NORTH</td>\n",
              "        <td>Rural</td>\n",
              "        <td>0</td>\n",
              "        <td>0</td>\n",
              "        <td>0</td>\n",
              "        <td>0</td>\n",
              "        <td>0.0</td>\n",
              "        <td>None</td>\n",
              "        <td>None</td>\n",
              "        <td>None</td>\n",
              "        <td>NAIROBI</td>\n",
              "        <td>NAIROBI NORTH, NAIROBI Kenya<br></td>\n",
              "        <td>None</td>\n",
              "        <td>36.8911257</td>\n",
              "        <td>2</td>\n",
              "        <td>nairobi north</td>\n",
              "    </tr>\n",
              "    <tr>\n",
              "        <td>WESTLANDS</td>\n",
              "        <td>Rural</td>\n",
              "        <td>0</td>\n",
              "        <td>0</td>\n",
              "        <td>0</td>\n",
              "        <td>0</td>\n",
              "        <td>0.0</td>\n",
              "        <td>None</td>\n",
              "        <td>None</td>\n",
              "        <td>None</td>\n",
              "        <td>NAIROBI</td>\n",
              "        <td>WESTLANDS, NAIROBI Kenya<br></td>\n",
              "        <td>None</td>\n",
              "        <td>36.7882561</td>\n",
              "        <td>3</td>\n",
              "        <td>westlands</td>\n",
              "    </tr>\n",
              "    <tr>\n",
              "        <td>NYANDARUA NORTH</td>\n",
              "        <td>Rural</td>\n",
              "        <td>106111</td>\n",
              "        <td>109785</td>\n",
              "        <td>215896</td>\n",
              "        <td>52503</td>\n",
              "        <td>1394.69</td>\n",
              "        <td>37.64</td>\n",
              "        <td>109861.0821</td>\n",
              "        <td>1.034624</td>\n",
              "        <td>CENTRAL</td>\n",
              "        <td>NYANDARUA NORTH, CENTRAL Kenya<br></td>\n",
              "        <td>None</td>\n",
              "        <td>36.42343108</td>\n",
              "        <td>4</td>\n",
              "        <td>nyandarua north</td>\n",
              "    </tr>\n",
              "</table>"
            ],
            "text/plain": [
              "[('NAIROBI WEST', 'Rural', 0, 0, 0, 0, 0.0, None, None, None, 'NAIROBI', 'NAIROBI WEST, NAIROBI Kenya\\n', None, 36.79920201, 0, 'nairobi west'),\n",
              " ('NAIROBI EAST', 'Rural', 0, 0, 0, 0, 0.0, None, None, None, 'NAIROBI', 'NAIROBI EAST, NAIROBI Kenya\\n', None, 36.967484000000006, 1, 'nairobi east'),\n",
              " ('NAIROBI NORTH', 'Rural', 0, 0, 0, 0, 0.0, None, None, None, 'NAIROBI', 'NAIROBI NORTH, NAIROBI Kenya\\n', None, 36.8911257, 2, 'nairobi north'),\n",
              " ('WESTLANDS', 'Rural', 0, 0, 0, 0, 0.0, None, None, None, 'NAIROBI', 'WESTLANDS, NAIROBI Kenya\\n', None, 36.7882561, 3, 'westlands'),\n",
              " ('NYANDARUA NORTH', 'Rural', 106111, 109785, 215896, 52503, 1394.69, 37.64, 109861.0821, 1.034624, 'CENTRAL', 'NYANDARUA NORTH, CENTRAL Kenya\\n', None, 36.42343108, 4, 'nyandarua north')]"
            ]
          },
          "metadata": {
            "tags": []
          },
          "execution_count": 40
        }
      ]
    },
    {
      "cell_type": "code",
      "metadata": {
        "id": "r4xVsTdXMqxJ",
        "colab_type": "code",
        "colab": {
          "base_uri": "https://localhost:8080/",
          "height": 182
        },
        "outputId": "6ea98d8e-9b5b-4469-8a24-e42b309749ad"
      },
      "source": [
        "# Example 1\n",
        "# You can work with time data just like any other kind of data type \n",
        "# when it is in the time format; HH:MM:SS\n",
        "# Let's answer some questions to see how this works\n",
        "# Question: Which athletes took time between 15.30 and 15.59 to pass the 5K mark?\n",
        "# NB: We order the results\n",
        "#\n",
        "%%sql \n",
        "SELECT Name, \"5K\" FROM MarathonResults \n",
        "WHERE \"5K\" > '0:15:30' and \"5K\" < '0:15:59' ORDER BY \"5K\" ASC limit 5;"
      ],
      "execution_count": 42,
      "outputs": [
        {
          "output_type": "stream",
          "text": [
            " * sqlite://\n",
            "Done.\n"
          ],
          "name": "stdout"
        },
        {
          "output_type": "execute_result",
          "data": {
            "text/html": [
              "<table>\n",
              "    <tr>\n",
              "        <th>Name</th>\n",
              "        <th>5K</th>\n",
              "    </tr>\n",
              "    <tr>\n",
              "        <td>Tsegay, Yemane Adhane</td>\n",
              "        <td>0:15:46</td>\n",
              "    </tr>\n",
              "    <tr>\n",
              "        <td>Korir, Wesley</td>\n",
              "        <td>0:15:46</td>\n",
              "    </tr>\n",
              "    <tr>\n",
              "        <td>Lonyangata, Paul</td>\n",
              "        <td>0:15:46</td>\n",
              "    </tr>\n",
              "    <tr>\n",
              "        <td>Kitwara, Sammy</td>\n",
              "        <td>0:15:46</td>\n",
              "    </tr>\n",
              "    <tr>\n",
              "        <td>Feleke, Getu</td>\n",
              "        <td>0:15:46</td>\n",
              "    </tr>\n",
              "</table>"
            ],
            "text/plain": [
              "[('Tsegay, Yemane Adhane', '0:15:46'),\n",
              " ('Korir, Wesley', '0:15:46'),\n",
              " ('Lonyangata, Paul', '0:15:46'),\n",
              " ('Kitwara, Sammy', '0:15:46'),\n",
              " ('Feleke, Getu', '0:15:46')]"
            ]
          },
          "metadata": {
            "tags": []
          },
          "execution_count": 42
        }
      ]
    },
    {
      "cell_type": "code",
      "metadata": {
        "id": "Zx1xjvkSOYFg",
        "colab_type": "code",
        "colab": {
          "base_uri": "https://localhost:8080/",
          "height": 96
        },
        "outputId": "340f16cb-832b-4c07-afcf-c95c01ee18af"
      },
      "source": [
        "# Example 2\n",
        "# Finding the minimum amount of time taken to cover 15K by an athlete during the marathon. \n",
        "# Hint: We use a where clause to ignore null/blank values - we will learn how to \n",
        "# deal with such values later in the course\n",
        "# \n",
        "%%sql\n",
        "SELECT MIN(\"5K\") \n",
        "FROM MarathonResults \n",
        "WHERE \"5K\" > 0;"
      ],
      "execution_count": 43,
      "outputs": [
        {
          "output_type": "stream",
          "text": [
            " * sqlite://\n",
            "Done.\n"
          ],
          "name": "stdout"
        },
        {
          "output_type": "execute_result",
          "data": {
            "text/html": [
              "<table>\n",
              "    <tr>\n",
              "        <th>MIN(&quot;5K&quot;)</th>\n",
              "    </tr>\n",
              "    <tr>\n",
              "        <td>0:15:46</td>\n",
              "    </tr>\n",
              "</table>"
            ],
            "text/plain": [
              "[('0:15:46',)]"
            ]
          },
          "metadata": {
            "tags": []
          },
          "execution_count": 43
        }
      ]
    },
    {
      "cell_type": "code",
      "metadata": {
        "id": "dd0-f2YJOkJS",
        "colab_type": "code",
        "colab": {
          "base_uri": "https://localhost:8080/",
          "height": 96
        },
        "outputId": "6713bb7f-d1f4-4a8d-e9e2-0b244dc4f55c"
      },
      "source": [
        "# Example 3\n",
        "# What was the average time covered by all athletes past the 10K mark?\n",
        "# \n",
        "%%sql\n",
        "SELECT time(AVG(\"10K\"))\n",
        "FROM MarathonResults \n",
        "WHERE \"10K\" > 0;"
      ],
      "execution_count": 46,
      "outputs": [
        {
          "output_type": "stream",
          "text": [
            " * sqlite://\n",
            "Done.\n"
          ],
          "name": "stdout"
        },
        {
          "output_type": "execute_result",
          "data": {
            "text/html": [
              "<table>\n",
              "    <tr>\n",
              "        <th>time(AVG(&quot;10K&quot;))</th>\n",
              "    </tr>\n",
              "    <tr>\n",
              "        <td>15:06:58</td>\n",
              "    </tr>\n",
              "</table>"
            ],
            "text/plain": [
              "[('15:06:58',)]"
            ]
          },
          "metadata": {
            "tags": []
          },
          "execution_count": 46
        }
      ]
    }
  ]
}