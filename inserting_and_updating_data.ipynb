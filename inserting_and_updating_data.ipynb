{
  "nbformat": 4,
  "nbformat_minor": 0,
  "metadata": {
    "colab": {
      "name": "inserting_and_updating_data.ipynb",
      "version": "0.3.2",
      "provenance": [],
      "include_colab_link": true
    },
    "kernelspec": {
      "name": "python3",
      "display_name": "Python 3"
    }
  },
  "cells": [
    {
      "cell_type": "markdown",
      "metadata": {
        "id": "view-in-github",
        "colab_type": "text"
      },
      "source": [
        "<a href=\"https://colab.research.google.com/github/yahyalito/sqlwork/blob/master/inserting_and_updating_data.ipynb\" target=\"_parent\"><img src=\"https://colab.research.google.com/assets/colab-badge.svg\" alt=\"Open In Colab\"/></a>"
      ]
    },
    {
      "cell_type": "code",
      "metadata": {
        "id": "YaivG23xjV3i",
        "colab_type": "code",
        "colab": {}
      },
      "source": [
        "%load_ext sql"
      ],
      "execution_count": 0,
      "outputs": []
    },
    {
      "cell_type": "code",
      "metadata": {
        "id": "hm6piqe3jdIK",
        "colab_type": "code",
        "colab": {
          "base_uri": "https://localhost:8080/",
          "height": 34
        },
        "outputId": "06244386-e3c6-45c6-fcae-419f1d1e623c"
      },
      "source": [
        "%sql sqlite://"
      ],
      "execution_count": 2,
      "outputs": [
        {
          "output_type": "execute_result",
          "data": {
            "text/plain": [
              "'Connected: @None'"
            ]
          },
          "metadata": {
            "tags": []
          },
          "execution_count": 2
        }
      ]
    },
    {
      "cell_type": "code",
      "metadata": {
        "id": "2BQUe9XfjdOB",
        "colab_type": "code",
        "colab": {}
      },
      "source": [
        "import csv"
      ],
      "execution_count": 0,
      "outputs": []
    },
    {
      "cell_type": "code",
      "metadata": {
        "id": "kTiK-BIKjdL2",
        "colab_type": "code",
        "colab": {}
      },
      "source": [
        "import pandas as pd"
      ],
      "execution_count": 0,
      "outputs": []
    },
    {
      "cell_type": "code",
      "metadata": {
        "id": "P2A-nABgkn6p",
        "colab_type": "code",
        "colab": {}
      },
      "source": [
        "with open('Glass.csv', 'r') as f:\n",
        "  Glass = pd.read_csv(f, index_col=0 ,encoding='utf-8')"
      ],
      "execution_count": 0,
      "outputs": []
    },
    {
      "cell_type": "code",
      "metadata": {
        "id": "12N8zYm_nBnu",
        "colab_type": "code",
        "colab": {
          "base_uri": "https://localhost:8080/",
          "height": 86
        },
        "outputId": "60fce3b8-1d55-4103-eadc-80fcc333fca4"
      },
      "source": [
        "%sql DROP TABLE if exists Glass\n",
        "%sql PERSIST Glass"
      ],
      "execution_count": 13,
      "outputs": [
        {
          "output_type": "stream",
          "text": [
            " * sqlite://\n",
            "Done.\n",
            " * sqlite://\n"
          ],
          "name": "stdout"
        },
        {
          "output_type": "execute_result",
          "data": {
            "text/plain": [
              "'Persisted glass'"
            ]
          },
          "metadata": {
            "tags": []
          },
          "execution_count": 13
        }
      ]
    },
    {
      "cell_type": "code",
      "metadata": {
        "id": "kfBcWfnUnB3D",
        "colab_type": "code",
        "colab": {
          "base_uri": "https://localhost:8080/",
          "height": 182
        },
        "outputId": "dde73483-697a-4c4c-865d-099091d3c151"
      },
      "source": [
        "%%sql\n",
        "select * from Glass limit 5;"
      ],
      "execution_count": 16,
      "outputs": [
        {
          "output_type": "stream",
          "text": [
            " * sqlite://\n",
            "Done.\n"
          ],
          "name": "stdout"
        },
        {
          "output_type": "execute_result",
          "data": {
            "text/html": [
              "<table>\n",
              "    <tr>\n",
              "        <th>RI</th>\n",
              "        <th>Na</th>\n",
              "        <th>Mg</th>\n",
              "        <th>Al</th>\n",
              "        <th>Si</th>\n",
              "        <th>K</th>\n",
              "        <th>Ca</th>\n",
              "        <th>Ba</th>\n",
              "        <th>Fe</th>\n",
              "        <th>Type</th>\n",
              "    </tr>\n",
              "    <tr>\n",
              "        <td>1.52101</td>\n",
              "        <td>13.64</td>\n",
              "        <td>4.49</td>\n",
              "        <td>1.1</td>\n",
              "        <td>71.78</td>\n",
              "        <td>0.06</td>\n",
              "        <td>8.75</td>\n",
              "        <td>0.0</td>\n",
              "        <td>0.0</td>\n",
              "        <td>1</td>\n",
              "    </tr>\n",
              "    <tr>\n",
              "        <td>1.5176100000000001</td>\n",
              "        <td>13.89</td>\n",
              "        <td>3.6</td>\n",
              "        <td>1.36</td>\n",
              "        <td>72.73</td>\n",
              "        <td>0.48</td>\n",
              "        <td>7.83</td>\n",
              "        <td>0.0</td>\n",
              "        <td>0.0</td>\n",
              "        <td>1</td>\n",
              "    </tr>\n",
              "    <tr>\n",
              "        <td>1.5161799999999999</td>\n",
              "        <td>13.53</td>\n",
              "        <td>3.55</td>\n",
              "        <td>1.54</td>\n",
              "        <td>72.99</td>\n",
              "        <td>0.39</td>\n",
              "        <td>7.78</td>\n",
              "        <td>0.0</td>\n",
              "        <td>0.0</td>\n",
              "        <td>1</td>\n",
              "    </tr>\n",
              "    <tr>\n",
              "        <td>1.51766</td>\n",
              "        <td>13.21</td>\n",
              "        <td>3.69</td>\n",
              "        <td>1.29</td>\n",
              "        <td>72.61</td>\n",
              "        <td>0.57</td>\n",
              "        <td>8.22</td>\n",
              "        <td>0.0</td>\n",
              "        <td>0.0</td>\n",
              "        <td>1</td>\n",
              "    </tr>\n",
              "    <tr>\n",
              "        <td>1.51742</td>\n",
              "        <td>13.27</td>\n",
              "        <td>3.62</td>\n",
              "        <td>1.24</td>\n",
              "        <td>73.08</td>\n",
              "        <td>0.55</td>\n",
              "        <td>8.07</td>\n",
              "        <td>0.0</td>\n",
              "        <td>0.0</td>\n",
              "        <td>1</td>\n",
              "    </tr>\n",
              "</table>"
            ],
            "text/plain": [
              "[(1.52101, 13.64, 4.49, 1.1, 71.78, 0.06, 8.75, 0.0, 0.0, 1),\n",
              " (1.5176100000000001, 13.89, 3.6, 1.36, 72.73, 0.48, 7.83, 0.0, 0.0, 1),\n",
              " (1.5161799999999999, 13.53, 3.55, 1.54, 72.99, 0.39, 7.78, 0.0, 0.0, 1),\n",
              " (1.51766, 13.21, 3.69, 1.29, 72.61, 0.57, 8.22, 0.0, 0.0, 1),\n",
              " (1.51742, 13.27, 3.62, 1.24, 73.08, 0.55, 8.07, 0.0, 0.0, 1)]"
            ]
          },
          "metadata": {
            "tags": []
          },
          "execution_count": 16
        }
      ]
    },
    {
      "cell_type": "code",
      "metadata": {
        "id": "hTG9z6MUliBV",
        "colab_type": "code",
        "colab": {}
      },
      "source": [
        "with open('Interpol.csv' , 'r') as f:\n",
        "  Interpol= pd.read_csv(f, index_col=0, encoding = 'utf-8')"
      ],
      "execution_count": 0,
      "outputs": []
    },
    {
      "cell_type": "code",
      "metadata": {
        "id": "yrfAOMmZnhhk",
        "colab_type": "code",
        "colab": {
          "base_uri": "https://localhost:8080/",
          "height": 86
        },
        "outputId": "20f47334-bf1a-4e74-c1bc-9aa8c36f0a5d"
      },
      "source": [
        "%sql DROP TABLE if exists Interpol\n",
        "%sql PERSIST Interpol"
      ],
      "execution_count": 20,
      "outputs": [
        {
          "output_type": "stream",
          "text": [
            " * sqlite://\n",
            "Done.\n",
            " * sqlite://\n"
          ],
          "name": "stdout"
        },
        {
          "output_type": "execute_result",
          "data": {
            "text/plain": [
              "'Persisted interpol'"
            ]
          },
          "metadata": {
            "tags": []
          },
          "execution_count": 20
        }
      ]
    },
    {
      "cell_type": "code",
      "metadata": {
        "id": "tSQVyQqpnhql",
        "colab_type": "code",
        "colab": {
          "base_uri": "https://localhost:8080/",
          "height": 286
        },
        "outputId": "772b2fd7-fe32-42b1-b3c4-77ab568f0a0f"
      },
      "source": [
        "%%sql\n",
        "select * from Interpol limit 5;"
      ],
      "execution_count": 23,
      "outputs": [
        {
          "output_type": "stream",
          "text": [
            " * sqlite://\n",
            "Done.\n"
          ],
          "name": "stdout"
        },
        {
          "output_type": "execute_result",
          "data": {
            "text/html": [
              "<table>\n",
              "    <tr>\n",
              "        <th>Country</th>\n",
              "        <th>National Fugitives</th>\n",
              "        <th>Wanted Fugitives</th>\n",
              "        <th>Possible Hosted Fugitives / Captured Fugitives</th>\n",
              "        <th>Region</th>\n",
              "        <th>Flag</th>\n",
              "    </tr>\n",
              "    <tr>\n",
              "        <td>Albania</td>\n",
              "        <td>3</td>\n",
              "        <td>3</td>\n",
              "        <td>0</td>\n",
              "        <td>Europe</td>\n",
              "        <td>http://www.crwflags.com/fotw/images/a/al.gif</td>\n",
              "    </tr>\n",
              "    <tr>\n",
              "        <td>Angola</td>\n",
              "        <td>0</td>\n",
              "        <td>0</td>\n",
              "        <td>1</td>\n",
              "        <td>Northern Africa</td>\n",
              "        <td>http://www.crwflags.com/fotw/images/a/ao.gif</td>\n",
              "    </tr>\n",
              "    <tr>\n",
              "        <td>Argentina</td>\n",
              "        <td>2</td>\n",
              "        <td>2</td>\n",
              "        <td>1</td>\n",
              "        <td>South America</td>\n",
              "        <td>http://www.crwflags.com/fotw/images/a/ar.gif</td>\n",
              "    </tr>\n",
              "    <tr>\n",
              "        <td>Australia</td>\n",
              "        <td>1</td>\n",
              "        <td>1</td>\n",
              "        <td>2</td>\n",
              "        <td>Oceania</td>\n",
              "        <td>http://www.crwflags.com/fotw/images/a/au.gif</td>\n",
              "    </tr>\n",
              "    <tr>\n",
              "        <td>Austria</td>\n",
              "        <td>1</td>\n",
              "        <td>1</td>\n",
              "        <td>0</td>\n",
              "        <td>Europe</td>\n",
              "        <td>http://www.crwflags.com/fotw/images/a/at.gif</td>\n",
              "    </tr>\n",
              "</table>"
            ],
            "text/plain": [
              "[('Albania', 3, 3, 0, 'Europe', 'http://www.crwflags.com/fotw/images/a/al.gif'),\n",
              " ('Angola', 0, 0, 1, 'Northern Africa', 'http://www.crwflags.com/fotw/images/a/ao.gif'),\n",
              " ('Argentina', 2, 2, 1, 'South America', 'http://www.crwflags.com/fotw/images/a/ar.gif'),\n",
              " ('Australia', 1, 1, 2, 'Oceania', 'http://www.crwflags.com/fotw/images/a/au.gif'),\n",
              " ('Austria', 1, 1, 0, 'Europe', 'http://www.crwflags.com/fotw/images/a/at.gif')]"
            ]
          },
          "metadata": {
            "tags": []
          },
          "execution_count": 23
        }
      ]
    },
    {
      "cell_type": "code",
      "metadata": {
        "id": "lQSVSICUl4DB",
        "colab_type": "code",
        "colab": {}
      },
      "source": [
        "with open('Startups.csv' , 'r') as f:\n",
        "  Startups = pd.read_csv(f, index_col=0 , encoding='utf-8')"
      ],
      "execution_count": 0,
      "outputs": []
    },
    {
      "cell_type": "code",
      "metadata": {
        "id": "FGuEl7tMoeKM",
        "colab_type": "code",
        "colab": {
          "base_uri": "https://localhost:8080/",
          "height": 86
        },
        "outputId": "cf502964-fcbb-4981-c037-95279f597e46"
      },
      "source": [
        "%sql DROP TABLE if exists Startups\n",
        "%sql PERSIST Startups"
      ],
      "execution_count": 24,
      "outputs": [
        {
          "output_type": "stream",
          "text": [
            " * sqlite://\n",
            "Done.\n",
            " * sqlite://\n"
          ],
          "name": "stdout"
        },
        {
          "output_type": "execute_result",
          "data": {
            "text/plain": [
              "'Persisted startups'"
            ]
          },
          "metadata": {
            "tags": []
          },
          "execution_count": 24
        }
      ]
    },
    {
      "cell_type": "code",
      "metadata": {
        "id": "CpobYp0hoePG",
        "colab_type": "code",
        "colab": {
          "base_uri": "https://localhost:8080/",
          "height": 1487
        },
        "outputId": "c840dfca-8805-4186-9165-f30ab3e8469c"
      },
      "source": [
        "%%sql\n",
        "select * from Startups limit 5;"
      ],
      "execution_count": 26,
      "outputs": [
        {
          "output_type": "stream",
          "text": [
            " * sqlite://\n",
            "Done.\n"
          ],
          "name": "stdout"
        },
        {
          "output_type": "execute_result",
          "data": {
            "text/html": [
              "<table>\n",
              "    <tr>\n",
              "        <th>Company</th>\n",
              "        <th>Satus</th>\n",
              "        <th>Year Founded</th>\n",
              "        <th>Mapping Location</th>\n",
              "        <th>Description</th>\n",
              "        <th>Categories</th>\n",
              "        <th>Founders</th>\n",
              "        <th>Y Combinator Year</th>\n",
              "        <th>Y Combinator Session</th>\n",
              "        <th>Investors</th>\n",
              "        <th>Amounts raised in different funding rounds</th>\n",
              "        <th>Office Address</th>\n",
              "        <th>Headquarters (City)</th>\n",
              "        <th>Headquarters (US State)</th>\n",
              "        <th>Headquarters (Country)</th>\n",
              "        <th>Logo</th>\n",
              "        <th>Seed-DB / Mattermark Profile</th>\n",
              "        <th>Crunchbase / Angel List Profile</th>\n",
              "        <th>Website</th>\n",
              "    </tr>\n",
              "    <tr>\n",
              "        <td>Curebit</td>\n",
              "        <td>Operating</td>\n",
              "        <td>2010.0</td>\n",
              "        <td>San Francisco - California - USA</td>\n",
              "        <td>Talkable is a social referral platform for online stories and subscriptions.</td>\n",
              "        <td>E-Commerce, Analytics, Internet, Marketing, Social Media</td>\n",
              "        <td>Allan Grant, Dominic Coryell, Jeff Yee, Nori Yoshida</td>\n",
              "        <td>2011</td>\n",
              "        <td>Winter</td>\n",
              "        <td>500 Startups, Dharmesh Shah, Alex Lloyd, Auren Hoffman, Gordon Tucker, Stage One Capital, reinmkr inc., Karl Jacob, Y Combinator</td>\n",
              "        <td>$1200000, undisclosed amount</td>\n",
              "        <td>290 Division St, #405, San Francisco, California, USA</td>\n",
              "        <td>San Francisco</td>\n",
              "        <td>California</td>\n",
              "        <td>USA</td>\n",
              "        <td>http://a5.images.crunchbase.com/image/upload/c_pad,h_98,w_98/v1407434890/sf19b2lsipbo6fazmjzq.png</td>\n",
              "        <td>http://www.seed-db.com/companies/view?companyid=102020</td>\n",
              "        <td>http://www.crunchbase.com/organization/curebit</td>\n",
              "        <td>https://www.talkable.com</td>\n",
              "    </tr>\n",
              "    <tr>\n",
              "        <td>Goldbely</td>\n",
              "        <td>Operating</td>\n",
              "        <td>None</td>\n",
              "        <td>San Francisco - California - USA</td>\n",
              "        <td>Goldbely is an e-commerce site for buying and discovering America&#x27;s best handmade gourmet food &amp; gifts.</td>\n",
              "        <td>Social, E-Commerce</td>\n",
              "        <td>Joe Ariel, Joel Gillman, Trevor Stow, Vanessa Torrivilla</td>\n",
              "        <td>2013</td>\n",
              "        <td>Winter</td>\n",
              "        <td>500 Startups, Funders Club, Dave McClure, Tim Draper, Intel Capital, ACE &amp; Company, Y Combinator</td>\n",
              "        <td>$3,000,000</td>\n",
              "        <td>1 Bluxome Street, San Francisco, California, USA</td>\n",
              "        <td>San Francisco</td>\n",
              "        <td>California</td>\n",
              "        <td>USA</td>\n",
              "        <td>http://a3.images.crunchbase.com/image/upload/c_pad,h_98,w_98/v1397180367/99717257bb2a360419f75b586503af93.png</td>\n",
              "        <td>http://www.seed-db.com/companies/view?companyid=729001</td>\n",
              "        <td>http://www.crunchbase.com/organization/goldbely</td>\n",
              "        <td>http://www.goldbely.com</td>\n",
              "    </tr>\n",
              "    <tr>\n",
              "        <td>theDailyMuse</td>\n",
              "        <td>Operating</td>\n",
              "        <td>2011.0</td>\n",
              "        <td>New York City - New York - USA</td>\n",
              "        <td>The Daily Muse is a job search platform offering multimedia profiles of various companies that are hiring people.</td>\n",
              "        <td>None</td>\n",
              "        <td>Alex Cavoulacos, Kathryn Minshew, Melissa McCreery</td>\n",
              "        <td>2012</td>\n",
              "        <td>Winter</td>\n",
              "        <td>500 Startups, Great Oaks Venture Capital, Great Oaks Venture Capital, Thomas D. Lehrman, Adam Quinton, Y Combinator</td>\n",
              "        <td>$2800000, $2100000, $1200000, $1200000</td>\n",
              "        <td>33 WEST 26TH STREET, #2, New York, New York, USA</td>\n",
              "        <td>New York City</td>\n",
              "        <td>New York</td>\n",
              "        <td>USA</td>\n",
              "        <td>http://a5.images.crunchbase.com/image/upload/c_pad,h_98,w_98/v1398232938/ffck9mcohrtktbkj3oie.jpg</td>\n",
              "        <td>http://www.seed-db.com/companies/view?companyid=96040</td>\n",
              "        <td>http://www.crunchbase.com/organization/the-daily-muse</td>\n",
              "        <td>http://www.thedailymuse.com</td>\n",
              "    </tr>\n",
              "    <tr>\n",
              "        <td>Zencoder</td>\n",
              "        <td>Exited</td>\n",
              "        <td>None</td>\n",
              "        <td>San Francisco - California - USA</td>\n",
              "        <td>Zencoder is web-based video encoding SaaS designed to convert any video into web and mobile-compatible formats in real-time.</td>\n",
              "        <td>SaaS, Cloud Computing, Audio, Web Development, Data, Security, Video, Software</td>\n",
              "        <td>Brandon Arbini, Jon Dahl, Steve Heffernan</td>\n",
              "        <td>2010</td>\n",
              "        <td>Winter</td>\n",
              "        <td>500 Startups, Matt Cutts, Ignition Partners, James Lindenbaum, Orion Henry, Neil McClements, Wolfgang Buehler, Justin Yoshimura, Mike Bollinger, Adam Wiggins, SV Angel, Founder Collective, Robert Weber, Lowercase Capital, Andreessen Horowitz, Y Combinator</td>\n",
              "        <td>$2000000, undisclosed amount</td>\n",
              "        <td>San Francisco, CA, 94103, USA</td>\n",
              "        <td>San Francisco</td>\n",
              "        <td>California</td>\n",
              "        <td>USA</td>\n",
              "        <td>http://a1.images.crunchbase.com/image/upload/c_pad,h_98,w_98/v1397206653/62e91e3f1c95f92912be5bd26638ea60.png</td>\n",
              "        <td>http://www.seed-db.com/companies/view?companyid=98019</td>\n",
              "        <td>http://www.crunchbase.com/organization/zencoder</td>\n",
              "        <td>http://zencoder.com</td>\n",
              "    </tr>\n",
              "    <tr>\n",
              "        <td>GinzaMetrics</td>\n",
              "        <td>Operating</td>\n",
              "        <td>None</td>\n",
              "        <td>San Francisco - California - USA</td>\n",
              "        <td>GinzaMetrics offers an SEO and content marketing platform that provides recommendations and competitor analytics to agencies and marketers.</td>\n",
              "        <td>Enterprises, E-Commerce, Analytics, SEO, Enterprise Software</td>\n",
              "        <td>Ray Grieselhuber</td>\n",
              "        <td>2010</td>\n",
              "        <td>Summer</td>\n",
              "        <td>500 Startups, 500 Startups, Venture51, Jeff Miller, SunBridge Global Ventures, Y Combinator</td>\n",
              "        <td>undisclosed amount, $1300000, $400000, $14000</td>\n",
              "        <td>25 Taylor Street, San Francisco, CA, 94103, USA</td>\n",
              "        <td>San Francisco</td>\n",
              "        <td>California</td>\n",
              "        <td>USA</td>\n",
              "        <td>http://a2.images.crunchbase.com/image/upload/c_pad,h_98,w_98/v1397186693/0738a0a8a1cce45f209ec0b0cbc75627.png</td>\n",
              "        <td>http://www.seed-db.com/companies/view?companyid=103018</td>\n",
              "        <td>http://www.crunchbase.com/organization/ginzametrics</td>\n",
              "        <td>http://ginzametrics.com</td>\n",
              "    </tr>\n",
              "</table>"
            ],
            "text/plain": [
              "[('Curebit', 'Operating', 2010.0, 'San Francisco - California - USA', 'Talkable is a social referral platform for online stories and subscriptions.', 'E-Commerce, Analytics, Internet, Marketing, Social Media', 'Allan Grant, Dominic Coryell, Jeff Yee, Nori Yoshida', 2011, 'Winter', '500 Startups, Dharmesh Shah, Alex Lloyd, Auren Hoffman, Gordon Tucker, Stage One Capital, reinmkr inc., Karl Jacob, Y Combinator', '$1200000, undisclosed amount', '290 Division St, #405, San Francisco, California, USA', 'San Francisco', 'California', 'USA', 'http://a5.images.crunchbase.com/image/upload/c_pad,h_98,w_98/v1407434890/sf19b2lsipbo6fazmjzq.png', 'http://www.seed-db.com/companies/view?companyid=102020', 'http://www.crunchbase.com/organization/curebit', 'https://www.talkable.com'),\n",
              " ('Goldbely', 'Operating', None, 'San Francisco - California - USA', \"Goldbely is an e-commerce site for buying and discovering America's best handmade gourmet food & gifts.\", 'Social, E-Commerce', 'Joe Ariel, Joel Gillman, Trevor Stow, Vanessa Torrivilla', 2013, 'Winter', '500 Startups, Funders Club, Dave McClure, Tim Draper, Intel Capital, ACE & Company, Y Combinator', '$3,000,000', '1 Bluxome Street, San Francisco, California, USA', 'San Francisco', 'California', 'USA', 'http://a3.images.crunchbase.com/image/upload/c_pad,h_98,w_98/v1397180367/99717257bb2a360419f75b586503af93.png', 'http://www.seed-db.com/companies/view?companyid=729001', 'http://www.crunchbase.com/organization/goldbely', 'http://www.goldbely.com'),\n",
              " ('theDailyMuse', 'Operating', 2011.0, 'New York City - New York - USA', 'The Daily Muse is a job search platform offering multimedia profiles of various companies that are hiring people.', None, 'Alex Cavoulacos, Kathryn Minshew, Melissa McCreery', 2012, 'Winter', '500 Startups, Great Oaks Venture Capital, Great Oaks Venture Capital, Thomas D. Lehrman, Adam Quinton, Y Combinator', '$2800000, $2100000, $1200000, $1200000', '33 WEST 26TH STREET, #2, New York, New York, USA', 'New York City', 'New York', 'USA', 'http://a5.images.crunchbase.com/image/upload/c_pad,h_98,w_98/v1398232938/ffck9mcohrtktbkj3oie.jpg', 'http://www.seed-db.com/companies/view?companyid=96040', 'http://www.crunchbase.com/organization/the-daily-muse', 'http://www.thedailymuse.com'),\n",
              " ('Zencoder', 'Exited', None, 'San Francisco - California - USA', 'Zencoder is web-based video encoding SaaS designed to convert any video into web and mobile-compatible formats in real-time.', 'SaaS, Cloud Computing, Audio, Web Development, Data, Security, Video, Software', 'Brandon Arbini, Jon Dahl, Steve Heffernan', 2010, 'Winter', '500 Startups, Matt Cutts, Ignition Partners, James Lindenbaum, Orion Henry, Neil McClements, Wolfgang Buehler, Justin Yoshimura, Mike Bollinger, Adam Wiggins, SV Angel, Founder Collective, Robert Weber, Lowercase Capital, Andreessen Horowitz, Y Combinator', '$2000000, undisclosed amount', 'San Francisco, CA, 94103, USA', 'San Francisco', 'California', 'USA', 'http://a1.images.crunchbase.com/image/upload/c_pad,h_98,w_98/v1397206653/62e91e3f1c95f92912be5bd26638ea60.png', 'http://www.seed-db.com/companies/view?companyid=98019', 'http://www.crunchbase.com/organization/zencoder', 'http://zencoder.com'),\n",
              " ('GinzaMetrics', 'Operating', None, 'San Francisco - California - USA', 'GinzaMetrics offers an SEO and content marketing platform that provides recommendations and competitor analytics to agencies and marketers.', 'Enterprises, E-Commerce, Analytics, SEO, Enterprise Software', 'Ray Grieselhuber', 2010, 'Summer', '500 Startups, 500 Startups, Venture51, Jeff Miller, SunBridge Global Ventures, Y Combinator', 'undisclosed amount, $1300000, $400000, $14000', '25 Taylor Street, San Francisco, CA, 94103, USA', 'San Francisco', 'California', 'USA', 'http://a2.images.crunchbase.com/image/upload/c_pad,h_98,w_98/v1397186693/0738a0a8a1cce45f209ec0b0cbc75627.png', 'http://www.seed-db.com/companies/view?companyid=103018', 'http://www.crunchbase.com/organization/ginzametrics', 'http://ginzametrics.com')]"
            ]
          },
          "metadata": {
            "tags": []
          },
          "execution_count": 26
        }
      ]
    },
    {
      "cell_type": "code",
      "metadata": {
        "id": "Xj6BdhTtmJP7",
        "colab_type": "code",
        "colab": {}
      },
      "source": [
        "with open('Transactions.csv', 'r') as f:\n",
        "  Transactions = pd.read_csv(f, index_col = 0 , encoding = 'utf-8')"
      ],
      "execution_count": 0,
      "outputs": []
    },
    {
      "cell_type": "code",
      "metadata": {
        "id": "cU6tohLto5Qo",
        "colab_type": "code",
        "colab": {
          "base_uri": "https://localhost:8080/",
          "height": 86
        },
        "outputId": "2fe059dc-d0ba-4bb7-9595-a278220e89ef"
      },
      "source": [
        "%sql DROP TABLE if exists Transactions\n",
        "%sql PERSIST Transactions"
      ],
      "execution_count": 27,
      "outputs": [
        {
          "output_type": "stream",
          "text": [
            " * sqlite://\n",
            "Done.\n",
            " * sqlite://\n"
          ],
          "name": "stdout"
        },
        {
          "output_type": "execute_result",
          "data": {
            "text/plain": [
              "'Persisted transactions'"
            ]
          },
          "metadata": {
            "tags": []
          },
          "execution_count": 27
        }
      ]
    },
    {
      "cell_type": "code",
      "metadata": {
        "id": "5cEYIJt9o5MY",
        "colab_type": "code",
        "colab": {
          "base_uri": "https://localhost:8080/",
          "height": 202
        },
        "outputId": "3f11d043-957e-4f8d-ab20-1f44da641bd3"
      },
      "source": [
        "%%sql\n",
        "select * from Transactions limit 5;"
      ],
      "execution_count": 31,
      "outputs": [
        {
          "output_type": "stream",
          "text": [
            " * sqlite://\n",
            "Done.\n"
          ],
          "name": "stdout"
        },
        {
          "output_type": "execute_result",
          "data": {
            "text/html": [
              "<table>\n",
              "    <tr>\n",
              "        <th>ride_id</th>\n",
              "        <th>seat_number</th>\n",
              "        <th>payment_method</th>\n",
              "        <th>payment_receipt</th>\n",
              "        <th>travel_date</th>\n",
              "        <th>travel_time</th>\n",
              "        <th>travel_from</th>\n",
              "        <th>travel_to</th>\n",
              "        <th>car_type</th>\n",
              "        <th>max_capacity</th>\n",
              "    </tr>\n",
              "    <tr>\n",
              "        <td>1442</td>\n",
              "        <td>15A</td>\n",
              "        <td>Mpesa</td>\n",
              "        <td>UZUEHCBUSO</td>\n",
              "        <td>17-10-17</td>\n",
              "        <td>7:15</td>\n",
              "        <td>Migori</td>\n",
              "        <td>Nairobi</td>\n",
              "        <td>Bus</td>\n",
              "        <td>49</td>\n",
              "    </tr>\n",
              "    <tr>\n",
              "        <td>5437</td>\n",
              "        <td>14A</td>\n",
              "        <td>Mpesa</td>\n",
              "        <td>TIHLBUSGTE</td>\n",
              "        <td>19-11-17</td>\n",
              "        <td>7:12</td>\n",
              "        <td>Migori</td>\n",
              "        <td>Nairobi</td>\n",
              "        <td>Bus</td>\n",
              "        <td>49</td>\n",
              "    </tr>\n",
              "    <tr>\n",
              "        <td>5710</td>\n",
              "        <td>8B</td>\n",
              "        <td>Mpesa</td>\n",
              "        <td>EQX8Q5G19O</td>\n",
              "        <td>26-11-17</td>\n",
              "        <td>7:05</td>\n",
              "        <td>Keroka</td>\n",
              "        <td>Nairobi</td>\n",
              "        <td>Bus</td>\n",
              "        <td>49</td>\n",
              "    </tr>\n",
              "    <tr>\n",
              "        <td>5777</td>\n",
              "        <td>19A</td>\n",
              "        <td>Mpesa</td>\n",
              "        <td>SGP18CL0ME</td>\n",
              "        <td>27-11-17</td>\n",
              "        <td>7:10</td>\n",
              "        <td>Homa Bay</td>\n",
              "        <td>Nairobi</td>\n",
              "        <td>Bus</td>\n",
              "        <td>49</td>\n",
              "    </tr>\n",
              "    <tr>\n",
              "        <td>5778</td>\n",
              "        <td>11A</td>\n",
              "        <td>Mpesa</td>\n",
              "        <td>BM97HFRGL9</td>\n",
              "        <td>27-11-17</td>\n",
              "        <td>7:12</td>\n",
              "        <td>Migori</td>\n",
              "        <td>Nairobi</td>\n",
              "        <td>Bus</td>\n",
              "        <td>49</td>\n",
              "    </tr>\n",
              "</table>"
            ],
            "text/plain": [
              "[(1442, '15A', 'Mpesa', 'UZUEHCBUSO', '17-10-17', '7:15', 'Migori', 'Nairobi', 'Bus', 49),\n",
              " (5437, '14A', 'Mpesa', 'TIHLBUSGTE', '19-11-17', '7:12', 'Migori', 'Nairobi', 'Bus', 49),\n",
              " (5710, '8B', 'Mpesa', 'EQX8Q5G19O', '26-11-17', '7:05', 'Keroka', 'Nairobi', 'Bus', 49),\n",
              " (5777, '19A', 'Mpesa', 'SGP18CL0ME', '27-11-17', '7:10', 'Homa Bay', 'Nairobi', 'Bus', 49),\n",
              " (5778, '11A', 'Mpesa', 'BM97HFRGL9', '27-11-17', '7:12', 'Migori', 'Nairobi', 'Bus', 49)]"
            ]
          },
          "metadata": {
            "tags": []
          },
          "execution_count": 31
        }
      ]
    },
    {
      "cell_type": "code",
      "metadata": {
        "id": "57Xbvd5qmlDT",
        "colab_type": "code",
        "colab": {}
      },
      "source": [
        "with open('WorldCup.csv' , 'r') as f:\n",
        "  WorldCup = pd.read_csv(f, index_col=0 , encoding='utf-8')"
      ],
      "execution_count": 0,
      "outputs": []
    },
    {
      "cell_type": "code",
      "metadata": {
        "id": "O_3h2PuHpX6o",
        "colab_type": "code",
        "colab": {
          "base_uri": "https://localhost:8080/",
          "height": 86
        },
        "outputId": "1a5134ec-c189-4a7f-ea7d-aa26033bbbfe"
      },
      "source": [
        "%sql DROP TABLE if exists WorldCup\n",
        "%sql PERSIST WorldCup"
      ],
      "execution_count": 32,
      "outputs": [
        {
          "output_type": "stream",
          "text": [
            " * sqlite://\n",
            "Done.\n",
            " * sqlite://\n"
          ],
          "name": "stdout"
        },
        {
          "output_type": "execute_result",
          "data": {
            "text/plain": [
              "'Persisted worldcup'"
            ]
          },
          "metadata": {
            "tags": []
          },
          "execution_count": 32
        }
      ]
    },
    {
      "cell_type": "code",
      "metadata": {
        "id": "9R5vrR4ypX_O",
        "colab_type": "code",
        "colab": {
          "base_uri": "https://localhost:8080/",
          "height": 376
        },
        "outputId": "a9abd4a4-eedc-4ea9-943c-7aa99dfba515"
      },
      "source": [
        "%%sql\n",
        "select * from WorldCup limit 5;"
      ],
      "execution_count": 34,
      "outputs": [
        {
          "output_type": "stream",
          "text": [
            " * sqlite://\n",
            "Done.\n"
          ],
          "name": "stdout"
        },
        {
          "output_type": "execute_result",
          "data": {
            "text/html": [
              "<table>\n",
              "    <tr>\n",
              "        <th>Year</th>\n",
              "        <th>Datetime</th>\n",
              "        <th>Stage</th>\n",
              "        <th>Stadium</th>\n",
              "        <th>City</th>\n",
              "        <th>Home_Team_Name</th>\n",
              "        <th>Home_Team_Goals</th>\n",
              "        <th>Away_Team_Goals</th>\n",
              "        <th>Away_Team_Name</th>\n",
              "        <th>Win_conditions</th>\n",
              "        <th>Attendance</th>\n",
              "        <th>Halftime_Home_Goals</th>\n",
              "        <th>Halftime_Away_Goals</th>\n",
              "        <th>Referee</th>\n",
              "        <th>Assistant1</th>\n",
              "        <th>Assistant2</th>\n",
              "        <th>RoundID</th>\n",
              "        <th>MatchID</th>\n",
              "        <th>Home_Team_Initials</th>\n",
              "        <th>Away_Team_Initials</th>\n",
              "    </tr>\n",
              "    <tr>\n",
              "        <td>1930</td>\n",
              "        <td>13 Jul 1930 - 15:00 </td>\n",
              "        <td>Group 1</td>\n",
              "        <td>Pocitos</td>\n",
              "        <td>Montevideo </td>\n",
              "        <td>France</td>\n",
              "        <td>4</td>\n",
              "        <td>1</td>\n",
              "        <td>Mexico</td>\n",
              "        <td> </td>\n",
              "        <td>4444.0</td>\n",
              "        <td>3</td>\n",
              "        <td>0</td>\n",
              "        <td>LOMBARDI Domingo (URU)</td>\n",
              "        <td>CRISTOPHE Henry (BEL)</td>\n",
              "        <td>REGO Gilberto (BRA)</td>\n",
              "        <td>201</td>\n",
              "        <td>1096</td>\n",
              "        <td>FRA</td>\n",
              "        <td>MEX</td>\n",
              "    </tr>\n",
              "    <tr>\n",
              "        <td>1930</td>\n",
              "        <td>13 Jul 1930 - 15:00 </td>\n",
              "        <td>Group 4</td>\n",
              "        <td>Parque Central</td>\n",
              "        <td>Montevideo </td>\n",
              "        <td>USA</td>\n",
              "        <td>3</td>\n",
              "        <td>0</td>\n",
              "        <td>Belgium</td>\n",
              "        <td> </td>\n",
              "        <td>18346.0</td>\n",
              "        <td>2</td>\n",
              "        <td>0</td>\n",
              "        <td>MACIAS Jose (ARG)</td>\n",
              "        <td>MATEUCCI Francisco (URU)</td>\n",
              "        <td>WARNKEN Alberto (CHI)</td>\n",
              "        <td>201</td>\n",
              "        <td>1090</td>\n",
              "        <td>USA</td>\n",
              "        <td>BEL</td>\n",
              "    </tr>\n",
              "    <tr>\n",
              "        <td>1930</td>\n",
              "        <td>14 Jul 1930 - 12:45 </td>\n",
              "        <td>Group 2</td>\n",
              "        <td>Parque Central</td>\n",
              "        <td>Montevideo </td>\n",
              "        <td>Yugoslavia</td>\n",
              "        <td>2</td>\n",
              "        <td>1</td>\n",
              "        <td>Brazil</td>\n",
              "        <td> </td>\n",
              "        <td>24059.0</td>\n",
              "        <td>2</td>\n",
              "        <td>0</td>\n",
              "        <td>TEJADA Anibal (URU)</td>\n",
              "        <td>VALLARINO Ricardo (URU)</td>\n",
              "        <td>BALWAY Thomas (FRA)</td>\n",
              "        <td>201</td>\n",
              "        <td>1093</td>\n",
              "        <td>YUG</td>\n",
              "        <td>BRA</td>\n",
              "    </tr>\n",
              "    <tr>\n",
              "        <td>1930</td>\n",
              "        <td>14 Jul 1930 - 14:50 </td>\n",
              "        <td>Group 3</td>\n",
              "        <td>Pocitos</td>\n",
              "        <td>Montevideo </td>\n",
              "        <td>Romania</td>\n",
              "        <td>3</td>\n",
              "        <td>1</td>\n",
              "        <td>Peru</td>\n",
              "        <td> </td>\n",
              "        <td>2549.0</td>\n",
              "        <td>1</td>\n",
              "        <td>0</td>\n",
              "        <td>WARNKEN Alberto (CHI)</td>\n",
              "        <td>LANGENUS Jean (BEL)</td>\n",
              "        <td>MATEUCCI Francisco (URU)</td>\n",
              "        <td>201</td>\n",
              "        <td>1098</td>\n",
              "        <td>ROU</td>\n",
              "        <td>PER</td>\n",
              "    </tr>\n",
              "    <tr>\n",
              "        <td>1930</td>\n",
              "        <td>15 Jul 1930 - 16:00 </td>\n",
              "        <td>Group 1</td>\n",
              "        <td>Parque Central</td>\n",
              "        <td>Montevideo </td>\n",
              "        <td>Argentina</td>\n",
              "        <td>1</td>\n",
              "        <td>0</td>\n",
              "        <td>France</td>\n",
              "        <td> </td>\n",
              "        <td>23409.0</td>\n",
              "        <td>0</td>\n",
              "        <td>0</td>\n",
              "        <td>REGO Gilberto (BRA)</td>\n",
              "        <td>SAUCEDO Ulises (BOL)</td>\n",
              "        <td>RADULESCU Constantin (ROU)</td>\n",
              "        <td>201</td>\n",
              "        <td>1085</td>\n",
              "        <td>ARG</td>\n",
              "        <td>FRA</td>\n",
              "    </tr>\n",
              "</table>"
            ],
            "text/plain": [
              "[(1930, '13 Jul 1930 - 15:00 ', 'Group 1', 'Pocitos', 'Montevideo ', 'France', 4, 1, 'Mexico', ' ', 4444.0, 3, 0, 'LOMBARDI Domingo (URU)', 'CRISTOPHE Henry (BEL)', 'REGO Gilberto (BRA)', 201, 1096, 'FRA', 'MEX'),\n",
              " (1930, '13 Jul 1930 - 15:00 ', 'Group 4', 'Parque Central', 'Montevideo ', 'USA', 3, 0, 'Belgium', ' ', 18346.0, 2, 0, 'MACIAS Jose (ARG)', 'MATEUCCI Francisco (URU)', 'WARNKEN Alberto (CHI)', 201, 1090, 'USA', 'BEL'),\n",
              " (1930, '14 Jul 1930 - 12:45 ', 'Group 2', 'Parque Central', 'Montevideo ', 'Yugoslavia', 2, 1, 'Brazil', ' ', 24059.0, 2, 0, 'TEJADA Anibal (URU)', 'VALLARINO Ricardo (URU)', 'BALWAY Thomas (FRA)', 201, 1093, 'YUG', 'BRA'),\n",
              " (1930, '14 Jul 1930 - 14:50 ', 'Group 3', 'Pocitos', 'Montevideo ', 'Romania', 3, 1, 'Peru', ' ', 2549.0, 1, 0, 'WARNKEN Alberto (CHI)', 'LANGENUS Jean (BEL)', 'MATEUCCI Francisco (URU)', 201, 1098, 'ROU', 'PER'),\n",
              " (1930, '15 Jul 1930 - 16:00 ', 'Group 1', 'Parque Central', 'Montevideo ', 'Argentina', 1, 0, 'France', ' ', 23409.0, 0, 0, 'REGO Gilberto (BRA)', 'SAUCEDO Ulises (BOL)', 'RADULESCU Constantin (ROU)', 201, 1085, 'ARG', 'FRA')]"
            ]
          },
          "metadata": {
            "tags": []
          },
          "execution_count": 34
        }
      ]
    },
    {
      "cell_type": "code",
      "metadata": {
        "id": "xzIcCkg1pui-",
        "colab_type": "code",
        "colab": {
          "base_uri": "https://localhost:8080/",
          "height": 304
        },
        "outputId": "e91b72a5-682d-4516-98e8-6e49236faae2"
      },
      "source": [
        "# Example 1: Previewing our table \n",
        "# We will first preview the last 5 records in Interpol our table\n",
        "# NB: We learn this in our last SQL Session i.e. Sorting\n",
        "#\n",
        "\n",
        "%%sql\n",
        "select * from Interpol ORDER BY Country DESC limit 5;"
      ],
      "execution_count": 37,
      "outputs": [
        {
          "output_type": "stream",
          "text": [
            " * sqlite://\n",
            "Done.\n"
          ],
          "name": "stdout"
        },
        {
          "output_type": "execute_result",
          "data": {
            "text/html": [
              "<table>\n",
              "    <tr>\n",
              "        <th>Country</th>\n",
              "        <th>National Fugitives</th>\n",
              "        <th>Wanted Fugitives</th>\n",
              "        <th>Possible Hosted Fugitives / Captured Fugitives</th>\n",
              "        <th>Region</th>\n",
              "        <th>Flag</th>\n",
              "    </tr>\n",
              "    <tr>\n",
              "        <td>Zimbabwe</td>\n",
              "        <td>0</td>\n",
              "        <td>0</td>\n",
              "        <td>2</td>\n",
              "        <td>Southern Africa</td>\n",
              "        <td>http://www.crwflags.com/fotw/images/z/zw.gif</td>\n",
              "    </tr>\n",
              "    <tr>\n",
              "        <td>Zambia</td>\n",
              "        <td>1</td>\n",
              "        <td>0</td>\n",
              "        <td>2</td>\n",
              "        <td>Southern Africa</td>\n",
              "        <td>http://www.crwflags.com/fotw/images/z/zm.gif</td>\n",
              "    </tr>\n",
              "    <tr>\n",
              "        <td>Venezuela</td>\n",
              "        <td>0</td>\n",
              "        <td>1</td>\n",
              "        <td>0</td>\n",
              "        <td>South America</td>\n",
              "        <td>http://www.crwflags.com/fotw/images/v/ve.gif</td>\n",
              "    </tr>\n",
              "    <tr>\n",
              "        <td>Uruguay</td>\n",
              "        <td>1</td>\n",
              "        <td>1</td>\n",
              "        <td>1</td>\n",
              "        <td>South America</td>\n",
              "        <td>http://www.crwflags.com/fotw/images/u/uy.gif</td>\n",
              "    </tr>\n",
              "    <tr>\n",
              "        <td>United States</td>\n",
              "        <td>8</td>\n",
              "        <td>11</td>\n",
              "        <td>6</td>\n",
              "        <td>North America</td>\n",
              "        <td>http://www.crwflags.com/fotw/images/u/us.gif</td>\n",
              "    </tr>\n",
              "</table>"
            ],
            "text/plain": [
              "[('Zimbabwe', 0, 0, 2, 'Southern Africa', 'http://www.crwflags.com/fotw/images/z/zw.gif'),\n",
              " ('Zambia', 1, 0, 2, 'Southern Africa', 'http://www.crwflags.com/fotw/images/z/zm.gif'),\n",
              " ('Venezuela', 0, 1, 0, 'South America', 'http://www.crwflags.com/fotw/images/v/ve.gif'),\n",
              " ('Uruguay', 1, 1, 1, 'South America', 'http://www.crwflags.com/fotw/images/u/uy.gif'),\n",
              " ('United States', 8, 11, 6, 'North America', 'http://www.crwflags.com/fotw/images/u/us.gif')]"
            ]
          },
          "metadata": {
            "tags": []
          },
          "execution_count": 37
        }
      ]
    }
  ]
}