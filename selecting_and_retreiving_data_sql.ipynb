{
  "nbformat": 4,
  "nbformat_minor": 0,
  "metadata": {
    "colab": {
      "name": "selecting_and_retreiving_data_sql.ipynb",
      "version": "0.3.2",
      "provenance": [],
      "toc_visible": true,
      "include_colab_link": true
    },
    "kernelspec": {
      "name": "python3",
      "display_name": "Python 3"
    }
  },
  "cells": [
    {
      "cell_type": "markdown",
      "metadata": {
        "id": "view-in-github",
        "colab_type": "text"
      },
      "source": [
        "<a href=\"https://colab.research.google.com/github/yahyalito/sqlwork/blob/master/selecting_and_retreiving_data_sql.ipynb\" target=\"_parent\"><img src=\"https://colab.research.google.com/assets/colab-badge.svg\" alt=\"Open In Colab\"/></a>"
      ]
    },
    {
      "cell_type": "code",
      "metadata": {
        "id": "ZizjTcFFqCbO",
        "colab_type": "code",
        "colab": {
          "base_uri": "https://localhost:8080/",
          "height": 34
        },
        "outputId": "483d7604-1bc9-4027-a046-b0d627e0c68e"
      },
      "source": [
        "%load_ext sql\n",
        "%sql sqlite://"
      ],
      "execution_count": 4,
      "outputs": [
        {
          "output_type": "execute_result",
          "data": {
            "text/plain": [
              "'Connected: @None'"
            ]
          },
          "metadata": {
            "tags": []
          },
          "execution_count": 4
        }
      ]
    },
    {
      "cell_type": "code",
      "metadata": {
        "id": "5PntNvThqbQ1",
        "colab_type": "code",
        "colab": {}
      },
      "source": [
        "import csv\n",
        "import pandas as pd"
      ],
      "execution_count": 0,
      "outputs": []
    },
    {
      "cell_type": "code",
      "metadata": {
        "id": "1T-74V3Sqhvn",
        "colab_type": "code",
        "colab": {}
      },
      "source": [
        "with open('Countries.csv' , 'r') as f:\n",
        "  interpol= pd.read_csv(f, index_col=0 , encoding='utf-8')"
      ],
      "execution_count": 0,
      "outputs": []
    },
    {
      "cell_type": "code",
      "metadata": {
        "id": "WKNbvWK3rVUg",
        "colab_type": "code",
        "colab": {
          "base_uri": "https://localhost:8080/",
          "height": 69
        },
        "outputId": "e45352bc-f615-4796-bf6b-b9c790bf811b"
      },
      "source": [
        "%%sql\n",
        "DROP TABLE if exists interpol;\n"
      ],
      "execution_count": 9,
      "outputs": [
        {
          "output_type": "stream",
          "text": [
            " * sqlite://\n",
            "Done.\n"
          ],
          "name": "stdout"
        },
        {
          "output_type": "execute_result",
          "data": {
            "text/plain": [
              "[]"
            ]
          },
          "metadata": {
            "tags": []
          },
          "execution_count": 9
        }
      ]
    },
    {
      "cell_type": "code",
      "metadata": {
        "id": "zDCsXwHDsAvs",
        "colab_type": "code",
        "colab": {
          "base_uri": "https://localhost:8080/",
          "height": 52
        },
        "outputId": "64c44ccf-fcb1-4f73-d7be-c697d7cc4283"
      },
      "source": [
        "%sql PERSIST interpol;"
      ],
      "execution_count": 10,
      "outputs": [
        {
          "output_type": "stream",
          "text": [
            " * sqlite://\n"
          ],
          "name": "stdout"
        },
        {
          "output_type": "execute_result",
          "data": {
            "text/plain": [
              "'Persisted interpol'"
            ]
          },
          "metadata": {
            "tags": []
          },
          "execution_count": 10
        }
      ]
    },
    {
      "cell_type": "code",
      "metadata": {
        "id": "WoUVNlPWstoa",
        "colab_type": "code",
        "colab": {}
      },
      "source": [
        "with open('WorldCup.csv' , 'r') as f:\n",
        "  worldCup = pd.read_csv(f,index_col=0 ,encoding='utf-8')"
      ],
      "execution_count": 0,
      "outputs": []
    },
    {
      "cell_type": "code",
      "metadata": {
        "id": "KvrqrJuVvZyu",
        "colab_type": "code",
        "colab": {
          "base_uri": "https://localhost:8080/",
          "height": 69
        },
        "outputId": "65fc0ee0-37e1-411e-aebb-9cc70484ddec"
      },
      "source": [
        "%sql DROP TABLE if exists worldCup"
      ],
      "execution_count": 12,
      "outputs": [
        {
          "output_type": "stream",
          "text": [
            " * sqlite://\n",
            "Done.\n"
          ],
          "name": "stdout"
        },
        {
          "output_type": "execute_result",
          "data": {
            "text/plain": [
              "[]"
            ]
          },
          "metadata": {
            "tags": []
          },
          "execution_count": 12
        }
      ]
    },
    {
      "cell_type": "code",
      "metadata": {
        "id": "8rfTFtIvvnV4",
        "colab_type": "code",
        "colab": {
          "base_uri": "https://localhost:8080/",
          "height": 52
        },
        "outputId": "523bdffb-cb40-4d65-9d1c-7a84cadfb23d"
      },
      "source": [
        "%sql PERSIST worldCup;"
      ],
      "execution_count": 13,
      "outputs": [
        {
          "output_type": "stream",
          "text": [
            " * sqlite://\n"
          ],
          "name": "stdout"
        },
        {
          "output_type": "execute_result",
          "data": {
            "text/plain": [
              "'Persisted worldcup'"
            ]
          },
          "metadata": {
            "tags": []
          },
          "execution_count": 13
        }
      ]
    },
    {
      "cell_type": "code",
      "metadata": {
        "id": "oeCRN0vyxIEj",
        "colab_type": "code",
        "colab": {
          "base_uri": "https://localhost:8080/",
          "height": 286
        },
        "outputId": "4ee9f75e-a57c-40a0-be06-424ffcc08e99"
      },
      "source": [
        "%sql select * from interpol limit 5;"
      ],
      "execution_count": 14,
      "outputs": [
        {
          "output_type": "stream",
          "text": [
            " * sqlite://\n",
            "Done.\n"
          ],
          "name": "stdout"
        },
        {
          "output_type": "execute_result",
          "data": {
            "text/html": [
              "<table>\n",
              "    <tr>\n",
              "        <th>Country</th>\n",
              "        <th>NationalFugitives</th>\n",
              "        <th>WantedFugitives</th>\n",
              "        <th>PossibleHostedFugitives / Captured Fugitives</th>\n",
              "        <th>Region</th>\n",
              "        <th>Flag</th>\n",
              "    </tr>\n",
              "    <tr>\n",
              "        <td>Albania</td>\n",
              "        <td>3</td>\n",
              "        <td>3</td>\n",
              "        <td>0</td>\n",
              "        <td>Europe</td>\n",
              "        <td>http://www.crwflags.com/fotw/images/a/al.gif</td>\n",
              "    </tr>\n",
              "    <tr>\n",
              "        <td>Angola</td>\n",
              "        <td>0</td>\n",
              "        <td>0</td>\n",
              "        <td>1</td>\n",
              "        <td>Northern Africa</td>\n",
              "        <td>http://www.crwflags.com/fotw/images/a/ao.gif</td>\n",
              "    </tr>\n",
              "    <tr>\n",
              "        <td>Argentina</td>\n",
              "        <td>2</td>\n",
              "        <td>2</td>\n",
              "        <td>1</td>\n",
              "        <td>South America</td>\n",
              "        <td>http://www.crwflags.com/fotw/images/a/ar.gif</td>\n",
              "    </tr>\n",
              "    <tr>\n",
              "        <td>Australia</td>\n",
              "        <td>1</td>\n",
              "        <td>1</td>\n",
              "        <td>2</td>\n",
              "        <td>Oceania</td>\n",
              "        <td>http://www.crwflags.com/fotw/images/a/au.gif</td>\n",
              "    </tr>\n",
              "    <tr>\n",
              "        <td>Austria</td>\n",
              "        <td>1</td>\n",
              "        <td>1</td>\n",
              "        <td>0</td>\n",
              "        <td>Europe</td>\n",
              "        <td>http://www.crwflags.com/fotw/images/a/at.gif</td>\n",
              "    </tr>\n",
              "</table>"
            ],
            "text/plain": [
              "[('Albania', 3, 3, 0, 'Europe', 'http://www.crwflags.com/fotw/images/a/al.gif'),\n",
              " ('Angola', 0, 0, 1, 'Northern Africa', 'http://www.crwflags.com/fotw/images/a/ao.gif'),\n",
              " ('Argentina', 2, 2, 1, 'South America', 'http://www.crwflags.com/fotw/images/a/ar.gif'),\n",
              " ('Australia', 1, 1, 2, 'Oceania', 'http://www.crwflags.com/fotw/images/a/au.gif'),\n",
              " ('Austria', 1, 1, 0, 'Europe', 'http://www.crwflags.com/fotw/images/a/at.gif')]"
            ]
          },
          "metadata": {
            "tags": []
          },
          "execution_count": 14
        }
      ]
    },
    {
      "cell_type": "code",
      "metadata": {
        "id": "wpEyOs3NxVxa",
        "colab_type": "code",
        "colab": {
          "base_uri": "https://localhost:8080/",
          "height": 376
        },
        "outputId": "e869464d-4d30-4b1f-84dd-e59be59b7d3f"
      },
      "source": [
        "%sql select * from worldcup limit 5;"
      ],
      "execution_count": 15,
      "outputs": [
        {
          "output_type": "stream",
          "text": [
            " * sqlite://\n",
            "Done.\n"
          ],
          "name": "stdout"
        },
        {
          "output_type": "execute_result",
          "data": {
            "text/html": [
              "<table>\n",
              "    <tr>\n",
              "        <th>Year</th>\n",
              "        <th>Datetime</th>\n",
              "        <th>Stage</th>\n",
              "        <th>Stadium</th>\n",
              "        <th>City</th>\n",
              "        <th>Home_Team_Name</th>\n",
              "        <th>Home_Team_Goals</th>\n",
              "        <th>Away_Team_Goals</th>\n",
              "        <th>Away_Team_Name</th>\n",
              "        <th>Win_conditions</th>\n",
              "        <th>Attendance</th>\n",
              "        <th>Halftime_Home_Goals</th>\n",
              "        <th>Halftime_Away_Goals</th>\n",
              "        <th>Referee</th>\n",
              "        <th>Assistant1</th>\n",
              "        <th>Assistant2</th>\n",
              "        <th>RoundID</th>\n",
              "        <th>MatchID</th>\n",
              "        <th>Home_Team_Initials</th>\n",
              "        <th>Away_Team_Initials</th>\n",
              "    </tr>\n",
              "    <tr>\n",
              "        <td>1930</td>\n",
              "        <td>13 Jul 1930 - 15:00 </td>\n",
              "        <td>Group 1</td>\n",
              "        <td>Pocitos</td>\n",
              "        <td>Montevideo </td>\n",
              "        <td>France</td>\n",
              "        <td>4</td>\n",
              "        <td>1</td>\n",
              "        <td>Mexico</td>\n",
              "        <td> </td>\n",
              "        <td>4444.0</td>\n",
              "        <td>3</td>\n",
              "        <td>0</td>\n",
              "        <td>LOMBARDI Domingo (URU)</td>\n",
              "        <td>CRISTOPHE Henry (BEL)</td>\n",
              "        <td>REGO Gilberto (BRA)</td>\n",
              "        <td>201</td>\n",
              "        <td>1096</td>\n",
              "        <td>FRA</td>\n",
              "        <td>MEX</td>\n",
              "    </tr>\n",
              "    <tr>\n",
              "        <td>1930</td>\n",
              "        <td>13 Jul 1930 - 15:00 </td>\n",
              "        <td>Group 4</td>\n",
              "        <td>Parque Central</td>\n",
              "        <td>Montevideo </td>\n",
              "        <td>USA</td>\n",
              "        <td>3</td>\n",
              "        <td>0</td>\n",
              "        <td>Belgium</td>\n",
              "        <td> </td>\n",
              "        <td>18346.0</td>\n",
              "        <td>2</td>\n",
              "        <td>0</td>\n",
              "        <td>MACIAS Jose (ARG)</td>\n",
              "        <td>MATEUCCI Francisco (URU)</td>\n",
              "        <td>WARNKEN Alberto (CHI)</td>\n",
              "        <td>201</td>\n",
              "        <td>1090</td>\n",
              "        <td>USA</td>\n",
              "        <td>BEL</td>\n",
              "    </tr>\n",
              "    <tr>\n",
              "        <td>1930</td>\n",
              "        <td>14 Jul 1930 - 12:45 </td>\n",
              "        <td>Group 2</td>\n",
              "        <td>Parque Central</td>\n",
              "        <td>Montevideo </td>\n",
              "        <td>Yugoslavia</td>\n",
              "        <td>2</td>\n",
              "        <td>1</td>\n",
              "        <td>Brazil</td>\n",
              "        <td> </td>\n",
              "        <td>24059.0</td>\n",
              "        <td>2</td>\n",
              "        <td>0</td>\n",
              "        <td>TEJADA Anibal (URU)</td>\n",
              "        <td>VALLARINO Ricardo (URU)</td>\n",
              "        <td>BALWAY Thomas (FRA)</td>\n",
              "        <td>201</td>\n",
              "        <td>1093</td>\n",
              "        <td>YUG</td>\n",
              "        <td>BRA</td>\n",
              "    </tr>\n",
              "    <tr>\n",
              "        <td>1930</td>\n",
              "        <td>14 Jul 1930 - 14:50 </td>\n",
              "        <td>Group 3</td>\n",
              "        <td>Pocitos</td>\n",
              "        <td>Montevideo </td>\n",
              "        <td>Romania</td>\n",
              "        <td>3</td>\n",
              "        <td>1</td>\n",
              "        <td>Peru</td>\n",
              "        <td> </td>\n",
              "        <td>2549.0</td>\n",
              "        <td>1</td>\n",
              "        <td>0</td>\n",
              "        <td>WARNKEN Alberto (CHI)</td>\n",
              "        <td>LANGENUS Jean (BEL)</td>\n",
              "        <td>MATEUCCI Francisco (URU)</td>\n",
              "        <td>201</td>\n",
              "        <td>1098</td>\n",
              "        <td>ROU</td>\n",
              "        <td>PER</td>\n",
              "    </tr>\n",
              "    <tr>\n",
              "        <td>1930</td>\n",
              "        <td>15 Jul 1930 - 16:00 </td>\n",
              "        <td>Group 1</td>\n",
              "        <td>Parque Central</td>\n",
              "        <td>Montevideo </td>\n",
              "        <td>Argentina</td>\n",
              "        <td>1</td>\n",
              "        <td>0</td>\n",
              "        <td>France</td>\n",
              "        <td> </td>\n",
              "        <td>23409.0</td>\n",
              "        <td>0</td>\n",
              "        <td>0</td>\n",
              "        <td>REGO Gilberto (BRA)</td>\n",
              "        <td>SAUCEDO Ulises (BOL)</td>\n",
              "        <td>RADULESCU Constantin (ROU)</td>\n",
              "        <td>201</td>\n",
              "        <td>1085</td>\n",
              "        <td>ARG</td>\n",
              "        <td>FRA</td>\n",
              "    </tr>\n",
              "</table>"
            ],
            "text/plain": [
              "[(1930, '13 Jul 1930 - 15:00 ', 'Group 1', 'Pocitos', 'Montevideo ', 'France', 4, 1, 'Mexico', ' ', 4444.0, 3, 0, 'LOMBARDI Domingo (URU)', 'CRISTOPHE Henry (BEL)', 'REGO Gilberto (BRA)', 201, 1096, 'FRA', 'MEX'),\n",
              " (1930, '13 Jul 1930 - 15:00 ', 'Group 4', 'Parque Central', 'Montevideo ', 'USA', 3, 0, 'Belgium', ' ', 18346.0, 2, 0, 'MACIAS Jose (ARG)', 'MATEUCCI Francisco (URU)', 'WARNKEN Alberto (CHI)', 201, 1090, 'USA', 'BEL'),\n",
              " (1930, '14 Jul 1930 - 12:45 ', 'Group 2', 'Parque Central', 'Montevideo ', 'Yugoslavia', 2, 1, 'Brazil', ' ', 24059.0, 2, 0, 'TEJADA Anibal (URU)', 'VALLARINO Ricardo (URU)', 'BALWAY Thomas (FRA)', 201, 1093, 'YUG', 'BRA'),\n",
              " (1930, '14 Jul 1930 - 14:50 ', 'Group 3', 'Pocitos', 'Montevideo ', 'Romania', 3, 1, 'Peru', ' ', 2549.0, 1, 0, 'WARNKEN Alberto (CHI)', 'LANGENUS Jean (BEL)', 'MATEUCCI Francisco (URU)', 201, 1098, 'ROU', 'PER'),\n",
              " (1930, '15 Jul 1930 - 16:00 ', 'Group 1', 'Parque Central', 'Montevideo ', 'Argentina', 1, 0, 'France', ' ', 23409.0, 0, 0, 'REGO Gilberto (BRA)', 'SAUCEDO Ulises (BOL)', 'RADULESCU Constantin (ROU)', 201, 1085, 'ARG', 'FRA')]"
            ]
          },
          "metadata": {
            "tags": []
          },
          "execution_count": 15
        }
      ]
    },
    {
      "cell_type": "code",
      "metadata": {
        "id": "PUcjXWer0Nal",
        "colab_type": "code",
        "colab": {
          "base_uri": "https://localhost:8080/",
          "height": 182
        },
        "outputId": "8a201f1c-390b-4c3b-bcd4-15406c00204c"
      },
      "source": [
        "%%sql\n",
        "select Country from interpol limit 5;"
      ],
      "execution_count": 40,
      "outputs": [
        {
          "output_type": "stream",
          "text": [
            " * sqlite://\n",
            "Done.\n"
          ],
          "name": "stdout"
        },
        {
          "output_type": "execute_result",
          "data": {
            "text/html": [
              "<table>\n",
              "    <tr>\n",
              "        <th>Country</th>\n",
              "    </tr>\n",
              "    <tr>\n",
              "        <td>Albania</td>\n",
              "    </tr>\n",
              "    <tr>\n",
              "        <td>Angola</td>\n",
              "    </tr>\n",
              "    <tr>\n",
              "        <td>Argentina</td>\n",
              "    </tr>\n",
              "    <tr>\n",
              "        <td>Australia</td>\n",
              "    </tr>\n",
              "    <tr>\n",
              "        <td>Austria</td>\n",
              "    </tr>\n",
              "</table>"
            ],
            "text/plain": [
              "[('Albania',), ('Angola',), ('Argentina',), ('Australia',), ('Austria',)]"
            ]
          },
          "metadata": {
            "tags": []
          },
          "execution_count": 40
        }
      ]
    },
    {
      "cell_type": "code",
      "metadata": {
        "id": "ZUj-S5Rj4Bst",
        "colab_type": "code",
        "colab": {
          "base_uri": "https://localhost:8080/",
          "height": 286
        },
        "outputId": "49af85fd-2134-46d4-feb4-66140b3fe681"
      },
      "source": [
        "%%sql\n",
        "select * from interpol limit 5;"
      ],
      "execution_count": 57,
      "outputs": [
        {
          "output_type": "stream",
          "text": [
            " * sqlite://\n",
            "Done.\n"
          ],
          "name": "stdout"
        },
        {
          "output_type": "execute_result",
          "data": {
            "text/html": [
              "<table>\n",
              "    <tr>\n",
              "        <th>Country</th>\n",
              "        <th>National Fugitives</th>\n",
              "        <th>Wanted Fugitives</th>\n",
              "        <th>Possible Hosted Fugitives / Captured Fugitives</th>\n",
              "        <th>Region</th>\n",
              "        <th>Flag</th>\n",
              "    </tr>\n",
              "    <tr>\n",
              "        <td>Albania</td>\n",
              "        <td>3</td>\n",
              "        <td>3</td>\n",
              "        <td>0</td>\n",
              "        <td>Europe</td>\n",
              "        <td>http://www.crwflags.com/fotw/images/a/al.gif</td>\n",
              "    </tr>\n",
              "    <tr>\n",
              "        <td>Angola</td>\n",
              "        <td>0</td>\n",
              "        <td>0</td>\n",
              "        <td>1</td>\n",
              "        <td>Northern Africa</td>\n",
              "        <td>http://www.crwflags.com/fotw/images/a/ao.gif</td>\n",
              "    </tr>\n",
              "    <tr>\n",
              "        <td>Argentina</td>\n",
              "        <td>2</td>\n",
              "        <td>2</td>\n",
              "        <td>1</td>\n",
              "        <td>South America</td>\n",
              "        <td>http://www.crwflags.com/fotw/images/a/ar.gif</td>\n",
              "    </tr>\n",
              "    <tr>\n",
              "        <td>Australia</td>\n",
              "        <td>1</td>\n",
              "        <td>1</td>\n",
              "        <td>2</td>\n",
              "        <td>Oceania</td>\n",
              "        <td>http://www.crwflags.com/fotw/images/a/au.gif</td>\n",
              "    </tr>\n",
              "    <tr>\n",
              "        <td>Austria</td>\n",
              "        <td>1</td>\n",
              "        <td>1</td>\n",
              "        <td>0</td>\n",
              "        <td>Europe</td>\n",
              "        <td>http://www.crwflags.com/fotw/images/a/at.gif</td>\n",
              "    </tr>\n",
              "</table>"
            ],
            "text/plain": [
              "[('Albania', 3, 3, 0, 'Europe', 'http://www.crwflags.com/fotw/images/a/al.gif'),\n",
              " ('Angola', 0, 0, 1, 'Northern Africa', 'http://www.crwflags.com/fotw/images/a/ao.gif'),\n",
              " ('Argentina', 2, 2, 1, 'South America', 'http://www.crwflags.com/fotw/images/a/ar.gif'),\n",
              " ('Australia', 1, 1, 2, 'Oceania', 'http://www.crwflags.com/fotw/images/a/au.gif'),\n",
              " ('Austria', 1, 1, 0, 'Europe', 'http://www.crwflags.com/fotw/images/a/at.gif')]"
            ]
          },
          "metadata": {
            "tags": []
          },
          "execution_count": 57
        }
      ]
    },
    {
      "cell_type": "code",
      "metadata": {
        "id": "VegwwqR_1TEz",
        "colab_type": "code",
        "colab": {
          "base_uri": "https://localhost:8080/",
          "height": 480
        },
        "outputId": "9834c3cb-1219-4f35-8d55-5ec3b3675d08"
      },
      "source": [
        "%%sql\n",
        "SELECT * from interpol WHERE NationalFugitives = 1 AND Region = 'Europe';"
      ],
      "execution_count": 78,
      "outputs": [
        {
          "output_type": "stream",
          "text": [
            " * sqlite://\n",
            "Done.\n"
          ],
          "name": "stdout"
        },
        {
          "output_type": "execute_result",
          "data": {
            "text/html": [
              "<table>\n",
              "    <tr>\n",
              "        <th>Country</th>\n",
              "        <th>NationalFugitives</th>\n",
              "        <th>WantedFugitives</th>\n",
              "        <th>PossibleHostedFugitives / Captured Fugitives</th>\n",
              "        <th>Region</th>\n",
              "        <th>Flag</th>\n",
              "    </tr>\n",
              "    <tr>\n",
              "        <td>Austria</td>\n",
              "        <td>1</td>\n",
              "        <td>1</td>\n",
              "        <td>0</td>\n",
              "        <td>Europe</td>\n",
              "        <td>http://www.crwflags.com/fotw/images/a/at.gif</td>\n",
              "    </tr>\n",
              "    <tr>\n",
              "        <td>Belarus</td>\n",
              "        <td>1</td>\n",
              "        <td>1</td>\n",
              "        <td>0</td>\n",
              "        <td>Europe</td>\n",
              "        <td>http://www.crwflags.com/fotw/images/b/by.gif</td>\n",
              "    </tr>\n",
              "    <tr>\n",
              "        <td>Croatia</td>\n",
              "        <td>1</td>\n",
              "        <td>1</td>\n",
              "        <td>1</td>\n",
              "        <td>Europe</td>\n",
              "        <td>http://www.crwflags.com/fotw/images/h/hr.gif</td>\n",
              "    </tr>\n",
              "    <tr>\n",
              "        <td>Estonia</td>\n",
              "        <td>1</td>\n",
              "        <td>2</td>\n",
              "        <td>0</td>\n",
              "        <td>Europe</td>\n",
              "        <td>http://www.crwflags.com/fotw/images/e/ee.gif</td>\n",
              "    </tr>\n",
              "    <tr>\n",
              "        <td>Germany</td>\n",
              "        <td>1</td>\n",
              "        <td>0</td>\n",
              "        <td>3</td>\n",
              "        <td>Europe</td>\n",
              "        <td>http://www.crwflags.com/fotw/images/d/de.gif</td>\n",
              "    </tr>\n",
              "    <tr>\n",
              "        <td>Greece</td>\n",
              "        <td>1</td>\n",
              "        <td>1</td>\n",
              "        <td>3</td>\n",
              "        <td>Europe</td>\n",
              "        <td>http://www.crwflags.com/fotw/images/g/gr.gif</td>\n",
              "    </tr>\n",
              "    <tr>\n",
              "        <td>Italy</td>\n",
              "        <td>1</td>\n",
              "        <td>1</td>\n",
              "        <td>3</td>\n",
              "        <td>Europe</td>\n",
              "        <td>http://www.crwflags.com/fotw/images/i/it.gif</td>\n",
              "    </tr>\n",
              "    <tr>\n",
              "        <td>Lithuania</td>\n",
              "        <td>1</td>\n",
              "        <td>1</td>\n",
              "        <td>0</td>\n",
              "        <td>Europe</td>\n",
              "        <td>http://www.crwflags.com/fotw/images/l/lt.gif</td>\n",
              "    </tr>\n",
              "    <tr>\n",
              "        <td>Spain</td>\n",
              "        <td>1</td>\n",
              "        <td>2</td>\n",
              "        <td>13</td>\n",
              "        <td>Europe</td>\n",
              "        <td>http://www.crwflags.com/fotw/images/e/es.gif</td>\n",
              "    </tr>\n",
              "    <tr>\n",
              "        <td>Ukraine</td>\n",
              "        <td>1</td>\n",
              "        <td>1</td>\n",
              "        <td>1</td>\n",
              "        <td>Europe</td>\n",
              "        <td>http://www.crwflags.com/fotw/images/u/ua.gif</td>\n",
              "    </tr>\n",
              "</table>"
            ],
            "text/plain": [
              "[('Austria', 1, 1, 0, 'Europe', 'http://www.crwflags.com/fotw/images/a/at.gif'),\n",
              " ('Belarus', 1, 1, 0, 'Europe', 'http://www.crwflags.com/fotw/images/b/by.gif'),\n",
              " ('Croatia', 1, 1, 1, 'Europe', 'http://www.crwflags.com/fotw/images/h/hr.gif'),\n",
              " ('Estonia', 1, 2, 0, 'Europe', 'http://www.crwflags.com/fotw/images/e/ee.gif'),\n",
              " ('Germany', 1, 0, 3, 'Europe', 'http://www.crwflags.com/fotw/images/d/de.gif'),\n",
              " ('Greece', 1, 1, 3, 'Europe', 'http://www.crwflags.com/fotw/images/g/gr.gif'),\n",
              " ('Italy', 1, 1, 3, 'Europe', 'http://www.crwflags.com/fotw/images/i/it.gif'),\n",
              " ('Lithuania', 1, 1, 0, 'Europe', 'http://www.crwflags.com/fotw/images/l/lt.gif'),\n",
              " ('Spain', 1, 2, 13, 'Europe', 'http://www.crwflags.com/fotw/images/e/es.gif'),\n",
              " ('Ukraine', 1, 1, 1, 'Europe', 'http://www.crwflags.com/fotw/images/u/ua.gif')]"
            ]
          },
          "metadata": {
            "tags": []
          },
          "execution_count": 78
        }
      ]
    },
    {
      "cell_type": "code",
      "metadata": {
        "id": "MEbwmuVi6IxR",
        "colab_type": "code",
        "colab": {
          "base_uri": "https://localhost:8080/",
          "height": 673
        },
        "outputId": "2e55aa66-7cd3-4b19-d36a-75bb8e76f3b6"
      },
      "source": [
        "%%sql\n",
        "select Region from interpol WHERE NationalFugitives=0;"
      ],
      "execution_count": 81,
      "outputs": [
        {
          "output_type": "stream",
          "text": [
            " * sqlite://\n",
            "Done.\n"
          ],
          "name": "stdout"
        },
        {
          "output_type": "execute_result",
          "data": {
            "text/html": [
              "<table>\n",
              "    <tr>\n",
              "        <th>Region</th>\n",
              "    </tr>\n",
              "    <tr>\n",
              "        <td>Northern Africa</td>\n",
              "    </tr>\n",
              "    <tr>\n",
              "        <td>Europe</td>\n",
              "    </tr>\n",
              "    <tr>\n",
              "        <td>South America</td>\n",
              "    </tr>\n",
              "    <tr>\n",
              "        <td>Southern Africa</td>\n",
              "    </tr>\n",
              "    <tr>\n",
              "        <td>Asia</td>\n",
              "    </tr>\n",
              "    <tr>\n",
              "        <td>Central America</td>\n",
              "    </tr>\n",
              "    <tr>\n",
              "        <td>Sub Saharan Africa</td>\n",
              "    </tr>\n",
              "    <tr>\n",
              "        <td>Central America</td>\n",
              "    </tr>\n",
              "    <tr>\n",
              "        <td>Central America</td>\n",
              "    </tr>\n",
              "    <tr>\n",
              "        <td>Europe</td>\n",
              "    </tr>\n",
              "    <tr>\n",
              "        <td>South America</td>\n",
              "    </tr>\n",
              "    <tr>\n",
              "        <td>Europe</td>\n",
              "    </tr>\n",
              "    <tr>\n",
              "        <td>Asia</td>\n",
              "    </tr>\n",
              "    <tr>\n",
              "        <td>Southern Africa</td>\n",
              "    </tr>\n",
              "    <tr>\n",
              "        <td>Europe</td>\n",
              "    </tr>\n",
              "    <tr>\n",
              "        <td>Sub Saharan Africa</td>\n",
              "    </tr>\n",
              "    <tr>\n",
              "        <td>Europe</td>\n",
              "    </tr>\n",
              "    <tr>\n",
              "        <td>Southern Africa</td>\n",
              "    </tr>\n",
              "    <tr>\n",
              "        <td>Southern Africa</td>\n",
              "    </tr>\n",
              "    <tr>\n",
              "        <td>Oceania</td>\n",
              "    </tr>\n",
              "    <tr>\n",
              "        <td>Europe</td>\n",
              "    </tr>\n",
              "    <tr>\n",
              "        <td>Central America</td>\n",
              "    </tr>\n",
              "    <tr>\n",
              "        <td>Asia</td>\n",
              "    </tr>\n",
              "    <tr>\n",
              "        <td>Europe</td>\n",
              "    </tr>\n",
              "    <tr>\n",
              "        <td>Sub Saharan Africa</td>\n",
              "    </tr>\n",
              "    <tr>\n",
              "        <td>Europe</td>\n",
              "    </tr>\n",
              "    <tr>\n",
              "        <td>South America</td>\n",
              "    </tr>\n",
              "    <tr>\n",
              "        <td>Southern Africa</td>\n",
              "    </tr>\n",
              "</table>"
            ],
            "text/plain": [
              "[('Northern Africa',),\n",
              " ('Europe',),\n",
              " ('South America',),\n",
              " ('Southern Africa',),\n",
              " ('Asia',),\n",
              " ('Central America',),\n",
              " ('Sub Saharan Africa',),\n",
              " ('Central America',),\n",
              " ('Central America',),\n",
              " ('Europe',),\n",
              " ('South America',),\n",
              " ('Europe',),\n",
              " ('Asia',),\n",
              " ('Southern Africa',),\n",
              " ('Europe',),\n",
              " ('Sub Saharan Africa',),\n",
              " ('Europe',),\n",
              " ('Southern Africa',),\n",
              " ('Southern Africa',),\n",
              " ('Oceania',),\n",
              " ('Europe',),\n",
              " ('Central America',),\n",
              " ('Asia',),\n",
              " ('Europe',),\n",
              " ('Sub Saharan Africa',),\n",
              " ('Europe',),\n",
              " ('South America',),\n",
              " ('Southern Africa',)]"
            ]
          },
          "metadata": {
            "tags": []
          },
          "execution_count": 81
        }
      ]
    },
    {
      "cell_type": "code",
      "metadata": {
        "id": "4pksP4OZcjT4",
        "colab_type": "code",
        "colab": {
          "base_uri": "https://localhost:8080/",
          "height": 86
        },
        "outputId": "dd6b5c4d-1ebc-42ad-f741-98b24248f1c8"
      },
      "source": [
        "# Challenge 1\n",
        "# Using the Interpol Dataset, let us get the Northern African countries that  \n",
        "# do not host possible fugitives or captured fugitives\n",
        "# \n",
        "\n",
        "%%sql\n",
        "select Country from interpol WHERE Region='Northern Africa' AND PossibleHostedFugitive=0; "
      ],
      "execution_count": 30,
      "outputs": [
        {
          "output_type": "stream",
          "text": [
            " * sqlite://\n",
            "(sqlite3.OperationalError) no such column: PossibleHostedFugitive\n",
            "[SQL: select Country from interpol WHERE Region='Northern Africa' AND PossibleHostedFugitive=0;]\n",
            "(Background on this error at: http://sqlalche.me/e/e3q8)\n"
          ],
          "name": "stdout"
        }
      ]
    }
  ]
}