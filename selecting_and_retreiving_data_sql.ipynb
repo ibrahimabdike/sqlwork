{
  "nbformat": 4,
  "nbformat_minor": 0,
  "metadata": {
    "colab": {
      "name": "selecting_and_retreiving_data_sql.ipynb",
      "version": "0.3.2",
      "provenance": [],
      "toc_visible": true,
      "include_colab_link": true
    },
    "kernelspec": {
      "name": "python3",
      "display_name": "Python 3"
    }
  },
  "cells": [
    {
      "cell_type": "markdown",
      "metadata": {
        "id": "view-in-github",
        "colab_type": "text"
      },
      "source": [
        "<a href=\"https://colab.research.google.com/github/yahyalito/sqlwork/blob/master/selecting_and_retreiving_data_sql.ipynb\" target=\"_parent\"><img src=\"https://colab.research.google.com/assets/colab-badge.svg\" alt=\"Open In Colab\"/></a>"
      ]
    },
    {
      "cell_type": "code",
      "metadata": {
        "id": "ZizjTcFFqCbO",
        "colab_type": "code",
        "colab": {
          "base_uri": "https://localhost:8080/",
          "height": 69
        },
        "outputId": "2f042697-93db-4c99-fcf7-b135408cb9b7"
      },
      "source": [
        "%load_ext sql\n",
        "%sql sqlite://"
      ],
      "execution_count": 58,
      "outputs": [
        {
          "output_type": "stream",
          "text": [
            "The sql extension is already loaded. To reload it, use:\n",
            "  %reload_ext sql\n"
          ],
          "name": "stdout"
        },
        {
          "output_type": "execute_result",
          "data": {
            "text/plain": [
              "'Connected: @None'"
            ]
          },
          "metadata": {
            "tags": []
          },
          "execution_count": 58
        }
      ]
    },
    {
      "cell_type": "code",
      "metadata": {
        "id": "5PntNvThqbQ1",
        "colab_type": "code",
        "colab": {}
      },
      "source": [
        "import csv\n",
        "import pandas as pd"
      ],
      "execution_count": 0,
      "outputs": []
    },
    {
      "cell_type": "code",
      "metadata": {
        "id": "1T-74V3Sqhvn",
        "colab_type": "code",
        "colab": {}
      },
      "source": [
        "with open('Countries.csv' , 'r') as f:\n",
        "  interpol= pd.read_csv(f, index_col=0 , encoding='utf-8')"
      ],
      "execution_count": 0,
      "outputs": []
    },
    {
      "cell_type": "code",
      "metadata": {
        "id": "WKNbvWK3rVUg",
        "colab_type": "code",
        "colab": {
          "base_uri": "https://localhost:8080/",
          "height": 69
        },
        "outputId": "274ee685-4931-457d-f802-fb2687f3ddf5"
      },
      "source": [
        "%%sql\n",
        "DROP TABLE if exists interpol;\n"
      ],
      "execution_count": 68,
      "outputs": [
        {
          "output_type": "stream",
          "text": [
            " * sqlite://\n",
            "Done.\n"
          ],
          "name": "stdout"
        },
        {
          "output_type": "execute_result",
          "data": {
            "text/plain": [
              "[]"
            ]
          },
          "metadata": {
            "tags": []
          },
          "execution_count": 68
        }
      ]
    },
    {
      "cell_type": "code",
      "metadata": {
        "id": "zDCsXwHDsAvs",
        "colab_type": "code",
        "colab": {
          "base_uri": "https://localhost:8080/",
          "height": 52
        },
        "outputId": "00e99e05-298a-457f-be42-054171c96aef"
      },
      "source": [
        "%sql PERSIST interpol;"
      ],
      "execution_count": 69,
      "outputs": [
        {
          "output_type": "stream",
          "text": [
            " * sqlite://\n"
          ],
          "name": "stdout"
        },
        {
          "output_type": "execute_result",
          "data": {
            "text/plain": [
              "'Persisted interpol'"
            ]
          },
          "metadata": {
            "tags": []
          },
          "execution_count": 69
        }
      ]
    },
    {
      "cell_type": "code",
      "metadata": {
        "id": "WoUVNlPWstoa",
        "colab_type": "code",
        "colab": {}
      },
      "source": [
        "with open('WorldCup.csv' , 'r') as f:\n",
        "  worldCup = pd.read_csv(f,index_col=0 ,encoding='utf-8')"
      ],
      "execution_count": 0,
      "outputs": []
    },
    {
      "cell_type": "code",
      "metadata": {
        "id": "KvrqrJuVvZyu",
        "colab_type": "code",
        "colab": {
          "base_uri": "https://localhost:8080/",
          "height": 69
        },
        "outputId": "6ce1681a-6c1b-4eb8-d5ff-70918528d6dc"
      },
      "source": [
        "%sql DROP TABLE if exists worldCup"
      ],
      "execution_count": 71,
      "outputs": [
        {
          "output_type": "stream",
          "text": [
            " * sqlite://\n",
            "Done.\n"
          ],
          "name": "stdout"
        },
        {
          "output_type": "execute_result",
          "data": {
            "text/plain": [
              "[]"
            ]
          },
          "metadata": {
            "tags": []
          },
          "execution_count": 71
        }
      ]
    },
    {
      "cell_type": "code",
      "metadata": {
        "id": "8rfTFtIvvnV4",
        "colab_type": "code",
        "colab": {
          "base_uri": "https://localhost:8080/",
          "height": 52
        },
        "outputId": "96f335c6-f206-4b8a-850f-00d9a7fc0ef7"
      },
      "source": [
        "%sql PERSIST worldCup;"
      ],
      "execution_count": 72,
      "outputs": [
        {
          "output_type": "stream",
          "text": [
            " * sqlite://\n"
          ],
          "name": "stdout"
        },
        {
          "output_type": "execute_result",
          "data": {
            "text/plain": [
              "'Persisted worldcup'"
            ]
          },
          "metadata": {
            "tags": []
          },
          "execution_count": 72
        }
      ]
    },
    {
      "cell_type": "code",
      "metadata": {
        "id": "oeCRN0vyxIEj",
        "colab_type": "code",
        "colab": {
          "base_uri": "https://localhost:8080/",
          "height": 286
        },
        "outputId": "439a0d4b-fcb7-4f51-fdc4-776a6922248a"
      },
      "source": [
        "%sql select * from interpol limit 5;"
      ],
      "execution_count": 73,
      "outputs": [
        {
          "output_type": "stream",
          "text": [
            " * sqlite://\n",
            "Done.\n"
          ],
          "name": "stdout"
        },
        {
          "output_type": "execute_result",
          "data": {
            "text/html": [
              "<table>\n",
              "    <tr>\n",
              "        <th>Country</th>\n",
              "        <th>NationalFugitives</th>\n",
              "        <th>WantedFugitives</th>\n",
              "        <th>PossibleHostedFugitives / Captured Fugitives</th>\n",
              "        <th>Region</th>\n",
              "        <th>Flag</th>\n",
              "    </tr>\n",
              "    <tr>\n",
              "        <td>Albania</td>\n",
              "        <td>3</td>\n",
              "        <td>3</td>\n",
              "        <td>0</td>\n",
              "        <td>Europe</td>\n",
              "        <td>http://www.crwflags.com/fotw/images/a/al.gif</td>\n",
              "    </tr>\n",
              "    <tr>\n",
              "        <td>Angola</td>\n",
              "        <td>0</td>\n",
              "        <td>0</td>\n",
              "        <td>1</td>\n",
              "        <td>Northern Africa</td>\n",
              "        <td>http://www.crwflags.com/fotw/images/a/ao.gif</td>\n",
              "    </tr>\n",
              "    <tr>\n",
              "        <td>Argentina</td>\n",
              "        <td>2</td>\n",
              "        <td>2</td>\n",
              "        <td>1</td>\n",
              "        <td>South America</td>\n",
              "        <td>http://www.crwflags.com/fotw/images/a/ar.gif</td>\n",
              "    </tr>\n",
              "    <tr>\n",
              "        <td>Australia</td>\n",
              "        <td>1</td>\n",
              "        <td>1</td>\n",
              "        <td>2</td>\n",
              "        <td>Oceania</td>\n",
              "        <td>http://www.crwflags.com/fotw/images/a/au.gif</td>\n",
              "    </tr>\n",
              "    <tr>\n",
              "        <td>Austria</td>\n",
              "        <td>1</td>\n",
              "        <td>1</td>\n",
              "        <td>0</td>\n",
              "        <td>Europe</td>\n",
              "        <td>http://www.crwflags.com/fotw/images/a/at.gif</td>\n",
              "    </tr>\n",
              "</table>"
            ],
            "text/plain": [
              "[('Albania', 3, 3, 0, 'Europe', 'http://www.crwflags.com/fotw/images/a/al.gif'),\n",
              " ('Angola', 0, 0, 1, 'Northern Africa', 'http://www.crwflags.com/fotw/images/a/ao.gif'),\n",
              " ('Argentina', 2, 2, 1, 'South America', 'http://www.crwflags.com/fotw/images/a/ar.gif'),\n",
              " ('Australia', 1, 1, 2, 'Oceania', 'http://www.crwflags.com/fotw/images/a/au.gif'),\n",
              " ('Austria', 1, 1, 0, 'Europe', 'http://www.crwflags.com/fotw/images/a/at.gif')]"
            ]
          },
          "metadata": {
            "tags": []
          },
          "execution_count": 73
        }
      ]
    },
    {
      "cell_type": "code",
      "metadata": {
        "id": "wpEyOs3NxVxa",
        "colab_type": "code",
        "colab": {
          "base_uri": "https://localhost:8080/",
          "height": 376
        },
        "outputId": "ee163469-6768-4075-d52b-3d8782e8c51d"
      },
      "source": [
        "%sql select * from worldcup limit 5;"
      ],
      "execution_count": 37,
      "outputs": [
        {
          "output_type": "stream",
          "text": [
            " * sqlite://\n",
            "Done.\n"
          ],
          "name": "stdout"
        },
        {
          "output_type": "execute_result",
          "data": {
            "text/html": [
              "<table>\n",
              "    <tr>\n",
              "        <th>Year</th>\n",
              "        <th>Datetime</th>\n",
              "        <th>Stage</th>\n",
              "        <th>Stadium</th>\n",
              "        <th>City</th>\n",
              "        <th>Home_Team_Name</th>\n",
              "        <th>Home_Team_Goals</th>\n",
              "        <th>Away_Team_Goals</th>\n",
              "        <th>Away_Team_Name</th>\n",
              "        <th>Win_conditions</th>\n",
              "        <th>Attendance</th>\n",
              "        <th>Halftime_Home_Goals</th>\n",
              "        <th>Halftime_Away_Goals</th>\n",
              "        <th>Referee</th>\n",
              "        <th>Assistant1</th>\n",
              "        <th>Assistant2</th>\n",
              "        <th>RoundID</th>\n",
              "        <th>MatchID</th>\n",
              "        <th>Home_Team_Initials</th>\n",
              "        <th>Away_Team_Initials</th>\n",
              "    </tr>\n",
              "    <tr>\n",
              "        <td>1930</td>\n",
              "        <td>13 Jul 1930 - 15:00 </td>\n",
              "        <td>Group 1</td>\n",
              "        <td>Pocitos</td>\n",
              "        <td>Montevideo </td>\n",
              "        <td>France</td>\n",
              "        <td>4</td>\n",
              "        <td>1</td>\n",
              "        <td>Mexico</td>\n",
              "        <td> </td>\n",
              "        <td>4444.0</td>\n",
              "        <td>3</td>\n",
              "        <td>0</td>\n",
              "        <td>LOMBARDI Domingo (URU)</td>\n",
              "        <td>CRISTOPHE Henry (BEL)</td>\n",
              "        <td>REGO Gilberto (BRA)</td>\n",
              "        <td>201</td>\n",
              "        <td>1096</td>\n",
              "        <td>FRA</td>\n",
              "        <td>MEX</td>\n",
              "    </tr>\n",
              "    <tr>\n",
              "        <td>1930</td>\n",
              "        <td>13 Jul 1930 - 15:00 </td>\n",
              "        <td>Group 4</td>\n",
              "        <td>Parque Central</td>\n",
              "        <td>Montevideo </td>\n",
              "        <td>USA</td>\n",
              "        <td>3</td>\n",
              "        <td>0</td>\n",
              "        <td>Belgium</td>\n",
              "        <td> </td>\n",
              "        <td>18346.0</td>\n",
              "        <td>2</td>\n",
              "        <td>0</td>\n",
              "        <td>MACIAS Jose (ARG)</td>\n",
              "        <td>MATEUCCI Francisco (URU)</td>\n",
              "        <td>WARNKEN Alberto (CHI)</td>\n",
              "        <td>201</td>\n",
              "        <td>1090</td>\n",
              "        <td>USA</td>\n",
              "        <td>BEL</td>\n",
              "    </tr>\n",
              "    <tr>\n",
              "        <td>1930</td>\n",
              "        <td>14 Jul 1930 - 12:45 </td>\n",
              "        <td>Group 2</td>\n",
              "        <td>Parque Central</td>\n",
              "        <td>Montevideo </td>\n",
              "        <td>Yugoslavia</td>\n",
              "        <td>2</td>\n",
              "        <td>1</td>\n",
              "        <td>Brazil</td>\n",
              "        <td> </td>\n",
              "        <td>24059.0</td>\n",
              "        <td>2</td>\n",
              "        <td>0</td>\n",
              "        <td>TEJADA Anibal (URU)</td>\n",
              "        <td>VALLARINO Ricardo (URU)</td>\n",
              "        <td>BALWAY Thomas (FRA)</td>\n",
              "        <td>201</td>\n",
              "        <td>1093</td>\n",
              "        <td>YUG</td>\n",
              "        <td>BRA</td>\n",
              "    </tr>\n",
              "    <tr>\n",
              "        <td>1930</td>\n",
              "        <td>14 Jul 1930 - 14:50 </td>\n",
              "        <td>Group 3</td>\n",
              "        <td>Pocitos</td>\n",
              "        <td>Montevideo </td>\n",
              "        <td>Romania</td>\n",
              "        <td>3</td>\n",
              "        <td>1</td>\n",
              "        <td>Peru</td>\n",
              "        <td> </td>\n",
              "        <td>2549.0</td>\n",
              "        <td>1</td>\n",
              "        <td>0</td>\n",
              "        <td>WARNKEN Alberto (CHI)</td>\n",
              "        <td>LANGENUS Jean (BEL)</td>\n",
              "        <td>MATEUCCI Francisco (URU)</td>\n",
              "        <td>201</td>\n",
              "        <td>1098</td>\n",
              "        <td>ROU</td>\n",
              "        <td>PER</td>\n",
              "    </tr>\n",
              "    <tr>\n",
              "        <td>1930</td>\n",
              "        <td>15 Jul 1930 - 16:00 </td>\n",
              "        <td>Group 1</td>\n",
              "        <td>Parque Central</td>\n",
              "        <td>Montevideo </td>\n",
              "        <td>Argentina</td>\n",
              "        <td>1</td>\n",
              "        <td>0</td>\n",
              "        <td>France</td>\n",
              "        <td> </td>\n",
              "        <td>23409.0</td>\n",
              "        <td>0</td>\n",
              "        <td>0</td>\n",
              "        <td>REGO Gilberto (BRA)</td>\n",
              "        <td>SAUCEDO Ulises (BOL)</td>\n",
              "        <td>RADULESCU Constantin (ROU)</td>\n",
              "        <td>201</td>\n",
              "        <td>1085</td>\n",
              "        <td>ARG</td>\n",
              "        <td>FRA</td>\n",
              "    </tr>\n",
              "</table>"
            ],
            "text/plain": [
              "[(1930, '13 Jul 1930 - 15:00 ', 'Group 1', 'Pocitos', 'Montevideo ', 'France', 4, 1, 'Mexico', ' ', 4444.0, 3, 0, 'LOMBARDI Domingo (URU)', 'CRISTOPHE Henry (BEL)', 'REGO Gilberto (BRA)', 201, 1096, 'FRA', 'MEX'),\n",
              " (1930, '13 Jul 1930 - 15:00 ', 'Group 4', 'Parque Central', 'Montevideo ', 'USA', 3, 0, 'Belgium', ' ', 18346.0, 2, 0, 'MACIAS Jose (ARG)', 'MATEUCCI Francisco (URU)', 'WARNKEN Alberto (CHI)', 201, 1090, 'USA', 'BEL'),\n",
              " (1930, '14 Jul 1930 - 12:45 ', 'Group 2', 'Parque Central', 'Montevideo ', 'Yugoslavia', 2, 1, 'Brazil', ' ', 24059.0, 2, 0, 'TEJADA Anibal (URU)', 'VALLARINO Ricardo (URU)', 'BALWAY Thomas (FRA)', 201, 1093, 'YUG', 'BRA'),\n",
              " (1930, '14 Jul 1930 - 14:50 ', 'Group 3', 'Pocitos', 'Montevideo ', 'Romania', 3, 1, 'Peru', ' ', 2549.0, 1, 0, 'WARNKEN Alberto (CHI)', 'LANGENUS Jean (BEL)', 'MATEUCCI Francisco (URU)', 201, 1098, 'ROU', 'PER'),\n",
              " (1930, '15 Jul 1930 - 16:00 ', 'Group 1', 'Parque Central', 'Montevideo ', 'Argentina', 1, 0, 'France', ' ', 23409.0, 0, 0, 'REGO Gilberto (BRA)', 'SAUCEDO Ulises (BOL)', 'RADULESCU Constantin (ROU)', 201, 1085, 'ARG', 'FRA')]"
            ]
          },
          "metadata": {
            "tags": []
          },
          "execution_count": 37
        }
      ]
    },
    {
      "cell_type": "code",
      "metadata": {
        "id": "PUcjXWer0Nal",
        "colab_type": "code",
        "colab": {
          "base_uri": "https://localhost:8080/",
          "height": 182
        },
        "outputId": "8a201f1c-390b-4c3b-bcd4-15406c00204c"
      },
      "source": [
        "%%sql\n",
        "select Country from interpol limit 5;"
      ],
      "execution_count": 40,
      "outputs": [
        {
          "output_type": "stream",
          "text": [
            " * sqlite://\n",
            "Done.\n"
          ],
          "name": "stdout"
        },
        {
          "output_type": "execute_result",
          "data": {
            "text/html": [
              "<table>\n",
              "    <tr>\n",
              "        <th>Country</th>\n",
              "    </tr>\n",
              "    <tr>\n",
              "        <td>Albania</td>\n",
              "    </tr>\n",
              "    <tr>\n",
              "        <td>Angola</td>\n",
              "    </tr>\n",
              "    <tr>\n",
              "        <td>Argentina</td>\n",
              "    </tr>\n",
              "    <tr>\n",
              "        <td>Australia</td>\n",
              "    </tr>\n",
              "    <tr>\n",
              "        <td>Austria</td>\n",
              "    </tr>\n",
              "</table>"
            ],
            "text/plain": [
              "[('Albania',), ('Angola',), ('Argentina',), ('Australia',), ('Austria',)]"
            ]
          },
          "metadata": {
            "tags": []
          },
          "execution_count": 40
        }
      ]
    },
    {
      "cell_type": "code",
      "metadata": {
        "id": "ZUj-S5Rj4Bst",
        "colab_type": "code",
        "colab": {
          "base_uri": "https://localhost:8080/",
          "height": 286
        },
        "outputId": "49af85fd-2134-46d4-feb4-66140b3fe681"
      },
      "source": [
        "%%sql\n",
        "select * from interpol limit 5;"
      ],
      "execution_count": 57,
      "outputs": [
        {
          "output_type": "stream",
          "text": [
            " * sqlite://\n",
            "Done.\n"
          ],
          "name": "stdout"
        },
        {
          "output_type": "execute_result",
          "data": {
            "text/html": [
              "<table>\n",
              "    <tr>\n",
              "        <th>Country</th>\n",
              "        <th>National Fugitives</th>\n",
              "        <th>Wanted Fugitives</th>\n",
              "        <th>Possible Hosted Fugitives / Captured Fugitives</th>\n",
              "        <th>Region</th>\n",
              "        <th>Flag</th>\n",
              "    </tr>\n",
              "    <tr>\n",
              "        <td>Albania</td>\n",
              "        <td>3</td>\n",
              "        <td>3</td>\n",
              "        <td>0</td>\n",
              "        <td>Europe</td>\n",
              "        <td>http://www.crwflags.com/fotw/images/a/al.gif</td>\n",
              "    </tr>\n",
              "    <tr>\n",
              "        <td>Angola</td>\n",
              "        <td>0</td>\n",
              "        <td>0</td>\n",
              "        <td>1</td>\n",
              "        <td>Northern Africa</td>\n",
              "        <td>http://www.crwflags.com/fotw/images/a/ao.gif</td>\n",
              "    </tr>\n",
              "    <tr>\n",
              "        <td>Argentina</td>\n",
              "        <td>2</td>\n",
              "        <td>2</td>\n",
              "        <td>1</td>\n",
              "        <td>South America</td>\n",
              "        <td>http://www.crwflags.com/fotw/images/a/ar.gif</td>\n",
              "    </tr>\n",
              "    <tr>\n",
              "        <td>Australia</td>\n",
              "        <td>1</td>\n",
              "        <td>1</td>\n",
              "        <td>2</td>\n",
              "        <td>Oceania</td>\n",
              "        <td>http://www.crwflags.com/fotw/images/a/au.gif</td>\n",
              "    </tr>\n",
              "    <tr>\n",
              "        <td>Austria</td>\n",
              "        <td>1</td>\n",
              "        <td>1</td>\n",
              "        <td>0</td>\n",
              "        <td>Europe</td>\n",
              "        <td>http://www.crwflags.com/fotw/images/a/at.gif</td>\n",
              "    </tr>\n",
              "</table>"
            ],
            "text/plain": [
              "[('Albania', 3, 3, 0, 'Europe', 'http://www.crwflags.com/fotw/images/a/al.gif'),\n",
              " ('Angola', 0, 0, 1, 'Northern Africa', 'http://www.crwflags.com/fotw/images/a/ao.gif'),\n",
              " ('Argentina', 2, 2, 1, 'South America', 'http://www.crwflags.com/fotw/images/a/ar.gif'),\n",
              " ('Australia', 1, 1, 2, 'Oceania', 'http://www.crwflags.com/fotw/images/a/au.gif'),\n",
              " ('Austria', 1, 1, 0, 'Europe', 'http://www.crwflags.com/fotw/images/a/at.gif')]"
            ]
          },
          "metadata": {
            "tags": []
          },
          "execution_count": 57
        }
      ]
    },
    {
      "cell_type": "code",
      "metadata": {
        "id": "VegwwqR_1TEz",
        "colab_type": "code",
        "colab": {
          "base_uri": "https://localhost:8080/",
          "height": 480
        },
        "outputId": "9834c3cb-1219-4f35-8d55-5ec3b3675d08"
      },
      "source": [
        "%%sql\n",
        "SELECT * from interpol WHERE NationalFugitives = 1 AND Region = 'Europe';"
      ],
      "execution_count": 78,
      "outputs": [
        {
          "output_type": "stream",
          "text": [
            " * sqlite://\n",
            "Done.\n"
          ],
          "name": "stdout"
        },
        {
          "output_type": "execute_result",
          "data": {
            "text/html": [
              "<table>\n",
              "    <tr>\n",
              "        <th>Country</th>\n",
              "        <th>NationalFugitives</th>\n",
              "        <th>WantedFugitives</th>\n",
              "        <th>PossibleHostedFugitives / Captured Fugitives</th>\n",
              "        <th>Region</th>\n",
              "        <th>Flag</th>\n",
              "    </tr>\n",
              "    <tr>\n",
              "        <td>Austria</td>\n",
              "        <td>1</td>\n",
              "        <td>1</td>\n",
              "        <td>0</td>\n",
              "        <td>Europe</td>\n",
              "        <td>http://www.crwflags.com/fotw/images/a/at.gif</td>\n",
              "    </tr>\n",
              "    <tr>\n",
              "        <td>Belarus</td>\n",
              "        <td>1</td>\n",
              "        <td>1</td>\n",
              "        <td>0</td>\n",
              "        <td>Europe</td>\n",
              "        <td>http://www.crwflags.com/fotw/images/b/by.gif</td>\n",
              "    </tr>\n",
              "    <tr>\n",
              "        <td>Croatia</td>\n",
              "        <td>1</td>\n",
              "        <td>1</td>\n",
              "        <td>1</td>\n",
              "        <td>Europe</td>\n",
              "        <td>http://www.crwflags.com/fotw/images/h/hr.gif</td>\n",
              "    </tr>\n",
              "    <tr>\n",
              "        <td>Estonia</td>\n",
              "        <td>1</td>\n",
              "        <td>2</td>\n",
              "        <td>0</td>\n",
              "        <td>Europe</td>\n",
              "        <td>http://www.crwflags.com/fotw/images/e/ee.gif</td>\n",
              "    </tr>\n",
              "    <tr>\n",
              "        <td>Germany</td>\n",
              "        <td>1</td>\n",
              "        <td>0</td>\n",
              "        <td>3</td>\n",
              "        <td>Europe</td>\n",
              "        <td>http://www.crwflags.com/fotw/images/d/de.gif</td>\n",
              "    </tr>\n",
              "    <tr>\n",
              "        <td>Greece</td>\n",
              "        <td>1</td>\n",
              "        <td>1</td>\n",
              "        <td>3</td>\n",
              "        <td>Europe</td>\n",
              "        <td>http://www.crwflags.com/fotw/images/g/gr.gif</td>\n",
              "    </tr>\n",
              "    <tr>\n",
              "        <td>Italy</td>\n",
              "        <td>1</td>\n",
              "        <td>1</td>\n",
              "        <td>3</td>\n",
              "        <td>Europe</td>\n",
              "        <td>http://www.crwflags.com/fotw/images/i/it.gif</td>\n",
              "    </tr>\n",
              "    <tr>\n",
              "        <td>Lithuania</td>\n",
              "        <td>1</td>\n",
              "        <td>1</td>\n",
              "        <td>0</td>\n",
              "        <td>Europe</td>\n",
              "        <td>http://www.crwflags.com/fotw/images/l/lt.gif</td>\n",
              "    </tr>\n",
              "    <tr>\n",
              "        <td>Spain</td>\n",
              "        <td>1</td>\n",
              "        <td>2</td>\n",
              "        <td>13</td>\n",
              "        <td>Europe</td>\n",
              "        <td>http://www.crwflags.com/fotw/images/e/es.gif</td>\n",
              "    </tr>\n",
              "    <tr>\n",
              "        <td>Ukraine</td>\n",
              "        <td>1</td>\n",
              "        <td>1</td>\n",
              "        <td>1</td>\n",
              "        <td>Europe</td>\n",
              "        <td>http://www.crwflags.com/fotw/images/u/ua.gif</td>\n",
              "    </tr>\n",
              "</table>"
            ],
            "text/plain": [
              "[('Austria', 1, 1, 0, 'Europe', 'http://www.crwflags.com/fotw/images/a/at.gif'),\n",
              " ('Belarus', 1, 1, 0, 'Europe', 'http://www.crwflags.com/fotw/images/b/by.gif'),\n",
              " ('Croatia', 1, 1, 1, 'Europe', 'http://www.crwflags.com/fotw/images/h/hr.gif'),\n",
              " ('Estonia', 1, 2, 0, 'Europe', 'http://www.crwflags.com/fotw/images/e/ee.gif'),\n",
              " ('Germany', 1, 0, 3, 'Europe', 'http://www.crwflags.com/fotw/images/d/de.gif'),\n",
              " ('Greece', 1, 1, 3, 'Europe', 'http://www.crwflags.com/fotw/images/g/gr.gif'),\n",
              " ('Italy', 1, 1, 3, 'Europe', 'http://www.crwflags.com/fotw/images/i/it.gif'),\n",
              " ('Lithuania', 1, 1, 0, 'Europe', 'http://www.crwflags.com/fotw/images/l/lt.gif'),\n",
              " ('Spain', 1, 2, 13, 'Europe', 'http://www.crwflags.com/fotw/images/e/es.gif'),\n",
              " ('Ukraine', 1, 1, 1, 'Europe', 'http://www.crwflags.com/fotw/images/u/ua.gif')]"
            ]
          },
          "metadata": {
            "tags": []
          },
          "execution_count": 78
        }
      ]
    },
    {
      "cell_type": "code",
      "metadata": {
        "id": "MEbwmuVi6IxR",
        "colab_type": "code",
        "colab": {
          "base_uri": "https://localhost:8080/",
          "height": 673
        },
        "outputId": "2e55aa66-7cd3-4b19-d36a-75bb8e76f3b6"
      },
      "source": [
        "%%sql\n",
        "select Region from interpol WHERE NationalFugitives=0;"
      ],
      "execution_count": 81,
      "outputs": [
        {
          "output_type": "stream",
          "text": [
            " * sqlite://\n",
            "Done.\n"
          ],
          "name": "stdout"
        },
        {
          "output_type": "execute_result",
          "data": {
            "text/html": [
              "<table>\n",
              "    <tr>\n",
              "        <th>Region</th>\n",
              "    </tr>\n",
              "    <tr>\n",
              "        <td>Northern Africa</td>\n",
              "    </tr>\n",
              "    <tr>\n",
              "        <td>Europe</td>\n",
              "    </tr>\n",
              "    <tr>\n",
              "        <td>South America</td>\n",
              "    </tr>\n",
              "    <tr>\n",
              "        <td>Southern Africa</td>\n",
              "    </tr>\n",
              "    <tr>\n",
              "        <td>Asia</td>\n",
              "    </tr>\n",
              "    <tr>\n",
              "        <td>Central America</td>\n",
              "    </tr>\n",
              "    <tr>\n",
              "        <td>Sub Saharan Africa</td>\n",
              "    </tr>\n",
              "    <tr>\n",
              "        <td>Central America</td>\n",
              "    </tr>\n",
              "    <tr>\n",
              "        <td>Central America</td>\n",
              "    </tr>\n",
              "    <tr>\n",
              "        <td>Europe</td>\n",
              "    </tr>\n",
              "    <tr>\n",
              "        <td>South America</td>\n",
              "    </tr>\n",
              "    <tr>\n",
              "        <td>Europe</td>\n",
              "    </tr>\n",
              "    <tr>\n",
              "        <td>Asia</td>\n",
              "    </tr>\n",
              "    <tr>\n",
              "        <td>Southern Africa</td>\n",
              "    </tr>\n",
              "    <tr>\n",
              "        <td>Europe</td>\n",
              "    </tr>\n",
              "    <tr>\n",
              "        <td>Sub Saharan Africa</td>\n",
              "    </tr>\n",
              "    <tr>\n",
              "        <td>Europe</td>\n",
              "    </tr>\n",
              "    <tr>\n",
              "        <td>Southern Africa</td>\n",
              "    </tr>\n",
              "    <tr>\n",
              "        <td>Southern Africa</td>\n",
              "    </tr>\n",
              "    <tr>\n",
              "        <td>Oceania</td>\n",
              "    </tr>\n",
              "    <tr>\n",
              "        <td>Europe</td>\n",
              "    </tr>\n",
              "    <tr>\n",
              "        <td>Central America</td>\n",
              "    </tr>\n",
              "    <tr>\n",
              "        <td>Asia</td>\n",
              "    </tr>\n",
              "    <tr>\n",
              "        <td>Europe</td>\n",
              "    </tr>\n",
              "    <tr>\n",
              "        <td>Sub Saharan Africa</td>\n",
              "    </tr>\n",
              "    <tr>\n",
              "        <td>Europe</td>\n",
              "    </tr>\n",
              "    <tr>\n",
              "        <td>South America</td>\n",
              "    </tr>\n",
              "    <tr>\n",
              "        <td>Southern Africa</td>\n",
              "    </tr>\n",
              "</table>"
            ],
            "text/plain": [
              "[('Northern Africa',),\n",
              " ('Europe',),\n",
              " ('South America',),\n",
              " ('Southern Africa',),\n",
              " ('Asia',),\n",
              " ('Central America',),\n",
              " ('Sub Saharan Africa',),\n",
              " ('Central America',),\n",
              " ('Central America',),\n",
              " ('Europe',),\n",
              " ('South America',),\n",
              " ('Europe',),\n",
              " ('Asia',),\n",
              " ('Southern Africa',),\n",
              " ('Europe',),\n",
              " ('Sub Saharan Africa',),\n",
              " ('Europe',),\n",
              " ('Southern Africa',),\n",
              " ('Southern Africa',),\n",
              " ('Oceania',),\n",
              " ('Europe',),\n",
              " ('Central America',),\n",
              " ('Asia',),\n",
              " ('Europe',),\n",
              " ('Sub Saharan Africa',),\n",
              " ('Europe',),\n",
              " ('South America',),\n",
              " ('Southern Africa',)]"
            ]
          },
          "metadata": {
            "tags": []
          },
          "execution_count": 81
        }
      ]
    }
  ]
}